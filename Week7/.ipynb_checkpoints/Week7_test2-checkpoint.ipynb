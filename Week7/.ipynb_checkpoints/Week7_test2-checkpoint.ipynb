{
 "cells": [
  {
   "cell_type": "markdown",
   "id": "c99e5f9f-c5a5-499f-94b9-e40b2e500192",
   "metadata": {},
   "source": [
    "Data types:  \n",
    "https://towardsdatascience.com/7-data-types-a-better-way-to-think-about-data-types-for-machine-learning-939fae99a689  \n",
    "https://www.datacamp.com/community/tutorials/categorical-data"
   ]
  },
  {
   "cell_type": "code",
   "execution_count": 1,
   "id": "80131bc0-c77a-40d9-868c-decd3e302851",
   "metadata": {},
   "outputs": [],
   "source": [
    "import numpy as np\n",
    "import pandas as pd\n",
    "import random\n",
    "random.seed(42)"
   ]
  },
  {
   "cell_type": "code",
   "execution_count": 2,
   "id": "4413dddd-189e-4820-a2ab-dc4b32e72f70",
   "metadata": {},
   "outputs": [],
   "source": [
    "file = '../Week7/expedia-hotel-recommendations/train.csv'\n",
    "\n",
    "n = 37670293 # number of records in file\n",
    "s = 10000 # desired sample size\n",
    "skip = sorted(random.sample(range(n), n-s))\n",
    "colNames = pd.read_csv(file, nrows=1).columns\n",
    "ranDF = pd.read_csv(file, skiprows=skip, names=colNames)"
   ]
  },
  {
   "cell_type": "code",
   "execution_count": 4,
   "id": "e7e47ed5-3fe7-4943-88f5-07f00e5d3112",
   "metadata": {},
   "outputs": [
    {
     "data": {
      "text/plain": [
       "(10001, 24)"
      ]
     },
     "execution_count": 4,
     "metadata": {},
     "output_type": "execute_result"
    }
   ],
   "source": [
    "ranDF.shape"
   ]
  },
  {
   "cell_type": "code",
   "execution_count": 5,
   "id": "fef0d004-9dc0-43c0-8bbf-b9bd05db8df2",
   "metadata": {},
   "outputs": [],
   "source": [
    "ranDF.dropna(axis=0, inplace=True)"
   ]
  },
  {
   "cell_type": "code",
   "execution_count": 6,
   "id": "90b5de3e-5ff2-4fb8-bd03-a02227ca5d2b",
   "metadata": {},
   "outputs": [
    {
     "data": {
      "text/plain": [
       "(6374, 24)"
      ]
     },
     "execution_count": 6,
     "metadata": {},
     "output_type": "execute_result"
    }
   ],
   "source": [
    "ranDF.shape"
   ]
  },
  {
   "cell_type": "code",
   "execution_count": 67,
   "id": "7d72f99a-a674-49cf-a6f8-cd1ee33463c3",
   "metadata": {},
   "outputs": [
    {
     "name": "stdout",
     "output_type": "stream",
     "text": [
      "<class 'pandas.core.frame.DataFrame'>\n",
      "Int64Index: 6374 entries, 0 to 10000\n",
      "Data columns (total 24 columns):\n",
      " #   Column                     Non-Null Count  Dtype  \n",
      "---  ------                     --------------  -----  \n",
      " 0   date_time                  6374 non-null   object \n",
      " 1   site_name                  6374 non-null   int64  \n",
      " 2   posa_continent             6374 non-null   int64  \n",
      " 3   user_location_country      6374 non-null   int64  \n",
      " 4   user_location_region       6374 non-null   int64  \n",
      " 5   user_location_city         6374 non-null   int64  \n",
      " 6   orig_destination_distance  6374 non-null   float64\n",
      " 7   user_id                    6374 non-null   int64  \n",
      " 8   is_mobile                  6374 non-null   int64  \n",
      " 9   is_package                 6374 non-null   int64  \n",
      " 10  channel                    6374 non-null   int64  \n",
      " 11  srch_ci                    6374 non-null   object \n",
      " 12  srch_co                    6374 non-null   object \n",
      " 13  srch_adults_cnt            6374 non-null   int64  \n",
      " 14  srch_children_cnt          6374 non-null   int64  \n",
      " 15  srch_rm_cnt                6374 non-null   int64  \n",
      " 16  srch_destination_id        6374 non-null   int64  \n",
      " 17  srch_destination_type_id   6374 non-null   int64  \n",
      " 18  is_booking                 6374 non-null   int64  \n",
      " 19  cnt                        6374 non-null   int64  \n",
      " 20  hotel_continent            6374 non-null   int64  \n",
      " 21  hotel_country              6374 non-null   int64  \n",
      " 22  hotel_market               6374 non-null   int64  \n",
      " 23  hotel_cluster              6374 non-null   int64  \n",
      "dtypes: float64(1), int64(20), object(3)\n",
      "memory usage: 1.2+ MB\n"
     ]
    }
   ],
   "source": [
    "ranDF.info()"
   ]
  },
  {
   "cell_type": "markdown",
   "id": "47bd13e4-673d-4d14-97e5-095bc063a141",
   "metadata": {},
   "source": [
    "* date_time: DoW? MoY?\n",
    "* site_name: 2 or not 2  \n",
    "* posa_continent: 3 or not 3\n",
    "* user_location_country: 66 (15% 205)\n",
    "* user_location_region: as is, or group everything >500\n",
    "* user_location_city: good 👍\n",
    "* orig_destination_distance: skews right, transform?\n",
    "* user_id: ignore for modeling (unless, counts?)\n",
    "* is_mobile: binary\n",
    "* is_package: binary\n",
    "* channel: 9 or not 9 (or leave as-is?)\n",
    "* srch_ci / srch_co: maybe time difference (length of stay) or DoW?\n",
    "* srch_adults_cnt: good 👍\n",
    "* srch_children_cnt: good 👍\n",
    "* srch_rm_cnt: good 👍\n",
    "* srch_destination_id: as-is or group (0-1k, 1k-2k, 2k+ or 2k-3k and 3k+)?? or remove?\n",
    "* srch_destination_type_id: good 👍\n",
    "* is_booking: binary\n",
    "* cnt: good (skews, transform maybe?)\n",
    "* hotel_continent: probably good (dummies) or 2/not2?\n",
    "* hotel_country: 50, not 50\n",
    "* hotel_market: idk... 0-500, 500-1k, 1k+?\n",
    "* hotel_cluster: TARGET VARIABLE"
   ]
  },
  {
   "cell_type": "code",
   "execution_count": 108,
   "id": "2698f179-1218-4896-9be5-a2a87164c865",
   "metadata": {},
   "outputs": [
    {
     "data": {
      "text/plain": [
       "174    1038\n",
       "348     416\n",
       "354     351\n",
       "442     347\n",
       "220     338\n",
       "       ... \n",
       "234       1\n",
       "438       1\n",
       "217       1\n",
       "358       1\n",
       "419       1\n",
       "Name: user_location_region, Length: 146, dtype: int64"
      ]
     },
     "execution_count": 108,
     "metadata": {},
     "output_type": "execute_result"
    }
   ],
   "source": [
    "ranDF.user_location_region.value_counts()"
   ]
  },
  {
   "cell_type": "code",
   "execution_count": 109,
   "id": "01afeeb4-e058-46c2-ad5d-0f6a22bb0b6f",
   "metadata": {},
   "outputs": [
    {
     "data": {
      "text/plain": [
       "146"
      ]
     },
     "execution_count": 109,
     "metadata": {},
     "output_type": "execute_result"
    }
   ],
   "source": [
    "len(ranDF.user_location_region.unique())"
   ]
  },
  {
   "cell_type": "code",
   "execution_count": 8,
   "id": "058ef0fc-eef2-468b-b725-850292769298",
   "metadata": {},
   "outputs": [
    {
     "data": {
      "text/plain": [
       "0.14778788829620332"
      ]
     },
     "execution_count": 8,
     "metadata": {},
     "output_type": "execute_result"
    }
   ],
   "source": [
    "942/6374"
   ]
  },
  {
   "cell_type": "code",
   "execution_count": 25,
   "id": "85be69b9-c0b4-4b59-829f-67e2e4d0589b",
   "metadata": {},
   "outputs": [],
   "source": [
    "import matplotlib.pyplot as plt"
   ]
  },
  {
   "cell_type": "code",
   "execution_count": 110,
   "id": "fe2a8ec1-41ef-4b63-9dcc-4a48ddaf27b2",
   "metadata": {},
   "outputs": [
    {
     "data": {
      "text/plain": [
       "(array([1.970e+02, 4.500e+01, 1.000e+00, 2.600e+01, 3.440e+02, 2.000e+00,\n",
       "        6.000e+00, 5.000e+00, 1.093e+03, 3.000e+00, 0.000e+00, 1.020e+02,\n",
       "        5.100e+01, 3.700e+01, 1.000e+01, 0.000e+00, 0.000e+00, 0.000e+00,\n",
       "        3.000e+00, 3.450e+02, 1.310e+02, 5.000e+00, 3.000e+00, 0.000e+00,\n",
       "        2.800e+01, 1.600e+01, 2.500e+01, 2.240e+02, 4.500e+01, 0.000e+00,\n",
       "        0.000e+00, 0.000e+00, 0.000e+00, 0.000e+00, 2.900e+01, 2.600e+01,\n",
       "        2.400e+01, 0.000e+00, 0.000e+00, 1.380e+02, 1.110e+02, 1.190e+02,\n",
       "        1.430e+02, 3.000e+01, 1.470e+02, 1.820e+02, 2.600e+01, 8.200e+01,\n",
       "        5.360e+02, 3.790e+02, 7.200e+01, 1.190e+02, 8.000e+00, 1.000e+00,\n",
       "        4.000e+00, 3.000e+00, 9.400e+01, 4.000e+00, 4.900e+01, 2.000e+00,\n",
       "        6.400e+01, 3.000e+00, 2.400e+01, 3.400e+01, 1.000e+00, 4.000e+00,\n",
       "        5.000e+00, 1.000e+00, 5.500e+01, 3.510e+02, 1.610e+02, 1.000e+00,\n",
       "        2.000e+00, 1.000e+01, 2.600e+02, 5.100e+01, 2.500e+01, 2.000e+00,\n",
       "        1.700e+01, 0.000e+00, 0.000e+00, 0.000e+00, 0.000e+00, 0.000e+00,\n",
       "        0.000e+00, 0.000e+00, 0.000e+00, 3.000e+00, 0.000e+00, 0.000e+00,\n",
       "        0.000e+00, 0.000e+00, 0.000e+00, 0.000e+00, 0.000e+00, 4.000e+00,\n",
       "        0.000e+00, 0.000e+00, 0.000e+00, 0.000e+00, 0.000e+00, 0.000e+00,\n",
       "        0.000e+00, 0.000e+00, 3.000e+00, 0.000e+00, 0.000e+00, 0.000e+00,\n",
       "        0.000e+00, 0.000e+00, 1.000e+00, 0.000e+00, 0.000e+00, 0.000e+00,\n",
       "        0.000e+00, 4.500e+01, 0.000e+00, 0.000e+00, 0.000e+00, 0.000e+00,\n",
       "        0.000e+00, 0.000e+00, 1.000e+00, 0.000e+00, 0.000e+00, 0.000e+00,\n",
       "        0.000e+00, 0.000e+00, 0.000e+00, 0.000e+00, 0.000e+00, 1.200e+01,\n",
       "        0.000e+00, 0.000e+00, 0.000e+00, 0.000e+00, 0.000e+00, 0.000e+00,\n",
       "        0.000e+00, 0.000e+00, 0.000e+00, 0.000e+00, 0.000e+00, 0.000e+00,\n",
       "        0.000e+00, 0.000e+00, 0.000e+00, 0.000e+00, 1.000e+00, 0.000e+00,\n",
       "        0.000e+00, 0.000e+00, 0.000e+00, 0.000e+00, 0.000e+00, 0.000e+00,\n",
       "        7.700e+01, 0.000e+00, 0.000e+00, 0.000e+00, 1.000e+00, 0.000e+00,\n",
       "        0.000e+00, 0.000e+00, 0.000e+00, 0.000e+00, 3.000e+01, 0.000e+00,\n",
       "        0.000e+00, 0.000e+00, 0.000e+00, 0.000e+00, 0.000e+00, 0.000e+00,\n",
       "        0.000e+00, 1.000e+00, 0.000e+00, 4.000e+00, 0.000e+00, 0.000e+00,\n",
       "        0.000e+00, 0.000e+00, 0.000e+00, 0.000e+00, 2.000e+00, 0.000e+00,\n",
       "        0.000e+00, 0.000e+00, 0.000e+00, 0.000e+00, 3.900e+01, 0.000e+00,\n",
       "        2.000e+00, 0.000e+00, 0.000e+00, 0.000e+00, 0.000e+00, 0.000e+00,\n",
       "        0.000e+00, 2.000e+00]),\n",
       " array([ 135.  ,  139.41,  143.82,  148.23,  152.64,  157.05,  161.46,\n",
       "         165.87,  170.28,  174.69,  179.1 ,  183.51,  187.92,  192.33,\n",
       "         196.74,  201.15,  205.56,  209.97,  214.38,  218.79,  223.2 ,\n",
       "         227.61,  232.02,  236.43,  240.84,  245.25,  249.66,  254.07,\n",
       "         258.48,  262.89,  267.3 ,  271.71,  276.12,  280.53,  284.94,\n",
       "         289.35,  293.76,  298.17,  302.58,  306.99,  311.4 ,  315.81,\n",
       "         320.22,  324.63,  329.04,  333.45,  337.86,  342.27,  346.68,\n",
       "         351.09,  355.5 ,  359.91,  364.32,  368.73,  373.14,  377.55,\n",
       "         381.96,  386.37,  390.78,  395.19,  399.6 ,  404.01,  408.42,\n",
       "         412.83,  417.24,  421.65,  426.06,  430.47,  434.88,  439.29,\n",
       "         443.7 ,  448.11,  452.52,  456.93,  461.34,  465.75,  470.16,\n",
       "         474.57,  478.98,  483.39,  487.8 ,  492.21,  496.62,  501.03,\n",
       "         505.44,  509.85,  514.26,  518.67,  523.08,  527.49,  531.9 ,\n",
       "         536.31,  540.72,  545.13,  549.54,  553.95,  558.36,  562.77,\n",
       "         567.18,  571.59,  576.  ,  580.41,  584.82,  589.23,  593.64,\n",
       "         598.05,  602.46,  606.87,  611.28,  615.69,  620.1 ,  624.51,\n",
       "         628.92,  633.33,  637.74,  642.15,  646.56,  650.97,  655.38,\n",
       "         659.79,  664.2 ,  668.61,  673.02,  677.43,  681.84,  686.25,\n",
       "         690.66,  695.07,  699.48,  703.89,  708.3 ,  712.71,  717.12,\n",
       "         721.53,  725.94,  730.35,  734.76,  739.17,  743.58,  747.99,\n",
       "         752.4 ,  756.81,  761.22,  765.63,  770.04,  774.45,  778.86,\n",
       "         783.27,  787.68,  792.09,  796.5 ,  800.91,  805.32,  809.73,\n",
       "         814.14,  818.55,  822.96,  827.37,  831.78,  836.19,  840.6 ,\n",
       "         845.01,  849.42,  853.83,  858.24,  862.65,  867.06,  871.47,\n",
       "         875.88,  880.29,  884.7 ,  889.11,  893.52,  897.93,  902.34,\n",
       "         906.75,  911.16,  915.57,  919.98,  924.39,  928.8 ,  933.21,\n",
       "         937.62,  942.03,  946.44,  950.85,  955.26,  959.67,  964.08,\n",
       "         968.49,  972.9 ,  977.31,  981.72,  986.13,  990.54,  994.95,\n",
       "         999.36, 1003.77, 1008.18, 1012.59, 1017.  ]),\n",
       " <BarContainer object of 200 artists>)"
      ]
     },
     "execution_count": 110,
     "metadata": {},
     "output_type": "execute_result"
    },
    {
     "data": {
      "image/png": "[encoded data removed]",
      "text/plain": [
       "<Figure size 432x288 with 1 Axes>"
      ]
     },
     "metadata": {
      "needs_background": "light"
     },
     "output_type": "display_data"
    }
   ],
   "source": [
    "plt.hist(ranDF['user_location_region'], bins=200)"
   ]
  },
  {
   "cell_type": "code",
   "execution_count": 41,
   "id": "6e650575-8fae-409e-904e-1da88793ad96",
   "metadata": {},
   "outputs": [],
   "source": [
    "# ranDF.user_location_region.value_counts().head(60)"
   ]
  },
  {
   "cell_type": "code",
   "execution_count": 42,
   "id": "ee0d1ad5-8514-45d9-ae83-9f45386db8e7",
   "metadata": {},
   "outputs": [
    {
     "name": "stdout",
     "output_type": "stream",
     "text": [
      "<class 'pandas.core.frame.DataFrame'>\n",
      "Int64Index: 6374 entries, 0 to 10000\n",
      "Data columns (total 24 columns):\n",
      " #   Column                     Non-Null Count  Dtype  \n",
      "---  ------                     --------------  -----  \n",
      " 0   date_time                  6374 non-null   object \n",
      " 1   site_name                  6374 non-null   int64  \n",
      " 2   posa_continent             6374 non-null   int64  \n",
      " 3   user_location_country      6374 non-null   int64  \n",
      " 4   user_location_region       6374 non-null   int64  \n",
      " 5   user_location_city         6374 non-null   int64  \n",
      " 6   orig_destination_distance  6374 non-null   float64\n",
      " 7   user_id                    6374 non-null   int64  \n",
      " 8   is_mobile                  6374 non-null   int64  \n",
      " 9   is_package                 6374 non-null   int64  \n",
      " 10  channel                    6374 non-null   int64  \n",
      " 11  srch_ci                    6374 non-null   object \n",
      " 12  srch_co                    6374 non-null   object \n",
      " 13  srch_adults_cnt            6374 non-null   int64  \n",
      " 14  srch_children_cnt          6374 non-null   int64  \n",
      " 15  srch_rm_cnt                6374 non-null   int64  \n",
      " 16  srch_destination_id        6374 non-null   int64  \n",
      " 17  srch_destination_type_id   6374 non-null   int64  \n",
      " 18  is_booking                 6374 non-null   int64  \n",
      " 19  cnt                        6374 non-null   int64  \n",
      " 20  hotel_continent            6374 non-null   int64  \n",
      " 21  hotel_country              6374 non-null   int64  \n",
      " 22  hotel_market               6374 non-null   int64  \n",
      " 23  hotel_cluster              6374 non-null   int64  \n",
      "dtypes: float64(1), int64(20), object(3)\n",
      "memory usage: 1.2+ MB\n"
     ]
    }
   ],
   "source": [
    "ranDF.info()"
   ]
  },
  {
   "cell_type": "code",
   "execution_count": null,
   "id": "6c087522-aeca-4d73-a73b-a7f78139b259",
   "metadata": {},
   "outputs": [],
   "source": []
  },
  {
   "cell_type": "code",
   "execution_count": 44,
   "id": "ccd4e937-a8b8-4927-9c4f-c48129555c0b",
   "metadata": {},
   "outputs": [],
   "source": [
    "df1 = ranDF.copy()"
   ]
  },
  {
   "cell_type": "code",
   "execution_count": 45,
   "id": "57cf6554-bf23-4783-8b35-eeb50a4ff532",
   "metadata": {},
   "outputs": [],
   "source": [
    "# change data types\n",
    "def change_dtype(cols, to_dtype, df=df1):\n",
    "    for col in cols:\n",
    "        df[col] = df[col].astype(to_dtype)"
   ]
  },
  {
   "cell_type": "code",
   "execution_count": 47,
   "id": "969513cb-0f61-4457-baef-c492795210d3",
   "metadata": {},
   "outputs": [],
   "source": [
    "# Get list of date formatted columns\n",
    "datCols = ['date_time', 'srch_ci', 'srch_co']\n",
    "\n",
    "# Get list of categorical variable columns\n",
    "catCols = ['site_name', 'posa_continent', 'user_location_country', \n",
    "           'user_location_region', 'user_location_city', 'user_id', \n",
    "           'channel', 'srch_destination_id', 'srch_destination_type_id', \n",
    "           'hotel_continent', 'hotel_country', 'hotel_market', 'hotel_cluster']\n",
    "\n",
    "# Get list of continuous variable columns\n",
    "numCols = ['orig_destination_distance', 'srch_adults_cnt', 'srch_children_cnt', \n",
    "           'srch_rm_cnt', 'cnt']\n",
    "           \n",
    "# List of yes/no binary variable columns\n",
    "ynCols = ['is_mobile', 'is_package', 'is_booking']"
   ]
  },
  {
   "cell_type": "code",
   "execution_count": 48,
   "id": "523aafdc-3543-4e00-890f-abc5c29c72a8",
   "metadata": {},
   "outputs": [],
   "source": [
    "change_dtype(catCols, 'category', df1)\n",
    "change_dtype(ynCols, 'int8', df1)\n",
    "change_dtype(datCols, 'datetime64', df1)"
   ]
  },
  {
   "cell_type": "code",
   "execution_count": 49,
   "id": "413e6084-49cc-4fd5-8c20-f60ee9b0f4f4",
   "metadata": {},
   "outputs": [
    {
     "name": "stdout",
     "output_type": "stream",
     "text": [
      "<class 'pandas.core.frame.DataFrame'>\n",
      "Int64Index: 6374 entries, 0 to 10000\n",
      "Data columns (total 24 columns):\n",
      " #   Column                     Non-Null Count  Dtype         \n",
      "---  ------                     --------------  -----         \n",
      " 0   date_time                  6374 non-null   datetime64[ns]\n",
      " 1   site_name                  6374 non-null   category      \n",
      " 2   posa_continent             6374 non-null   category      \n",
      " 3   user_location_country      6374 non-null   category      \n",
      " 4   user_location_region       6374 non-null   category      \n",
      " 5   user_location_city         6374 non-null   category      \n",
      " 6   orig_destination_distance  6374 non-null   float64       \n",
      " 7   user_id                    6374 non-null   category      \n",
      " 8   is_mobile                  6374 non-null   int8          \n",
      " 9   is_package                 6374 non-null   int8          \n",
      " 10  channel                    6374 non-null   category      \n",
      " 11  srch_ci                    6374 non-null   datetime64[ns]\n",
      " 12  srch_co                    6374 non-null   datetime64[ns]\n",
      " 13  srch_adults_cnt            6374 non-null   int64         \n",
      " 14  srch_children_cnt          6374 non-null   int64         \n",
      " 15  srch_rm_cnt                6374 non-null   int64         \n",
      " 16  srch_destination_id        6374 non-null   category      \n",
      " 17  srch_destination_type_id   6374 non-null   category      \n",
      " 18  is_booking                 6374 non-null   int8          \n",
      " 19  cnt                        6374 non-null   int64         \n",
      " 20  hotel_continent            6374 non-null   category      \n",
      " 21  hotel_country              6374 non-null   category      \n",
      " 22  hotel_market               6374 non-null   category      \n",
      " 23  hotel_cluster              6374 non-null   category      \n",
      "dtypes: category(13), datetime64[ns](3), float64(1), int64(4), int8(3)\n",
      "memory usage: 1.1 MB\n"
     ]
    }
   ],
   "source": [
    "df1.info()"
   ]
  },
  {
   "cell_type": "code",
   "execution_count": 70,
   "id": "83c82551-a0a7-4937-b5b6-379bfbe004e5",
   "metadata": {},
   "outputs": [
    {
     "data": {
      "text/plain": [
       "Tuesday      1074\n",
       "Wednesday    1026\n",
       "Monday       1024\n",
       "Thursday      882\n",
       "Friday        831\n",
       "Sunday        811\n",
       "Saturday      726\n",
       "Name: date_time, dtype: int64"
      ]
     },
     "execution_count": 70,
     "metadata": {},
     "output_type": "execute_result"
    }
   ],
   "source": [
    "df1.date_time.dt.day_name().value_counts()"
   ]
  },
  {
   "cell_type": "code",
   "execution_count": 74,
   "id": "ac125ac6-1d73-4d0f-8dc7-c00392a64fc2",
   "metadata": {},
   "outputs": [
    {
     "data": {
      "text/plain": [
       "August       665\n",
       "July         642\n",
       "September    641\n",
       "October      615\n",
       "December     596\n",
       "June         579\n",
       "November     562\n",
       "May          497\n",
       "April        489\n",
       "March        462\n",
       "February     332\n",
       "January      294\n",
       "Name: date_time, dtype: int64"
      ]
     },
     "execution_count": 74,
     "metadata": {},
     "output_type": "execute_result"
    }
   ],
   "source": [
    "df1.date_time.dt.month_name().value_counts()"
   ]
  },
  {
   "cell_type": "code",
   "execution_count": 101,
   "id": "07428ca1-d475-40f4-aa9f-b34addd1aa71",
   "metadata": {},
   "outputs": [],
   "source": [
    "df2 = pd.DataFrame()"
   ]
  },
  {
   "cell_type": "code",
   "execution_count": 116,
   "id": "ec9c1434-94dc-42f8-88c2-976fda4578b0",
   "metadata": {},
   "outputs": [],
   "source": [
    "def bin_vals(row, col, val):\n",
    "    if row[col] > val:\n",
    "        return val\n",
    "    return row[col]"
   ]
  },
  {
   "cell_type": "code",
   "execution_count": 102,
   "id": "c729a8b6-feda-4024-9035-413170e27325",
   "metadata": {},
   "outputs": [],
   "source": [
    "df2['date_time_DoW'] = df1.date_time.dt.day_name()\n",
    "df2['date_time_MoY'] = df1.date_time.dt.month_name()\n",
    "df2['site_name_2'] = df1.apply(lambda row: cat_to_binary(row, 'site_name', 2), axis=1)\n",
    "df2['posa_continent_3'] = df1.apply(lambda row: cat_to_binary(row, 'posa_continent', 3), axis=1)\n",
    "df2['user_location_country_66'] = df1.apply(lambda row: cat_to_binary(row, 'user_location_country', 66), axis=1)\n",
    "df2['user_location_region'] = df1.apply(lambda row: bin_vals(row, 'user_location_region', 500), axis=1)\n",
    "df2['user_location_city'] = df1['user_location_city']\n",
    "df2['orig_destination_distance'] = df1['orig_destination_distance']\n",
    "df2['is_mobile'] = df1['is_mobile']\n",
    "df2['is_package'] = df1['is_package']\n",
    "df2['channel'] = df1['channel']\n"
   ]
  },
  {
   "cell_type": "code",
   "execution_count": 79,
   "id": "aa616c14-08ff-465f-9bce-186e1b6bad32",
   "metadata": {},
   "outputs": [
    {
     "data": {
      "text/plain": [
       "4812"
      ]
     },
     "execution_count": 79,
     "metadata": {},
     "output_type": "execute_result"
    }
   ],
   "source": [
    "len(df1[(df1['site_name'] == 2)])"
   ]
  },
  {
   "cell_type": "code",
   "execution_count": null,
   "id": "32470d8c-fc1e-4eaa-9994-0cacad596885",
   "metadata": {},
   "outputs": [
    {
     "data": {
      "text/plain": [
       "0         True\n",
       "1         True\n",
       "2        False\n",
       "3         True\n",
       "5         True\n",
       "         ...  \n",
       "9991      True\n",
       "9992      True\n",
       "9993      True\n",
       "9994      True\n",
       "10000     True\n",
       "Name: site_name, Length: 6374, dtype: bool"
      ]
     },
     "execution_count": 81,
     "metadata": {},
     "output_type": "execute_result"
    }
   ],
   "source": [
    "df1['site_name'] == 2"
   ]
  },
  {
   "cell_type": "code",
   "execution_count": 88,
   "id": "05e7735c-375c-4760-a1b1-3fa36dc64dd1",
   "metadata": {},
   "outputs": [],
   "source": [
    "testDF = df1.copy()"
   ]
  },
  {
   "cell_type": "code",
   "execution_count": null,
   "id": "69c56212-2d59-4269-bc1a-157db0d7b36b",
   "metadata": {},
   "outputs": [],
   "source": [
    "testDF['site_name'] = testDF['site_name'].replace"
   ]
  },
  {
   "cell_type": "code",
   "execution_count": 87,
   "id": "bd4bc777-5ad7-43ed-a66b-802140458499",
   "metadata": {},
   "outputs": [],
   "source": [
    "# testDF.loc[testDF['site_name'] == 2, 'site_name']"
   ]
  },
  {
   "cell_type": "code",
   "execution_count": 95,
   "id": "8ad99a6f-36c2-47d1-b7b4-64ea462d7c52",
   "metadata": {},
   "outputs": [],
   "source": [
    "def cat_to_binary(row, col, val):\n",
    "    if row[col] == val:\n",
    "        return 1\n",
    "    return 0"
   ]
  },
  {
   "cell_type": "code",
   "execution_count": 96,
   "id": "53189279-51c0-4eb4-bd2a-158496dee66d",
   "metadata": {},
   "outputs": [
    {
     "data": {
      "text/plain": [
       "0        1\n",
       "1        1\n",
       "2        0\n",
       "3        1\n",
       "5        1\n",
       "        ..\n",
       "9991     1\n",
       "9992     1\n",
       "9993     1\n",
       "9994     1\n",
       "10000    1\n",
       "Length: 6374, dtype: int64"
      ]
     },
     "execution_count": 96,
     "metadata": {},
     "output_type": "execute_result"
    }
   ],
   "source": [
    "testDF.apply(lambda row: cat_to_binary(row, 'site_name', 2), axis=1)"
   ]
  },
  {
   "cell_type": "code",
   "execution_count": 93,
   "id": "037cb272-19fa-41e7-bd3d-b5402b3b2341",
   "metadata": {},
   "outputs": [
    {
     "data": {
      "text/plain": [
       "0         2\n",
       "1         2\n",
       "2        11\n",
       "3         2\n",
       "5         2\n",
       "         ..\n",
       "9991      2\n",
       "9992      2\n",
       "9993      2\n",
       "9994      2\n",
       "10000     2\n",
       "Name: site_name, Length: 6374, dtype: category\n",
       "Categories (18, int64): [2, 8, 10, 11, ..., 27, 34, 37, 40]"
      ]
     },
     "execution_count": 93,
     "metadata": {},
     "output_type": "execute_result"
    }
   ],
   "source": [
    "testDF.site_name"
   ]
  },
  {
   "cell_type": "code",
   "execution_count": 97,
   "id": "f61b65a1-c8db-4112-aa64-170159e1becf",
   "metadata": {},
   "outputs": [],
   "source": [
    "df2['site_name_2'] = df1.apply(lambda row: cat_to_binary(row, 'site_name', 2), axis=1)"
   ]
  },
  {
   "cell_type": "code",
   "execution_count": 104,
   "id": "029fce9d-249b-42e1-ad5e-cd124e66e9ca",
   "metadata": {},
   "outputs": [],
   "source": [
    "df2['posa_continent_3'] = df1.apply(lambda row: cat_to_binary(row, 'posa_continent', 3), axis=1)"
   ]
  },
  {
   "cell_type": "code",
   "execution_count": 107,
   "id": "4727cd28-65d8-4dff-bbb1-1d633bde6bb7",
   "metadata": {},
   "outputs": [],
   "source": [
    "df2['user_location_country_66'] = df1.apply(lambda row: cat_to_binary(row, 'user_location_country', 66), axis=1)"
   ]
  },
  {
   "cell_type": "code",
   "execution_count": 116,
   "id": "f27bd5f4-b51d-4a4c-b702-9d3697a9e1b5",
   "metadata": {},
   "outputs": [],
   "source": [
    "def bin_vals(row, col, val):\n",
    "    if row[col] > val:\n",
    "        return val\n",
    "    return row[col]"
   ]
  },
  {
   "cell_type": "code",
   "execution_count": 124,
   "id": "ad7323d0-cfa1-49b5-8c10-f49725b35816",
   "metadata": {},
   "outputs": [],
   "source": [
    "df2['user_location_region'] = df1.apply(lambda row: bin_vals(row, 'user_location_region', 500), axis=1)"
   ]
  },
  {
   "cell_type": "code",
   "execution_count": 134,
   "id": "cda67182-e654-4eee-980e-59f8407dc6c1",
   "metadata": {},
   "outputs": [],
   "source": [
    "df2['user_location_city'] = df1['user_location_city']"
   ]
  },
  {
   "cell_type": "code",
   "execution_count": 192,
   "id": "cb9b9ce4-5432-4d0f-b17b-ce3086caae13",
   "metadata": {},
   "outputs": [],
   "source": [
    "df2['orig_destination_distance'] = df1['orig_destination_distance']"
   ]
  },
  {
   "cell_type": "code",
   "execution_count": 193,
   "id": "054d592b-7e8b-4da8-90e9-117b667e677d",
   "metadata": {},
   "outputs": [],
   "source": [
    "df2['is_mobile'] = df1['is_mobile']"
   ]
  },
  {
   "cell_type": "code",
   "execution_count": 194,
   "id": "9aa334ca-dc54-4eac-b16c-91d4251dc7ae",
   "metadata": {},
   "outputs": [],
   "source": [
    "df2['is_package'] = df1['is_package']"
   ]
  },
  {
   "cell_type": "code",
   "execution_count": 195,
   "id": "1d2a7389-f2bd-4e80-ba34-8a76312a0236",
   "metadata": {},
   "outputs": [],
   "source": [
    "df2['channel'] = df1['channel']"
   ]
  },
  {
   "cell_type": "code",
   "execution_count": null,
   "id": "c826fd9a-5c18-4eae-9257-ad1dfef41fac",
   "metadata": {},
   "outputs": [],
   "source": []
  },
  {
   "cell_type": "code",
   "execution_count": 175,
   "id": "7df99618-1fb1-4393-b2e2-e12234df6ece",
   "metadata": {},
   "outputs": [],
   "source": [
    "testDF = df1.copy()"
   ]
  },
  {
   "cell_type": "code",
   "execution_count": 181,
   "id": "0b989ebc-565e-4e42-823e-bf58713a4c8b",
   "metadata": {},
   "outputs": [],
   "source": [
    "# testDF['user_location_region'].head()"
   ]
  },
  {
   "cell_type": "code",
   "execution_count": 182,
   "id": "3d774e1a-0045-4532-a098-77042b18ad67",
   "metadata": {},
   "outputs": [],
   "source": [
    "# testDF['user_location_region'].value_counts()"
   ]
  },
  {
   "cell_type": "code",
   "execution_count": 183,
   "id": "3862bb84-b4ef-4886-9e8b-9d6597413b07",
   "metadata": {},
   "outputs": [],
   "source": [
    "# test = testDF['user_location_region'].map(testDF['user_location_region'].value_counts())\n",
    "# test"
   ]
  },
  {
   "cell_type": "code",
   "execution_count": 184,
   "id": "cabc9585-8efd-47dc-bd77-ab55a22e5f6c",
   "metadata": {},
   "outputs": [],
   "source": [
    "# test = testDF['user_location_region'].groupby(testDF['user_location_region']).transform('count')\n",
    "# test"
   ]
  },
  {
   "cell_type": "code",
   "execution_count": 185,
   "id": "a57dd40a-b0a8-44a5-b909-0df8455196e7",
   "metadata": {},
   "outputs": [],
   "source": [
    "# # PROBABLY THIS ... nope \n",
    "# test = testDF.groupby(['user_location_region'])['user_location_region'].transform('count')\n",
    "# test"
   ]
  },
  {
   "cell_type": "code",
   "execution_count": 186,
   "id": "71b724fc-e03f-419b-9e5a-ce71cfa4a372",
   "metadata": {},
   "outputs": [],
   "source": [
    "# len(testDF['user_location_region'].value_counts())"
   ]
  },
  {
   "cell_type": "code",
   "execution_count": 187,
   "id": "b6862075-fd7d-4ec6-a69c-9e032b4583c3",
   "metadata": {},
   "outputs": [],
   "source": [
    "# testDF['user_location_region'].apply(testDF['user_location_region'].value_counts)"
   ]
  },
  {
   "cell_type": "code",
   "execution_count": 188,
   "id": "c8971708-5112-4689-b903-6b85e13db012",
   "metadata": {},
   "outputs": [],
   "source": [
    "# df1['user_location_region'].value_counts()"
   ]
  },
  {
   "cell_type": "markdown",
   "id": "aa843e93-0a70-4969-8371-6e696b708320",
   "metadata": {},
   "source": [
    "* date_time: DoW? MoY?\n",
    "* site_name: 2 or not 2  \n",
    "* posa_continent: 3 or not 3\n",
    "* user_location_country: 66 (15% 205)\n",
    "* ?bin? user_location_region: as is, or group everything >500? [146 unique regions]\n",
    "* ?bin? user_location_city: good? [1814 unique vals] 😯\n",
    "* ?xform? orig_destination_distance: skews right, transform?\n",
    "* user_id: ignore for modeling (unless, counts?) <-- can't figure this out :(\n",
    "* is_mobile: binary\n",
    "* is_package: binary\n",
    "* channel: 9 or not 9 (or leave as-is?)\n",
    "* srch_ci / srch_co: maybe time difference (length of stay) or DoW?\n",
    "* srch_adults_cnt: good 👍\n",
    "* srch_children_cnt: good 👍\n",
    "* srch_rm_cnt: good 👍\n",
    "* srch_destination_id: as-is or group (0-1k, 1k-2k, 2k+ or 2k-3k and 3k+)?? or remove?\n",
    "* srch_destination_type_id: good 👍\n",
    "* is_booking: binary\n",
    "* cnt: good (skews, transform maybe?)\n",
    "* hotel_continent: probably good (dummies) or 2/not2?\n",
    "* hotel_country: 50, not 50\n",
    "* hotel_market: idk... 0-500, 500-1k, 1k+?\n",
    "* hotel_cluster: TARGET VARIABLE"
   ]
  },
  {
   "cell_type": "code",
   "execution_count": 201,
   "id": "8565710d-6258-4a91-89c6-c701646f3908",
   "metadata": {},
   "outputs": [],
   "source": [
    "df2['srch_ci_DoW'] = df1.srch_ci.dt.day_name()\n",
    "df2['srch_co_DoW'] = df1.srch_co.dt.day_name()\n",
    "df2['length_of_stay'] = (df1['srch_co'] - df1['srch_ci'])"
   ]
  },
  {
   "cell_type": "code",
   "execution_count": 202,
   "id": "e150687d-4241-49e3-9a87-c86329d1fd87",
   "metadata": {},
   "outputs": [
    {
     "data": {
      "text/html": [
       "<div>\n",
       "<style scoped>\n",
       "    .dataframe tbody tr th:only-of-type {\n",
       "        vertical-align: middle;\n",
       "    }\n",
       "\n",
       "    .dataframe tbody tr th {\n",
       "        vertical-align: top;\n",
       "    }\n",
       "\n",
       "    .dataframe thead th {\n",
       "        text-align: right;\n",
       "    }\n",
       "</style>\n",
       "<table border=\"1\" class=\"dataframe\">\n",
       "  <thead>\n",
       "    <tr style=\"text-align: right;\">\n",
       "      <th></th>\n",
       "      <th>date_time_DoW</th>\n",
       "      <th>date_time_MoY</th>\n",
       "      <th>site_name_2</th>\n",
       "      <th>posa_continent_3</th>\n",
       "      <th>user_location_country_66</th>\n",
       "      <th>user_location_region</th>\n",
       "      <th>user_location_city</th>\n",
       "      <th>orig_destination_distance</th>\n",
       "      <th>is_mobile</th>\n",
       "      <th>is_package</th>\n",
       "      <th>channel</th>\n",
       "      <th>srch_ci_DoW</th>\n",
       "      <th>srch_co_DoW</th>\n",
       "      <th>length_of_stay</th>\n",
       "    </tr>\n",
       "  </thead>\n",
       "  <tbody>\n",
       "    <tr>\n",
       "      <th>0</th>\n",
       "      <td>Monday</td>\n",
       "      <td>August</td>\n",
       "      <td>1</td>\n",
       "      <td>1</td>\n",
       "      <td>1</td>\n",
       "      <td>348</td>\n",
       "      <td>48862</td>\n",
       "      <td>2234.2641</td>\n",
       "      <td>0</td>\n",
       "      <td>1</td>\n",
       "      <td>9</td>\n",
       "      <td>Friday</td>\n",
       "      <td>Tuesday</td>\n",
       "      <td>4 days</td>\n",
       "    </tr>\n",
       "    <tr>\n",
       "      <th>1</th>\n",
       "      <td>Monday</td>\n",
       "      <td>November</td>\n",
       "      <td>1</td>\n",
       "      <td>1</td>\n",
       "      <td>1</td>\n",
       "      <td>254</td>\n",
       "      <td>21713</td>\n",
       "      <td>1583.6919</td>\n",
       "      <td>1</td>\n",
       "      <td>0</td>\n",
       "      <td>0</td>\n",
       "      <td>Saturday</td>\n",
       "      <td>Sunday</td>\n",
       "      <td>1 days</td>\n",
       "    </tr>\n",
       "    <tr>\n",
       "      <th>2</th>\n",
       "      <td>Thursday</td>\n",
       "      <td>June</td>\n",
       "      <td>0</td>\n",
       "      <td>1</td>\n",
       "      <td>0</td>\n",
       "      <td>354</td>\n",
       "      <td>43201</td>\n",
       "      <td>45.8295</td>\n",
       "      <td>0</td>\n",
       "      <td>0</td>\n",
       "      <td>5</td>\n",
       "      <td>Tuesday</td>\n",
       "      <td>Wednesday</td>\n",
       "      <td>1 days</td>\n",
       "    </tr>\n",
       "    <tr>\n",
       "      <th>3</th>\n",
       "      <td>Monday</td>\n",
       "      <td>December</td>\n",
       "      <td>1</td>\n",
       "      <td>1</td>\n",
       "      <td>1</td>\n",
       "      <td>363</td>\n",
       "      <td>25671</td>\n",
       "      <td>105.9578</td>\n",
       "      <td>0</td>\n",
       "      <td>0</td>\n",
       "      <td>9</td>\n",
       "      <td>Saturday</td>\n",
       "      <td>Sunday</td>\n",
       "      <td>1 days</td>\n",
       "    </tr>\n",
       "    <tr>\n",
       "      <th>5</th>\n",
       "      <td>Wednesday</td>\n",
       "      <td>December</td>\n",
       "      <td>1</td>\n",
       "      <td>1</td>\n",
       "      <td>1</td>\n",
       "      <td>314</td>\n",
       "      <td>4868</td>\n",
       "      <td>25.5639</td>\n",
       "      <td>0</td>\n",
       "      <td>0</td>\n",
       "      <td>9</td>\n",
       "      <td>Tuesday</td>\n",
       "      <td>Wednesday</td>\n",
       "      <td>1 days</td>\n",
       "    </tr>\n",
       "    <tr>\n",
       "      <th>...</th>\n",
       "      <td>...</td>\n",
       "      <td>...</td>\n",
       "      <td>...</td>\n",
       "      <td>...</td>\n",
       "      <td>...</td>\n",
       "      <td>...</td>\n",
       "      <td>...</td>\n",
       "      <td>...</td>\n",
       "      <td>...</td>\n",
       "      <td>...</td>\n",
       "      <td>...</td>\n",
       "      <td>...</td>\n",
       "      <td>...</td>\n",
       "      <td>...</td>\n",
       "    </tr>\n",
       "    <tr>\n",
       "      <th>9991</th>\n",
       "      <td>Monday</td>\n",
       "      <td>May</td>\n",
       "      <td>1</td>\n",
       "      <td>1</td>\n",
       "      <td>1</td>\n",
       "      <td>260</td>\n",
       "      <td>19022</td>\n",
       "      <td>181.7186</td>\n",
       "      <td>0</td>\n",
       "      <td>0</td>\n",
       "      <td>9</td>\n",
       "      <td>Tuesday</td>\n",
       "      <td>Wednesday</td>\n",
       "      <td>1 days</td>\n",
       "    </tr>\n",
       "    <tr>\n",
       "      <th>9992</th>\n",
       "      <td>Thursday</td>\n",
       "      <td>March</td>\n",
       "      <td>1</td>\n",
       "      <td>1</td>\n",
       "      <td>1</td>\n",
       "      <td>447</td>\n",
       "      <td>902</td>\n",
       "      <td>366.6854</td>\n",
       "      <td>0</td>\n",
       "      <td>0</td>\n",
       "      <td>9</td>\n",
       "      <td>Wednesday</td>\n",
       "      <td>Thursday</td>\n",
       "      <td>1 days</td>\n",
       "    </tr>\n",
       "    <tr>\n",
       "      <th>9993</th>\n",
       "      <td>Wednesday</td>\n",
       "      <td>February</td>\n",
       "      <td>1</td>\n",
       "      <td>1</td>\n",
       "      <td>1</td>\n",
       "      <td>174</td>\n",
       "      <td>1271</td>\n",
       "      <td>2385.3332</td>\n",
       "      <td>1</td>\n",
       "      <td>0</td>\n",
       "      <td>9</td>\n",
       "      <td>Monday</td>\n",
       "      <td>Monday</td>\n",
       "      <td>7 days</td>\n",
       "    </tr>\n",
       "    <tr>\n",
       "      <th>9994</th>\n",
       "      <td>Wednesday</td>\n",
       "      <td>April</td>\n",
       "      <td>1</td>\n",
       "      <td>1</td>\n",
       "      <td>1</td>\n",
       "      <td>442</td>\n",
       "      <td>23459</td>\n",
       "      <td>1955.7483</td>\n",
       "      <td>0</td>\n",
       "      <td>0</td>\n",
       "      <td>9</td>\n",
       "      <td>Friday</td>\n",
       "      <td>Sunday</td>\n",
       "      <td>2 days</td>\n",
       "    </tr>\n",
       "    <tr>\n",
       "      <th>10000</th>\n",
       "      <td>Thursday</td>\n",
       "      <td>September</td>\n",
       "      <td>1</td>\n",
       "      <td>1</td>\n",
       "      <td>1</td>\n",
       "      <td>462</td>\n",
       "      <td>12565</td>\n",
       "      <td>106.4274</td>\n",
       "      <td>0</td>\n",
       "      <td>0</td>\n",
       "      <td>0</td>\n",
       "      <td>Thursday</td>\n",
       "      <td>Friday</td>\n",
       "      <td>1 days</td>\n",
       "    </tr>\n",
       "  </tbody>\n",
       "</table>\n",
       "<p>6374 rows × 14 columns</p>\n",
       "</div>"
      ],
      "text/plain": [
       "      date_time_DoW date_time_MoY  site_name_2  posa_continent_3  \\\n",
       "0            Monday        August            1                 1   \n",
       "1            Monday      November            1                 1   \n",
       "2          Thursday          June            0                 1   \n",
       "3            Monday      December            1                 1   \n",
       "5         Wednesday      December            1                 1   \n",
       "...             ...           ...          ...               ...   \n",
       "9991         Monday           May            1                 1   \n",
       "9992       Thursday         March            1                 1   \n",
       "9993      Wednesday      February            1                 1   \n",
       "9994      Wednesday         April            1                 1   \n",
       "10000      Thursday     September            1                 1   \n",
       "\n",
       "       user_location_country_66  user_location_region user_location_city  \\\n",
       "0                             1                   348              48862   \n",
       "1                             1                   254              21713   \n",
       "2                             0                   354              43201   \n",
       "3                             1                   363              25671   \n",
       "5                             1                   314               4868   \n",
       "...                         ...                   ...                ...   \n",
       "9991                          1                   260              19022   \n",
       "9992                          1                   447                902   \n",
       "9993                          1                   174               1271   \n",
       "9994                          1                   442              23459   \n",
       "10000                         1                   462              12565   \n",
       "\n",
       "       orig_destination_distance  is_mobile  is_package channel srch_ci_DoW  \\\n",
       "0                      2234.2641          0           1       9      Friday   \n",
       "1                      1583.6919          1           0       0    Saturday   \n",
       "2                        45.8295          0           0       5     Tuesday   \n",
       "3                       105.9578          0           0       9    Saturday   \n",
       "5                        25.5639          0           0       9     Tuesday   \n",
       "...                          ...        ...         ...     ...         ...   \n",
       "9991                    181.7186          0           0       9     Tuesday   \n",
       "9992                    366.6854          0           0       9   Wednesday   \n",
       "9993                   2385.3332          1           0       9      Monday   \n",
       "9994                   1955.7483          0           0       9      Friday   \n",
       "10000                   106.4274          0           0       0    Thursday   \n",
       "\n",
       "      srch_co_DoW length_of_stay  \n",
       "0         Tuesday         4 days  \n",
       "1          Sunday         1 days  \n",
       "2       Wednesday         1 days  \n",
       "3          Sunday         1 days  \n",
       "5       Wednesday         1 days  \n",
       "...           ...            ...  \n",
       "9991    Wednesday         1 days  \n",
       "9992     Thursday         1 days  \n",
       "9993       Monday         7 days  \n",
       "9994       Sunday         2 days  \n",
       "10000      Friday         1 days  \n",
       "\n",
       "[6374 rows x 14 columns]"
      ]
     },
     "execution_count": 202,
     "metadata": {},
     "output_type": "execute_result"
    }
   ],
   "source": [
    "df2"
   ]
  },
  {
   "cell_type": "code",
   "execution_count": null,
   "id": "e408fe18-1a08-4bb1-ae27-5122cd0bde74",
   "metadata": {},
   "outputs": [],
   "source": []
  },
  {
   "cell_type": "code",
   "execution_count": null,
   "id": "f9d84643-070b-4c21-8318-e6e531cd0ddd",
   "metadata": {},
   "outputs": [],
   "source": []
  },
  {
   "cell_type": "code",
   "execution_count": null,
   "id": "2eccbc0b-55a0-40cb-bc56-b2e99c8dc39e",
   "metadata": {},
   "outputs": [],
   "source": []
  },
  {
   "cell_type": "code",
   "execution_count": 191,
   "id": "b7a73d1e-2bd5-49cd-a8a5-a335545540c2",
   "metadata": {},
   "outputs": [
    {
     "data": {
      "text/plain": [
       "(array([8.320e+02, 0.000e+00, 6.180e+02, 0.000e+00, 5.150e+02, 0.000e+00,\n",
       "        2.800e+02, 0.000e+00, 7.700e+01, 0.000e+00, 3.270e+02, 0.000e+00,\n",
       "        6.000e+00, 0.000e+00, 4.300e+01, 0.000e+00, 2.100e+01, 0.000e+00,\n",
       "        3.654e+03, 1.000e+00]),\n",
       " array([ 0. ,  0.5,  1. ,  1.5,  2. ,  2.5,  3. ,  3.5,  4. ,  4.5,  5. ,\n",
       "         5.5,  6. ,  6.5,  7. ,  7.5,  8. ,  8.5,  9. ,  9.5, 10. ]),\n",
       " <BarContainer object of 20 artists>)"
      ]
     },
     "execution_count": 191,
     "metadata": {},
     "output_type": "execute_result"
    },
    {
     "data": {
      "image/png": "[encoded data removed]",
      "text/plain": [
       "<Figure size 432x288 with 1 Axes>"
      ]
     },
     "metadata": {
      "needs_background": "light"
     },
     "output_type": "display_data"
    }
   ],
   "source": [
    "plt.hist(df1['channel'], bins=20)"
   ]
  }
 ],
 "metadata": {
  "kernelspec": {
   "display_name": "Python 3 (ipykernel)",
   "language": "python",
   "name": "python3"
  },
  "language_info": {
   "codemirror_mode": {
    "name": "ipython",
    "version": 3
   },
   "file_extension": ".py",
   "mimetype": "text/x-python",
   "name": "python",
   "nbconvert_exporter": "python",
   "pygments_lexer": "ipython3",
   "version": "3.9.7"
  }
 },
 "nbformat": 4,
 "nbformat_minor": 5
}
