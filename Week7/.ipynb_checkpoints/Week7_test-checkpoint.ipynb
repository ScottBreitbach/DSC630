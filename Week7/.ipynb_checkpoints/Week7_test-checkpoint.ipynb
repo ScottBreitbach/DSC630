{
 "cells": [
  {
   "cell_type": "markdown",
   "id": "6bc9181d-57b6-4906-9cc6-0fc8d02939bd",
   "metadata": {},
   "source": [
    "Online travel agencies are scrambling to meet the artificial intelligence driven personalization standard set by companies like Amazon and Netflix. In addition, the world of online travel has become a highly competitive space where brands try to capture our attention (and wallet) with recommending, comparing, matching, and sharing. For this assignment, we would like to create the optimal hotel recommendations for Expedia’s users that are searching for a hotel to book. For this assignment, you need to predict which “hotel cluster” the user is likely to book, given his (or her) search details.  \n",
    "\n",
    "The data set can be found at Kaggle: Expedia Hotel Recommendations. To get started, I would suggest exploring the file train.csv, which contains the logs of user behavior.  There is another file named destinations.csv, which contains information related to hotel reviews made by users. There is a lot of data here, and making an accurate prediction is rather difficult, e.g., simply running a standard prediction algorithm will probably yield below 10% accuracy. Stary by doing some exploratory analysis of this data to help understand how to make a prediction on the hotel cluster the user is likely to select. Then, split train.csv into a training and test set (feel free to select a smaller random subset of train.csv). Then, build at least two prediction models from the training set, and report the accuracies on the test set. As I mentioned, this is a difficult problem, so be creative with your solutions. You might want to try building your own predictor rather than a standard predictor model, e.g., a random forest.  The purpose of this project is not necessarily to get great results but to understand the nuances and challenges of such problems."
   ]
  },
  {
   "cell_type": "code",
   "execution_count": 1,
   "id": "fc268581-592b-4f79-8e9c-a1847da214ab",
   "metadata": {},
   "outputs": [],
   "source": [
    "import numpy as np\n",
    "import pandas as pd\n",
    "import random\n",
    "random.seed(42)"
   ]
  },
  {
   "cell_type": "code",
   "execution_count": 2,
   "id": "6c57bbc0-4130-48e1-b146-7b520d8cba34",
   "metadata": {},
   "outputs": [
    {
     "name": "stdout",
     "output_type": "stream",
     "text": [
      "['.ipynb_checkpoints', 'expedia-hotel-recommendations', 'expedia-hotel-recommendations.zip', 'video.ipynb', 'Week7_test.ipynb']\n"
     ]
    }
   ],
   "source": [
    "import os\n",
    "print(os.listdir('../Week7'))"
   ]
  },
  {
   "cell_type": "code",
   "execution_count": 3,
   "id": "7791f3c6-e11f-4635-a16f-f6ebbf3c5d2f",
   "metadata": {},
   "outputs": [],
   "source": [
    "file = '../Week7/expedia-hotel-recommendations/train.csv'"
   ]
  },
  {
   "cell_type": "code",
   "execution_count": 4,
   "id": "43ac9de7-4b26-4e06-89ad-b3e9c4f58c11",
   "metadata": {},
   "outputs": [],
   "source": [
    "train = pd.read_csv(file, nrows=100000)"
   ]
  },
  {
   "cell_type": "code",
   "execution_count": 5,
   "id": "f5859bee-aa0b-4995-b2a6-fcd201d6c3cd",
   "metadata": {},
   "outputs": [
    {
     "data": {
      "text/plain": [
       "(100000, 24)"
      ]
     },
     "execution_count": 5,
     "metadata": {},
     "output_type": "execute_result"
    }
   ],
   "source": [
    "train.shape"
   ]
  },
  {
   "cell_type": "code",
   "execution_count": 6,
   "id": "38468e91-0fd2-444f-a26d-8320a66ff4bc",
   "metadata": {},
   "outputs": [
    {
     "data": {
      "text/html": [
       "<div>\n",
       "<style scoped>\n",
       "    .dataframe tbody tr th:only-of-type {\n",
       "        vertical-align: middle;\n",
       "    }\n",
       "\n",
       "    .dataframe tbody tr th {\n",
       "        vertical-align: top;\n",
       "    }\n",
       "\n",
       "    .dataframe thead th {\n",
       "        text-align: right;\n",
       "    }\n",
       "</style>\n",
       "<table border=\"1\" class=\"dataframe\">\n",
       "  <thead>\n",
       "    <tr style=\"text-align: right;\">\n",
       "      <th></th>\n",
       "      <th>date_time</th>\n",
       "      <th>site_name</th>\n",
       "      <th>posa_continent</th>\n",
       "      <th>user_location_country</th>\n",
       "      <th>user_location_region</th>\n",
       "      <th>user_location_city</th>\n",
       "      <th>orig_destination_distance</th>\n",
       "      <th>user_id</th>\n",
       "      <th>is_mobile</th>\n",
       "      <th>is_package</th>\n",
       "      <th>...</th>\n",
       "      <th>srch_children_cnt</th>\n",
       "      <th>srch_rm_cnt</th>\n",
       "      <th>srch_destination_id</th>\n",
       "      <th>srch_destination_type_id</th>\n",
       "      <th>is_booking</th>\n",
       "      <th>cnt</th>\n",
       "      <th>hotel_continent</th>\n",
       "      <th>hotel_country</th>\n",
       "      <th>hotel_market</th>\n",
       "      <th>hotel_cluster</th>\n",
       "    </tr>\n",
       "  </thead>\n",
       "  <tbody>\n",
       "    <tr>\n",
       "      <th>0</th>\n",
       "      <td>2014-08-11 07:46:59</td>\n",
       "      <td>2</td>\n",
       "      <td>3</td>\n",
       "      <td>66</td>\n",
       "      <td>348</td>\n",
       "      <td>48862</td>\n",
       "      <td>2234.2641</td>\n",
       "      <td>12</td>\n",
       "      <td>0</td>\n",
       "      <td>1</td>\n",
       "      <td>...</td>\n",
       "      <td>0</td>\n",
       "      <td>1</td>\n",
       "      <td>8250</td>\n",
       "      <td>1</td>\n",
       "      <td>0</td>\n",
       "      <td>3</td>\n",
       "      <td>2</td>\n",
       "      <td>50</td>\n",
       "      <td>628</td>\n",
       "      <td>1</td>\n",
       "    </tr>\n",
       "    <tr>\n",
       "      <th>1</th>\n",
       "      <td>2014-08-11 08:22:12</td>\n",
       "      <td>2</td>\n",
       "      <td>3</td>\n",
       "      <td>66</td>\n",
       "      <td>348</td>\n",
       "      <td>48862</td>\n",
       "      <td>2234.2641</td>\n",
       "      <td>12</td>\n",
       "      <td>0</td>\n",
       "      <td>1</td>\n",
       "      <td>...</td>\n",
       "      <td>0</td>\n",
       "      <td>1</td>\n",
       "      <td>8250</td>\n",
       "      <td>1</td>\n",
       "      <td>1</td>\n",
       "      <td>1</td>\n",
       "      <td>2</td>\n",
       "      <td>50</td>\n",
       "      <td>628</td>\n",
       "      <td>1</td>\n",
       "    </tr>\n",
       "    <tr>\n",
       "      <th>2</th>\n",
       "      <td>2014-08-11 08:24:33</td>\n",
       "      <td>2</td>\n",
       "      <td>3</td>\n",
       "      <td>66</td>\n",
       "      <td>348</td>\n",
       "      <td>48862</td>\n",
       "      <td>2234.2641</td>\n",
       "      <td>12</td>\n",
       "      <td>0</td>\n",
       "      <td>0</td>\n",
       "      <td>...</td>\n",
       "      <td>0</td>\n",
       "      <td>1</td>\n",
       "      <td>8250</td>\n",
       "      <td>1</td>\n",
       "      <td>0</td>\n",
       "      <td>1</td>\n",
       "      <td>2</td>\n",
       "      <td>50</td>\n",
       "      <td>628</td>\n",
       "      <td>1</td>\n",
       "    </tr>\n",
       "    <tr>\n",
       "      <th>3</th>\n",
       "      <td>2014-08-09 18:05:16</td>\n",
       "      <td>2</td>\n",
       "      <td>3</td>\n",
       "      <td>66</td>\n",
       "      <td>442</td>\n",
       "      <td>35390</td>\n",
       "      <td>913.1932</td>\n",
       "      <td>93</td>\n",
       "      <td>0</td>\n",
       "      <td>0</td>\n",
       "      <td>...</td>\n",
       "      <td>0</td>\n",
       "      <td>1</td>\n",
       "      <td>14984</td>\n",
       "      <td>1</td>\n",
       "      <td>0</td>\n",
       "      <td>1</td>\n",
       "      <td>2</td>\n",
       "      <td>50</td>\n",
       "      <td>1457</td>\n",
       "      <td>80</td>\n",
       "    </tr>\n",
       "    <tr>\n",
       "      <th>4</th>\n",
       "      <td>2014-08-09 18:08:18</td>\n",
       "      <td>2</td>\n",
       "      <td>3</td>\n",
       "      <td>66</td>\n",
       "      <td>442</td>\n",
       "      <td>35390</td>\n",
       "      <td>913.6259</td>\n",
       "      <td>93</td>\n",
       "      <td>0</td>\n",
       "      <td>0</td>\n",
       "      <td>...</td>\n",
       "      <td>0</td>\n",
       "      <td>1</td>\n",
       "      <td>14984</td>\n",
       "      <td>1</td>\n",
       "      <td>0</td>\n",
       "      <td>1</td>\n",
       "      <td>2</td>\n",
       "      <td>50</td>\n",
       "      <td>1457</td>\n",
       "      <td>21</td>\n",
       "    </tr>\n",
       "  </tbody>\n",
       "</table>\n",
       "<p>5 rows × 24 columns</p>\n",
       "</div>"
      ],
      "text/plain": [
       "             date_time  site_name  posa_continent  user_location_country  \\\n",
       "0  2014-08-11 07:46:59          2               3                     66   \n",
       "1  2014-08-11 08:22:12          2               3                     66   \n",
       "2  2014-08-11 08:24:33          2               3                     66   \n",
       "3  2014-08-09 18:05:16          2               3                     66   \n",
       "4  2014-08-09 18:08:18          2               3                     66   \n",
       "\n",
       "   user_location_region  user_location_city  orig_destination_distance  \\\n",
       "0                   348               48862                  2234.2641   \n",
       "1                   348               48862                  2234.2641   \n",
       "2                   348               48862                  2234.2641   \n",
       "3                   442               35390                   913.1932   \n",
       "4                   442               35390                   913.6259   \n",
       "\n",
       "   user_id  is_mobile  is_package  ...  srch_children_cnt srch_rm_cnt  \\\n",
       "0       12          0           1  ...                  0           1   \n",
       "1       12          0           1  ...                  0           1   \n",
       "2       12          0           0  ...                  0           1   \n",
       "3       93          0           0  ...                  0           1   \n",
       "4       93          0           0  ...                  0           1   \n",
       "\n",
       "  srch_destination_id  srch_destination_type_id  is_booking  cnt  \\\n",
       "0                8250                         1           0    3   \n",
       "1                8250                         1           1    1   \n",
       "2                8250                         1           0    1   \n",
       "3               14984                         1           0    1   \n",
       "4               14984                         1           0    1   \n",
       "\n",
       "   hotel_continent  hotel_country  hotel_market  hotel_cluster  \n",
       "0                2             50           628              1  \n",
       "1                2             50           628              1  \n",
       "2                2             50           628              1  \n",
       "3                2             50          1457             80  \n",
       "4                2             50          1457             21  \n",
       "\n",
       "[5 rows x 24 columns]"
      ]
     },
     "execution_count": 6,
     "metadata": {},
     "output_type": "execute_result"
    }
   ],
   "source": [
    "train.head()"
   ]
  },
  {
   "cell_type": "code",
   "execution_count": 7,
   "id": "fc13da48-4c75-475c-9ce7-b7eb7395b945",
   "metadata": {},
   "outputs": [
    {
     "data": {
      "text/plain": [
       "Index(['date_time', 'site_name', 'posa_continent', 'user_location_country',\n",
       "       'user_location_region', 'user_location_city',\n",
       "       'orig_destination_distance', 'user_id', 'is_mobile', 'is_package',\n",
       "       'channel', 'srch_ci', 'srch_co', 'srch_adults_cnt', 'srch_children_cnt',\n",
       "       'srch_rm_cnt', 'srch_destination_id', 'srch_destination_type_id',\n",
       "       'is_booking', 'cnt', 'hotel_continent', 'hotel_country', 'hotel_market',\n",
       "       'hotel_cluster'],\n",
       "      dtype='object')"
      ]
     },
     "execution_count": 7,
     "metadata": {},
     "output_type": "execute_result"
    }
   ],
   "source": [
    "train.columns"
   ]
  },
  {
   "cell_type": "code",
   "execution_count": 8,
   "id": "24fa6026-2643-4994-96f0-6fe9e93599b8",
   "metadata": {},
   "outputs": [],
   "source": [
    "# train.info"
   ]
  },
  {
   "cell_type": "code",
   "execution_count": 9,
   "id": "6693a5f2-79cc-4845-ae2f-23fbbe39e6e2",
   "metadata": {},
   "outputs": [],
   "source": [
    "nums = train.hotel_cluster.unique()"
   ]
  },
  {
   "cell_type": "code",
   "execution_count": 10,
   "id": "a18a3981-36b6-4e3e-a472-f87c5495808b",
   "metadata": {},
   "outputs": [],
   "source": [
    "nums.sort()"
   ]
  },
  {
   "cell_type": "code",
   "execution_count": 11,
   "id": "618fd7a2-1d5a-4223-aed4-abf4b5f27e39",
   "metadata": {},
   "outputs": [
    {
     "name": "stdout",
     "output_type": "stream",
     "text": [
      "[ 0  1  2  3  4  5  6  7  8  9 10 11 12 13 14 15 16 17 18 19 20 21 22 23\n",
      " 24 25 26 27 28 29 30 31 32 33 34 35 36 37 38 39 40 41 42 43 44 45 46 47\n",
      " 48 49 50 51 52 53 54 55 56 57 58 59 60 61 62 63 64 65 66 67 68 69 70 71\n",
      " 72 73 74 75 76 77 78 79 80 81 82 83 84 85 86 87 88 89 90 91 92 93 94 95\n",
      " 96 97 98 99]\n"
     ]
    }
   ],
   "source": [
    "print(nums)"
   ]
  },
  {
   "cell_type": "code",
   "execution_count": null,
   "id": "8ce30f7f-1606-41b7-abd4-cc2ec6a51338",
   "metadata": {},
   "outputs": [],
   "source": []
  },
  {
   "cell_type": "markdown",
   "id": "32e3a741-0c36-4d2f-a749-a158deed87a4",
   "metadata": {},
   "source": [
    "Read in chunks (https://stackoverflow.com/questions/38818609/skip-rows-with-missing-values-in-read-csv)  \n",
    "remove any rows containing NaN"
   ]
  },
  {
   "cell_type": "code",
   "execution_count": 12,
   "id": "f4e694d3-cd16-4bb6-95bd-d2a73a22eb8a",
   "metadata": {},
   "outputs": [],
   "source": [
    "file = '../Week7/expedia-hotel-recommendations/train.csv'"
   ]
  },
  {
   "cell_type": "code",
   "execution_count": 13,
   "id": "5ee98085-56d4-4e4d-8698-5be016d8fb6d",
   "metadata": {},
   "outputs": [],
   "source": [
    "# # okay, this takes basically forever (at least half an hour)\n",
    "# %% time\n",
    "# result = pd.DataFrame()\n",
    "# df = pd.read_csv(file, chunksize=1000)\n",
    "# for chunk in df:\n",
    "#     chunk.dropna(axis=0, inplace=True) # Dropping all rows with any NaN value\n",
    "# #     chunk[colToConvert] = chunk[colToConvert].astype(np.uint32)\n",
    "#     result = result.append(chunk)\n",
    "# del df, chunk"
   ]
  },
  {
   "cell_type": "code",
   "execution_count": null,
   "id": "fe68462f-bb08-450c-bddd-425f87ec387b",
   "metadata": {},
   "outputs": [],
   "source": []
  },
  {
   "cell_type": "code",
   "execution_count": 14,
   "id": "596644cb-0091-4f55-af55-b9093d802487",
   "metadata": {},
   "outputs": [],
   "source": [
    "train = pd.read_csv(file, nrows=100000)"
   ]
  },
  {
   "cell_type": "code",
   "execution_count": 15,
   "id": "2a8b2866-99ed-491c-8422-b5e3acc5cc07",
   "metadata": {},
   "outputs": [
    {
     "data": {
      "text/plain": [
       "(100000, 24)"
      ]
     },
     "execution_count": 15,
     "metadata": {},
     "output_type": "execute_result"
    }
   ],
   "source": [
    "train.shape"
   ]
  },
  {
   "cell_type": "code",
   "execution_count": 16,
   "id": "699b85b5-732b-4671-811f-66cc71edf006",
   "metadata": {},
   "outputs": [],
   "source": [
    "train.dropna(axis=0, inplace=True)"
   ]
  },
  {
   "cell_type": "code",
   "execution_count": 17,
   "id": "d09786c4-e411-4cd9-9ed5-6e23683eceda",
   "metadata": {},
   "outputs": [
    {
     "data": {
      "text/plain": [
       "(63023, 24)"
      ]
     },
     "execution_count": 17,
     "metadata": {},
     "output_type": "execute_result"
    }
   ],
   "source": [
    "train.shape"
   ]
  },
  {
   "cell_type": "code",
   "execution_count": 18,
   "id": "8b3a963e-8960-450e-bba4-3bf46ead451b",
   "metadata": {},
   "outputs": [],
   "source": [
    "# %%time # 15.2 s\n",
    "# n = sum(1 for line in open(file)) - 1"
   ]
  },
  {
   "cell_type": "code",
   "execution_count": 20,
   "id": "a9adc434-c7a1-4991-8a97-a8610caa8246",
   "metadata": {},
   "outputs": [],
   "source": [
    "# n # 37,670,293 rows"
   ]
  },
  {
   "cell_type": "markdown",
   "id": "3878f529-abdb-4dd7-932c-91344b9761b2",
   "metadata": {},
   "source": [
    "Get a random sample of size *s*"
   ]
  },
  {
   "cell_type": "code",
   "execution_count": 21,
   "id": "203d5ba0-43ec-4ad7-8d7b-bb89d70199b8",
   "metadata": {},
   "outputs": [
    {
     "name": "stdout",
     "output_type": "stream",
     "text": [
      "Wall time: 1min 44s\n"
     ]
    }
   ],
   "source": [
    "%%time \n",
    "# 1 min 16 s for 100k row sample; same for 10k\n",
    "n = 37670293 # number of records in file\n",
    "s = 100000 # desired sample size\n",
    "skip = sorted(random.sample(range(n), n-s))\n",
    "colNames = pd.read_csv(file, nrows=1).columns\n",
    "ranDF = pd.read_csv(file, skiprows=skip, names=colNames)"
   ]
  },
  {
   "cell_type": "code",
   "execution_count": 22,
   "id": "fabd70b1-fb89-4f1b-a261-87b27aaba213",
   "metadata": {},
   "outputs": [
    {
     "data": {
      "text/plain": [
       "(100001, 24)"
      ]
     },
     "execution_count": 22,
     "metadata": {},
     "output_type": "execute_result"
    }
   ],
   "source": [
    "ranDF.shape"
   ]
  },
  {
   "cell_type": "code",
   "execution_count": 23,
   "id": "1809ee45-11f9-4916-9f35-0c7b4776e0c7",
   "metadata": {},
   "outputs": [
    {
     "data": {
      "text/html": [
       "<div>\n",
       "<style scoped>\n",
       "    .dataframe tbody tr th:only-of-type {\n",
       "        vertical-align: middle;\n",
       "    }\n",
       "\n",
       "    .dataframe tbody tr th {\n",
       "        vertical-align: top;\n",
       "    }\n",
       "\n",
       "    .dataframe thead th {\n",
       "        text-align: right;\n",
       "    }\n",
       "</style>\n",
       "<table border=\"1\" class=\"dataframe\">\n",
       "  <thead>\n",
       "    <tr style=\"text-align: right;\">\n",
       "      <th></th>\n",
       "      <th>date_time</th>\n",
       "      <th>site_name</th>\n",
       "      <th>posa_continent</th>\n",
       "      <th>user_location_country</th>\n",
       "      <th>user_location_region</th>\n",
       "      <th>user_location_city</th>\n",
       "      <th>orig_destination_distance</th>\n",
       "      <th>user_id</th>\n",
       "      <th>is_mobile</th>\n",
       "      <th>is_package</th>\n",
       "      <th>...</th>\n",
       "      <th>srch_children_cnt</th>\n",
       "      <th>srch_rm_cnt</th>\n",
       "      <th>srch_destination_id</th>\n",
       "      <th>srch_destination_type_id</th>\n",
       "      <th>is_booking</th>\n",
       "      <th>cnt</th>\n",
       "      <th>hotel_continent</th>\n",
       "      <th>hotel_country</th>\n",
       "      <th>hotel_market</th>\n",
       "      <th>hotel_cluster</th>\n",
       "    </tr>\n",
       "  </thead>\n",
       "  <tbody>\n",
       "    <tr>\n",
       "      <th>0</th>\n",
       "      <td>2014-08-11 08:22:12</td>\n",
       "      <td>2</td>\n",
       "      <td>3</td>\n",
       "      <td>66</td>\n",
       "      <td>348</td>\n",
       "      <td>48862</td>\n",
       "      <td>2234.2641</td>\n",
       "      <td>12</td>\n",
       "      <td>0</td>\n",
       "      <td>1</td>\n",
       "      <td>...</td>\n",
       "      <td>0</td>\n",
       "      <td>1</td>\n",
       "      <td>8250</td>\n",
       "      <td>1</td>\n",
       "      <td>1</td>\n",
       "      <td>1</td>\n",
       "      <td>2</td>\n",
       "      <td>50</td>\n",
       "      <td>628</td>\n",
       "      <td>1</td>\n",
       "    </tr>\n",
       "    <tr>\n",
       "      <th>1</th>\n",
       "      <td>2014-04-15 12:37:26</td>\n",
       "      <td>2</td>\n",
       "      <td>3</td>\n",
       "      <td>66</td>\n",
       "      <td>260</td>\n",
       "      <td>19022</td>\n",
       "      <td>834.1050</td>\n",
       "      <td>8252</td>\n",
       "      <td>0</td>\n",
       "      <td>1</td>\n",
       "      <td>...</td>\n",
       "      <td>1</td>\n",
       "      <td>1</td>\n",
       "      <td>8268</td>\n",
       "      <td>1</td>\n",
       "      <td>0</td>\n",
       "      <td>1</td>\n",
       "      <td>2</td>\n",
       "      <td>50</td>\n",
       "      <td>682</td>\n",
       "      <td>77</td>\n",
       "    </tr>\n",
       "    <tr>\n",
       "      <th>2</th>\n",
       "      <td>2014-09-22 14:06:53</td>\n",
       "      <td>2</td>\n",
       "      <td>3</td>\n",
       "      <td>66</td>\n",
       "      <td>153</td>\n",
       "      <td>50542</td>\n",
       "      <td>2926.2327</td>\n",
       "      <td>15632</td>\n",
       "      <td>0</td>\n",
       "      <td>1</td>\n",
       "      <td>...</td>\n",
       "      <td>1</td>\n",
       "      <td>1</td>\n",
       "      <td>13094</td>\n",
       "      <td>3</td>\n",
       "      <td>0</td>\n",
       "      <td>1</td>\n",
       "      <td>2</td>\n",
       "      <td>50</td>\n",
       "      <td>212</td>\n",
       "      <td>21</td>\n",
       "    </tr>\n",
       "    <tr>\n",
       "      <th>3</th>\n",
       "      <td>2014-12-28 12:31:26</td>\n",
       "      <td>2</td>\n",
       "      <td>3</td>\n",
       "      <td>66</td>\n",
       "      <td>220</td>\n",
       "      <td>43026</td>\n",
       "      <td>4703.7133</td>\n",
       "      <td>23234</td>\n",
       "      <td>0</td>\n",
       "      <td>0</td>\n",
       "      <td>...</td>\n",
       "      <td>0</td>\n",
       "      <td>1</td>\n",
       "      <td>8859</td>\n",
       "      <td>1</td>\n",
       "      <td>0</td>\n",
       "      <td>1</td>\n",
       "      <td>2</td>\n",
       "      <td>50</td>\n",
       "      <td>212</td>\n",
       "      <td>41</td>\n",
       "    </tr>\n",
       "    <tr>\n",
       "      <th>4</th>\n",
       "      <td>2014-11-03 15:57:09</td>\n",
       "      <td>2</td>\n",
       "      <td>3</td>\n",
       "      <td>66</td>\n",
       "      <td>254</td>\n",
       "      <td>21713</td>\n",
       "      <td>1583.6919</td>\n",
       "      <td>23532</td>\n",
       "      <td>1</td>\n",
       "      <td>0</td>\n",
       "      <td>...</td>\n",
       "      <td>0</td>\n",
       "      <td>2</td>\n",
       "      <td>8824</td>\n",
       "      <td>1</td>\n",
       "      <td>1</td>\n",
       "      <td>1</td>\n",
       "      <td>4</td>\n",
       "      <td>8</td>\n",
       "      <td>118</td>\n",
       "      <td>30</td>\n",
       "    </tr>\n",
       "  </tbody>\n",
       "</table>\n",
       "<p>5 rows × 24 columns</p>\n",
       "</div>"
      ],
      "text/plain": [
       "             date_time  site_name  posa_continent  user_location_country  \\\n",
       "0  2014-08-11 08:22:12          2               3                     66   \n",
       "1  2014-04-15 12:37:26          2               3                     66   \n",
       "2  2014-09-22 14:06:53          2               3                     66   \n",
       "3  2014-12-28 12:31:26          2               3                     66   \n",
       "4  2014-11-03 15:57:09          2               3                     66   \n",
       "\n",
       "   user_location_region  user_location_city  orig_destination_distance  \\\n",
       "0                   348               48862                  2234.2641   \n",
       "1                   260               19022                   834.1050   \n",
       "2                   153               50542                  2926.2327   \n",
       "3                   220               43026                  4703.7133   \n",
       "4                   254               21713                  1583.6919   \n",
       "\n",
       "   user_id  is_mobile  is_package  ...  srch_children_cnt srch_rm_cnt  \\\n",
       "0       12          0           1  ...                  0           1   \n",
       "1     8252          0           1  ...                  1           1   \n",
       "2    15632          0           1  ...                  1           1   \n",
       "3    23234          0           0  ...                  0           1   \n",
       "4    23532          1           0  ...                  0           2   \n",
       "\n",
       "  srch_destination_id  srch_destination_type_id  is_booking  cnt  \\\n",
       "0                8250                         1           1    1   \n",
       "1                8268                         1           0    1   \n",
       "2               13094                         3           0    1   \n",
       "3                8859                         1           0    1   \n",
       "4                8824                         1           1    1   \n",
       "\n",
       "   hotel_continent  hotel_country  hotel_market  hotel_cluster  \n",
       "0                2             50           628              1  \n",
       "1                2             50           682             77  \n",
       "2                2             50           212             21  \n",
       "3                2             50           212             41  \n",
       "4                4              8           118             30  \n",
       "\n",
       "[5 rows x 24 columns]"
      ]
     },
     "execution_count": 23,
     "metadata": {},
     "output_type": "execute_result"
    }
   ],
   "source": [
    "ranDF.head()"
   ]
  },
  {
   "cell_type": "markdown",
   "id": "5fd375e6-fc26-41ed-9f23-5f392abdce72",
   "metadata": {},
   "source": [
    "~Somehow we're losing the header, hmmm~   Fixed!"
   ]
  },
  {
   "cell_type": "code",
   "execution_count": 24,
   "id": "ad512f3e-f721-41df-b641-f72186e394b1",
   "metadata": {},
   "outputs": [],
   "source": [
    "ranDF.dropna(axis=0, inplace=True)"
   ]
  },
  {
   "cell_type": "code",
   "execution_count": 25,
   "id": "779f9d52-ace5-4ebd-833a-476d43347ce9",
   "metadata": {},
   "outputs": [
    {
     "data": {
      "text/plain": [
       "(63937, 24)"
      ]
     },
     "execution_count": 25,
     "metadata": {},
     "output_type": "execute_result"
    }
   ],
   "source": [
    "ranDF.shape"
   ]
  },
  {
   "cell_type": "markdown",
   "id": "f866815e-a90b-4832-8810-bcbd032e6004",
   "metadata": {},
   "source": [
    "#### Split into train and test groups"
   ]
  },
  {
   "cell_type": "markdown",
   "id": "55f9fbfd-70f2-462b-90ca-6423d85055e3",
   "metadata": {},
   "source": [
    "Using pandas"
   ]
  },
  {
   "cell_type": "code",
   "execution_count": 26,
   "id": "b6d7d956-1048-48b5-938b-b0362e28000d",
   "metadata": {},
   "outputs": [
    {
     "ename": "NameError",
     "evalue": "name 'training_pd' is not defined",
     "output_type": "error",
     "traceback": [
      "\u001b[1;31m---------------------------------------------------------------------------\u001b[0m",
      "\u001b[1;31mNameError\u001b[0m                                 Traceback (most recent call last)",
      "\u001b[1;32m~\\AppData\\Local\\Temp/ipykernel_8852/3661312281.py\u001b[0m in \u001b[0;36m<module>\u001b[1;34m\u001b[0m\n\u001b[0;32m      1\u001b[0m \u001b[0mtrain_pd\u001b[0m \u001b[1;33m=\u001b[0m \u001b[0mranDF\u001b[0m\u001b[1;33m.\u001b[0m\u001b[0msample\u001b[0m\u001b[1;33m(\u001b[0m\u001b[0mfrac\u001b[0m\u001b[1;33m=\u001b[0m\u001b[1;36m0.8\u001b[0m\u001b[1;33m,\u001b[0m \u001b[0mrandom_state\u001b[0m\u001b[1;33m=\u001b[0m\u001b[1;36m42\u001b[0m\u001b[1;33m)\u001b[0m\u001b[1;33m\u001b[0m\u001b[1;33m\u001b[0m\u001b[0m\n\u001b[1;32m----> 2\u001b[1;33m \u001b[0mtest_pd\u001b[0m \u001b[1;33m=\u001b[0m \u001b[0mranDF\u001b[0m\u001b[1;33m.\u001b[0m\u001b[0mdrop\u001b[0m\u001b[1;33m(\u001b[0m\u001b[0mtraining_pd\u001b[0m\u001b[1;33m.\u001b[0m\u001b[0mindex\u001b[0m\u001b[1;33m)\u001b[0m\u001b[1;33m\u001b[0m\u001b[1;33m\u001b[0m\u001b[0m\n\u001b[0m",
      "\u001b[1;31mNameError\u001b[0m: name 'training_pd' is not defined"
     ]
    }
   ],
   "source": [
    "train_pd = ranDF.sample(frac=0.8, random_state=42)\n",
    "test_pd = ranDF.drop(training_pd.index)"
   ]
  },
  {
   "cell_type": "code",
   "execution_count": null,
   "id": "36224ed6-ab15-47b7-8ce5-82b7c9e959a0",
   "metadata": {},
   "outputs": [],
   "source": [
    "train_pd.shape"
   ]
  },
  {
   "cell_type": "code",
   "execution_count": null,
   "id": "6420dcba-b223-4291-b3cc-5b4cea8d9bee",
   "metadata": {},
   "outputs": [],
   "source": [
    "test_pd.shape"
   ]
  },
  {
   "cell_type": "markdown",
   "id": "ba617ce2-2072-4df5-acd0-63961fb93f36",
   "metadata": {},
   "source": [
    "Using scikit-learn *(I like this one, it's the cleanest)*"
   ]
  },
  {
   "cell_type": "code",
   "execution_count": null,
   "id": "198db759-3fc6-4079-9200-b35e82781fce",
   "metadata": {},
   "outputs": [],
   "source": [
    "from sklearn.model_selection import train_test_split\n",
    "\n",
    "train_sk, test_sk = train_test_split(ranDF, test_size=0.2, random_state=42)"
   ]
  },
  {
   "cell_type": "code",
   "execution_count": null,
   "id": "295e224f-80f3-4e08-be70-5a280d859842",
   "metadata": {},
   "outputs": [],
   "source": [
    "train_sk.shape"
   ]
  },
  {
   "cell_type": "code",
   "execution_count": null,
   "id": "08bdf765-fc8d-48a2-be1c-edd3b875b469",
   "metadata": {},
   "outputs": [],
   "source": [
    "test_sk.shape"
   ]
  },
  {
   "cell_type": "markdown",
   "id": "bfda65ea-db9b-4702-90a7-5a515e7fc616",
   "metadata": {},
   "source": [
    "Using numpy"
   ]
  },
  {
   "cell_type": "code",
   "execution_count": null,
   "id": "0569aaf3-300f-4d6f-a978-af8662d01897",
   "metadata": {},
   "outputs": [],
   "source": [
    "# import numpy as np\n",
    "# mask = np.random.rand(len(ranDF)) =< 0.8\n",
    "# train_np = ranDF[mask]\n",
    "# test_np = ranDF[~mask]\n",
    "\n",
    "# # Okay, I guess this one doesn't work; I didn't like it anyway"
   ]
  },
  {
   "cell_type": "code",
   "execution_count": null,
   "id": "221a46c4-d6c6-4449-be2f-0ce764819899",
   "metadata": {},
   "outputs": [],
   "source": [
    "train_sk.head()"
   ]
  },
  {
   "cell_type": "code",
   "execution_count": null,
   "id": "38e7cd58-8dc1-4bc8-a533-d9d097297f5b",
   "metadata": {},
   "outputs": [],
   "source": [
    "train_sk.describe()"
   ]
  },
  {
   "cell_type": "code",
   "execution_count": null,
   "id": "589033ff-02f2-4fce-baf2-e76a6aec5c64",
   "metadata": {},
   "outputs": [],
   "source": []
  }
 ],
 "metadata": {
  "kernelspec": {
   "display_name": "Python 3 (ipykernel)",
   "language": "python",
   "name": "python3"
  },
  "language_info": {
   "codemirror_mode": {
    "name": "ipython",
    "version": 3
   },
   "file_extension": ".py",
   "mimetype": "text/x-python",
   "name": "python",
   "nbconvert_exporter": "python",
   "pygments_lexer": "ipython3",
   "version": "3.9.7"
  }
 },
 "nbformat": 4,
 "nbformat_minor": 5
}
