{
 "cells": [
  {
   "cell_type": "markdown",
   "id": "2bf8f538-a8a1-4d05-9c12-b0997b4a86e9",
   "metadata": {},
   "source": [
    "# Scott Breitbach\n",
    "## 16-Oct-2021\n",
    "## DSC630, Assignment 7.2: Create Optimal Hotel Recommendations"
   ]
  },
  {
   "cell_type": "markdown",
   "id": "d62dc617-2e85-4e06-8d4c-a7b4af476f2a",
   "metadata": {},
   "source": [
    "1) Start by doing some exploratory analysis of this data to help understand how to make a prediction on the hotel cluster the user is likely to select.  \n",
    "2) Then, split train.csv into a training and test set (feel free to select a smaller random subset of train.csv).  \n",
    "3) Then, build at least two prediction models from the training set, and report the accuracies on the test set.   \n"
   ]
  },
  {
   "cell_type": "markdown",
   "id": "3f15fe11-b54c-4024-9cc3-603b286028cc",
   "metadata": {},
   "source": [
    "# Exploratory Data Analysis"
   ]
  },
  {
   "cell_type": "code",
   "execution_count": 2,
   "id": "fc508f32-f4a8-4f5f-a05d-558bb46decd8",
   "metadata": {},
   "outputs": [],
   "source": [
    "# Load Libraries\n",
    "import numpy as np\n",
    "import pandas as pd\n",
    "import random\n",
    "random.seed(42)"
   ]
  },
  {
   "cell_type": "markdown",
   "id": "b6b7adfd-92bf-4b3c-801d-b1da12e504b4",
   "metadata": {},
   "source": [
    "Get a random sample of size *s*:"
   ]
  },
  {
   "cell_type": "code",
   "execution_count": 2,
   "id": "6ededb2f-dcbe-4425-9479-7fa0b756ddc5",
   "metadata": {},
   "outputs": [
    {
     "name": "stdout",
     "output_type": "stream",
     "text": [
      "Wall time: 1min 26s\n"
     ]
    }
   ],
   "source": [
    "%%time\n",
    "# Load a random subset of rows from the data set\n",
    "file = '../Week7/expedia-hotel-recommendations/train.csv'\n",
    "\n",
    "# n = 37670293 # number of records in file\n",
    "n = sum(1 for line in open(file)) - 1\n",
    "s = 100000 # desired sample size\n",
    "# skip = sorted(random.sample(range(n), n-s))\n",
    "skip = sorted(random.sample(range(1, n+1), n-s))\n",
    "# colNames = pd.read_csv(file, nrows=1).columns\n",
    "# ranDF = pd.read_csv(file, skiprows=skip, names=colNames)\n",
    "ranDF = pd.read_csv(file, skiprows=skip)"
   ]
  },
  {
   "cell_type": "code",
   "execution_count": 3,
   "id": "bc1b2c19-2b1a-4f63-bd97-4f83e0820b93",
   "metadata": {},
   "outputs": [],
   "source": [
    "# Drop any rows containing null values\n",
    "ranDF.dropna(axis=0, inplace=True)"
   ]
  },
  {
   "cell_type": "markdown",
   "id": "09283401-ae66-4f45-9d6b-574940596611",
   "metadata": {},
   "source": [
    "Get an idea of what the data set looks like:"
   ]
  },
  {
   "cell_type": "code",
   "execution_count": 4,
   "id": "09b166bc-f27d-42f7-bab1-5b94b8a134ca",
   "metadata": {},
   "outputs": [
    {
     "data": {
      "text/plain": [
       "(63935, 24)"
      ]
     },
     "execution_count": 4,
     "metadata": {},
     "output_type": "execute_result"
    }
   ],
   "source": [
    "ranDF.shape"
   ]
  },
  {
   "cell_type": "code",
   "execution_count": 5,
   "id": "1547bf55-d5d3-48dd-9383-adec95bacf9c",
   "metadata": {},
   "outputs": [
    {
     "name": "stdout",
     "output_type": "stream",
     "text": [
      "<class 'pandas.core.frame.DataFrame'>\n",
      "Int64Index: 63935 entries, 0 to 99996\n",
      "Data columns (total 24 columns):\n",
      " #   Column                     Non-Null Count  Dtype  \n",
      "---  ------                     --------------  -----  \n",
      " 0   date_time                  63935 non-null  object \n",
      " 1   site_name                  63935 non-null  int64  \n",
      " 2   posa_continent             63935 non-null  int64  \n",
      " 3   user_location_country      63935 non-null  int64  \n",
      " 4   user_location_region       63935 non-null  int64  \n",
      " 5   user_location_city         63935 non-null  int64  \n",
      " 6   orig_destination_distance  63935 non-null  float64\n",
      " 7   user_id                    63935 non-null  int64  \n",
      " 8   is_mobile                  63935 non-null  int64  \n",
      " 9   is_package                 63935 non-null  int64  \n",
      " 10  channel                    63935 non-null  int64  \n",
      " 11  srch_ci                    63935 non-null  object \n",
      " 12  srch_co                    63935 non-null  object \n",
      " 13  srch_adults_cnt            63935 non-null  int64  \n",
      " 14  srch_children_cnt          63935 non-null  int64  \n",
      " 15  srch_rm_cnt                63935 non-null  int64  \n",
      " 16  srch_destination_id        63935 non-null  int64  \n",
      " 17  srch_destination_type_id   63935 non-null  int64  \n",
      " 18  is_booking                 63935 non-null  int64  \n",
      " 19  cnt                        63935 non-null  int64  \n",
      " 20  hotel_continent            63935 non-null  int64  \n",
      " 21  hotel_country              63935 non-null  int64  \n",
      " 22  hotel_market               63935 non-null  int64  \n",
      " 23  hotel_cluster              63935 non-null  int64  \n",
      "dtypes: float64(1), int64(20), object(3)\n",
      "memory usage: 12.2+ MB\n"
     ]
    }
   ],
   "source": [
    "ranDF.info()"
   ]
  },
  {
   "cell_type": "code",
   "execution_count": 6,
   "id": "42665822-a088-4be7-ba6d-bd085f44328b",
   "metadata": {},
   "outputs": [
    {
     "data": {
      "text/html": [
       "<div>\n",
       "<style scoped>\n",
       "    .dataframe tbody tr th:only-of-type {\n",
       "        vertical-align: middle;\n",
       "    }\n",
       "\n",
       "    .dataframe tbody tr th {\n",
       "        vertical-align: top;\n",
       "    }\n",
       "\n",
       "    .dataframe thead th {\n",
       "        text-align: right;\n",
       "    }\n",
       "</style>\n",
       "<table border=\"1\" class=\"dataframe\">\n",
       "  <thead>\n",
       "    <tr style=\"text-align: right;\">\n",
       "      <th></th>\n",
       "      <th>date_time</th>\n",
       "      <th>site_name</th>\n",
       "      <th>posa_continent</th>\n",
       "      <th>user_location_country</th>\n",
       "      <th>user_location_region</th>\n",
       "      <th>user_location_city</th>\n",
       "      <th>orig_destination_distance</th>\n",
       "      <th>user_id</th>\n",
       "      <th>is_mobile</th>\n",
       "      <th>is_package</th>\n",
       "      <th>...</th>\n",
       "      <th>srch_children_cnt</th>\n",
       "      <th>srch_rm_cnt</th>\n",
       "      <th>srch_destination_id</th>\n",
       "      <th>srch_destination_type_id</th>\n",
       "      <th>is_booking</th>\n",
       "      <th>cnt</th>\n",
       "      <th>hotel_continent</th>\n",
       "      <th>hotel_country</th>\n",
       "      <th>hotel_market</th>\n",
       "      <th>hotel_cluster</th>\n",
       "    </tr>\n",
       "  </thead>\n",
       "  <tbody>\n",
       "    <tr>\n",
       "      <th>0</th>\n",
       "      <td>2014-08-11 08:24:33</td>\n",
       "      <td>2</td>\n",
       "      <td>3</td>\n",
       "      <td>66</td>\n",
       "      <td>348</td>\n",
       "      <td>48862</td>\n",
       "      <td>2234.2641</td>\n",
       "      <td>12</td>\n",
       "      <td>0</td>\n",
       "      <td>0</td>\n",
       "      <td>...</td>\n",
       "      <td>0</td>\n",
       "      <td>1</td>\n",
       "      <td>8250</td>\n",
       "      <td>1</td>\n",
       "      <td>0</td>\n",
       "      <td>1</td>\n",
       "      <td>2</td>\n",
       "      <td>50</td>\n",
       "      <td>628</td>\n",
       "      <td>1</td>\n",
       "    </tr>\n",
       "    <tr>\n",
       "      <th>1</th>\n",
       "      <td>2014-05-15 18:30:52</td>\n",
       "      <td>2</td>\n",
       "      <td>3</td>\n",
       "      <td>66</td>\n",
       "      <td>260</td>\n",
       "      <td>19022</td>\n",
       "      <td>7311.9666</td>\n",
       "      <td>8252</td>\n",
       "      <td>0</td>\n",
       "      <td>1</td>\n",
       "      <td>...</td>\n",
       "      <td>1</td>\n",
       "      <td>1</td>\n",
       "      <td>468</td>\n",
       "      <td>1</td>\n",
       "      <td>0</td>\n",
       "      <td>1</td>\n",
       "      <td>3</td>\n",
       "      <td>48</td>\n",
       "      <td>153</td>\n",
       "      <td>26</td>\n",
       "    </tr>\n",
       "    <tr>\n",
       "      <th>2</th>\n",
       "      <td>2014-09-22 14:13:18</td>\n",
       "      <td>2</td>\n",
       "      <td>3</td>\n",
       "      <td>66</td>\n",
       "      <td>153</td>\n",
       "      <td>50542</td>\n",
       "      <td>761.0443</td>\n",
       "      <td>15632</td>\n",
       "      <td>0</td>\n",
       "      <td>1</td>\n",
       "      <td>...</td>\n",
       "      <td>1</td>\n",
       "      <td>1</td>\n",
       "      <td>8805</td>\n",
       "      <td>1</td>\n",
       "      <td>0</td>\n",
       "      <td>1</td>\n",
       "      <td>4</td>\n",
       "      <td>8</td>\n",
       "      <td>120</td>\n",
       "      <td>52</td>\n",
       "    </tr>\n",
       "    <tr>\n",
       "      <th>3</th>\n",
       "      <td>2014-12-28 12:36:25</td>\n",
       "      <td>2</td>\n",
       "      <td>3</td>\n",
       "      <td>66</td>\n",
       "      <td>220</td>\n",
       "      <td>43026</td>\n",
       "      <td>4703.5435</td>\n",
       "      <td>23234</td>\n",
       "      <td>0</td>\n",
       "      <td>0</td>\n",
       "      <td>...</td>\n",
       "      <td>0</td>\n",
       "      <td>1</td>\n",
       "      <td>8859</td>\n",
       "      <td>1</td>\n",
       "      <td>0</td>\n",
       "      <td>1</td>\n",
       "      <td>2</td>\n",
       "      <td>50</td>\n",
       "      <td>212</td>\n",
       "      <td>55</td>\n",
       "    </tr>\n",
       "    <tr>\n",
       "      <th>4</th>\n",
       "      <td>2014-08-13 13:41:21</td>\n",
       "      <td>2</td>\n",
       "      <td>3</td>\n",
       "      <td>66</td>\n",
       "      <td>348</td>\n",
       "      <td>48862</td>\n",
       "      <td>341.2798</td>\n",
       "      <td>23569</td>\n",
       "      <td>0</td>\n",
       "      <td>0</td>\n",
       "      <td>...</td>\n",
       "      <td>0</td>\n",
       "      <td>1</td>\n",
       "      <td>8287</td>\n",
       "      <td>1</td>\n",
       "      <td>0</td>\n",
       "      <td>2</td>\n",
       "      <td>2</td>\n",
       "      <td>198</td>\n",
       "      <td>397</td>\n",
       "      <td>9</td>\n",
       "    </tr>\n",
       "  </tbody>\n",
       "</table>\n",
       "<p>5 rows × 24 columns</p>\n",
       "</div>"
      ],
      "text/plain": [
       "             date_time  site_name  posa_continent  user_location_country  \\\n",
       "0  2014-08-11 08:24:33          2               3                     66   \n",
       "1  2014-05-15 18:30:52          2               3                     66   \n",
       "2  2014-09-22 14:13:18          2               3                     66   \n",
       "3  2014-12-28 12:36:25          2               3                     66   \n",
       "4  2014-08-13 13:41:21          2               3                     66   \n",
       "\n",
       "   user_location_region  user_location_city  orig_destination_distance  \\\n",
       "0                   348               48862                  2234.2641   \n",
       "1                   260               19022                  7311.9666   \n",
       "2                   153               50542                   761.0443   \n",
       "3                   220               43026                  4703.5435   \n",
       "4                   348               48862                   341.2798   \n",
       "\n",
       "   user_id  is_mobile  is_package  ...  srch_children_cnt srch_rm_cnt  \\\n",
       "0       12          0           0  ...                  0           1   \n",
       "1     8252          0           1  ...                  1           1   \n",
       "2    15632          0           1  ...                  1           1   \n",
       "3    23234          0           0  ...                  0           1   \n",
       "4    23569          0           0  ...                  0           1   \n",
       "\n",
       "  srch_destination_id  srch_destination_type_id  is_booking  cnt  \\\n",
       "0                8250                         1           0    1   \n",
       "1                 468                         1           0    1   \n",
       "2                8805                         1           0    1   \n",
       "3                8859                         1           0    1   \n",
       "4                8287                         1           0    2   \n",
       "\n",
       "   hotel_continent  hotel_country  hotel_market  hotel_cluster  \n",
       "0                2             50           628              1  \n",
       "1                3             48           153             26  \n",
       "2                4              8           120             52  \n",
       "3                2             50           212             55  \n",
       "4                2            198           397              9  \n",
       "\n",
       "[5 rows x 24 columns]"
      ]
     },
     "execution_count": 6,
     "metadata": {},
     "output_type": "execute_result"
    }
   ],
   "source": [
    "ranDF.head()"
   ]
  },
  {
   "cell_type": "markdown",
   "id": "8ae8d020-de15-4323-b5e2-0e60b8c6af82",
   "metadata": {},
   "source": [
    "Go through each variable to look at distributions:"
   ]
  },
  {
   "cell_type": "code",
   "execution_count": 7,
   "id": "50b50c1e-194a-4014-b5bb-31b2e509056f",
   "metadata": {},
   "outputs": [
    {
     "data": {
      "text/plain": [
       "174    10436\n",
       "348     4223\n",
       "354     3767\n",
       "442     3523\n",
       "220     3331\n",
       "       ...  \n",
       "301        1\n",
       "364        1\n",
       "460        1\n",
       "382        1\n",
       "479        1\n",
       "Name: user_location_region, Length: 203, dtype: int64"
      ]
     },
     "execution_count": 7,
     "metadata": {},
     "output_type": "execute_result"
    }
   ],
   "source": [
    "# Get counts of values for categories\n",
    "ranDF.user_location_region.value_counts()"
   ]
  },
  {
   "cell_type": "markdown",
   "id": "c125673b-f9f3-459c-858a-1ade150f168e",
   "metadata": {},
   "source": [
    "Plot histograms"
   ]
  },
  {
   "cell_type": "code",
   "execution_count": 3,
   "id": "40b8aa0d-d225-402f-a2ac-998af99652e9",
   "metadata": {},
   "outputs": [],
   "source": [
    "# Load Libraries\n",
    "import matplotlib.pyplot as plt\n",
    "import seaborn as sns"
   ]
  },
  {
   "cell_type": "code",
   "execution_count": 9,
   "id": "b1e5b3ed-9d41-4ac0-aae4-03378c2a94f8",
   "metadata": {},
   "outputs": [],
   "source": [
    "# Set up chart style\n",
    "sns.set_style(\"whitegrid\")\n",
    "\n",
    "# Set up the figure size\n",
    "%matplotlib inline\n",
    "plt.rcParams['figure.figsize'] = (10, 5)"
   ]
  },
  {
   "cell_type": "code",
   "execution_count": 10,
   "id": "9ff0e087-d334-4ed1-9522-50899747cfc5",
   "metadata": {},
   "outputs": [
    {
     "data": {
      "image/png": "[encoded data removed]",
      "text/plain": [
       "<Figure size 720x360 with 25 Axes>"
      ]
     },
     "metadata": {
      "needs_background": "light"
     },
     "output_type": "display_data"
    }
   ],
   "source": [
    "# plot histograms\n",
    "hist = ranDF.hist(bins=20)"
   ]
  },
  {
   "cell_type": "code",
   "execution_count": 11,
   "id": "d9ca15b1-10d9-4f0a-9464-733dc28e6b06",
   "metadata": {},
   "outputs": [],
   "source": [
    "# Function for plotting a histogram, given column and dataframe\n",
    "def makeHistogram(var, df=ranDF):\n",
    "    # Create a histogram from a DataFrame variable\n",
    "    plt.hist(df[var], bins=40)\n",
    "    plt.xlabel(var, fontsize=20)\n",
    "    plt.ylabel('Counts', fontsize=20)\n",
    "    plt.tick_params(axis='both', labelsize=15)\n",
    "    plt.show()"
   ]
  },
  {
   "cell_type": "code",
   "execution_count": 12,
   "id": "1eac1f37-97d1-4929-87f5-2322915e1b46",
   "metadata": {},
   "outputs": [],
   "source": [
    "# %%time\n",
    "# # Plot each variable in the dataframe\n",
    "# for i in colNames:\n",
    "#     makeHistogram(i)"
   ]
  },
  {
   "cell_type": "markdown",
   "id": "3617a06d-663d-4603-9ff6-8788059d6aae",
   "metadata": {},
   "source": [
    "Even though they are all represented numerically, the majority of features are categorical and will need to be treated as such. Many have one dominant value so I may convert those to binary in an effort to even them out."
   ]
  },
  {
   "cell_type": "code",
   "execution_count": 13,
   "id": "abb1c119-9ff9-4daf-ad9b-d2988ea5d769",
   "metadata": {},
   "outputs": [],
   "source": [
    "# Get list of date formatted columns\n",
    "datCols = ['date_time', 'srch_ci', 'srch_co']\n",
    "\n",
    "# Get list of categorical variable columns\n",
    "catCols = ['site_name', 'posa_continent', 'user_location_country', \n",
    "           'user_location_region', 'user_location_city', 'user_id', \n",
    "           'channel', 'srch_destination_id', 'srch_destination_type_id', \n",
    "           'hotel_continent', 'hotel_country', 'hotel_market', 'hotel_cluster']\n",
    "\n",
    "# Get list of continuous variable columns\n",
    "numCols = ['orig_destination_distance', 'srch_adults_cnt', 'srch_children_cnt', \n",
    "           'srch_rm_cnt', 'cnt']\n",
    "           \n",
    "# List of yes/no binary variable columns\n",
    "ynCols = ['is_mobile', 'is_package', 'is_booking']"
   ]
  },
  {
   "cell_type": "markdown",
   "id": "8f4377cf-61f9-4414-8788-63e057282711",
   "metadata": {},
   "source": [
    "Chart categorical variables (boxplot)"
   ]
  },
  {
   "cell_type": "code",
   "execution_count": 14,
   "id": "074a905b-6292-4f5c-9f13-22feb1ef966e",
   "metadata": {},
   "outputs": [],
   "source": [
    "# %%time\n",
    "# # Set up chart style\n",
    "# sns.set_style(\"whitegrid\")\n",
    "\n",
    "# # Make box plots for each categorical variable\n",
    "# plt.rcParams.update({'figure.max_open_warning': 0}) # eliminate warning\n",
    "# for variable in catCols:\n",
    "#     plt.figure()\n",
    "#     sns.boxplot(x = variable, y = 'hotel_cluster', data = ranDF)"
   ]
  },
  {
   "cell_type": "markdown",
   "id": "68138f36-5380-47ff-9095-e6c750fc8dae",
   "metadata": {},
   "source": [
    "Chart binary variables (boxplot)"
   ]
  },
  {
   "cell_type": "code",
   "execution_count": 15,
   "id": "b3a5dc39-1d77-4940-83ce-b73abd7481e6",
   "metadata": {},
   "outputs": [],
   "source": [
    "# %%time\n",
    "# # Set up chart style\n",
    "# sns.set_style(\"whitegrid\")\n",
    "\n",
    "# # Make box plots for each binary variable\n",
    "# plt.rcParams.update({'figure.max_open_warning': 0}) # eliminate warning\n",
    "# for variable in ynCols:\n",
    "#     plt.figure()\n",
    "#     sns.boxplot(x = variable, y = 'hotel_cluster', data = ranDF)"
   ]
  },
  {
   "cell_type": "markdown",
   "id": "c92647c7-9e80-47e1-9904-1bb7b026fda4",
   "metadata": {},
   "source": [
    "Chart datetime variables (scatter)"
   ]
  },
  {
   "cell_type": "code",
   "execution_count": 16,
   "id": "4f1d6628-6f1e-43fb-b1c3-1674cd61c0c5",
   "metadata": {},
   "outputs": [],
   "source": [
    "# %%time\n",
    "# # Make scatter plots for each datetime variable\n",
    "# for variable in datCols:\n",
    "#     plt.scatter(x= variable, y = 'hotel_cluster', data = ranDF)\n",
    "#     plt.xlabel(variable)\n",
    "#     plt.ylabel('Hotel Cluster')\n",
    "#     plt.show()"
   ]
  },
  {
   "cell_type": "markdown",
   "id": "61d14b8b-2199-4245-9e46-807d2ac72446",
   "metadata": {},
   "source": [
    "Chart numerical variables (scatter)"
   ]
  },
  {
   "cell_type": "code",
   "execution_count": 17,
   "id": "72bbb460-4e37-4a8f-ad47-157c4ab02b32",
   "metadata": {},
   "outputs": [],
   "source": [
    "# %%time\n",
    "# # Make scatter plots for each numerical variable\n",
    "# for variable in numCols:\n",
    "#     plt.scatter(x= variable, y = 'hotel_cluster', data = ranDF)\n",
    "#     plt.xlabel(variable)\n",
    "#     plt.ylabel('Hotel Cluster')\n",
    "#     plt.show()"
   ]
  },
  {
   "cell_type": "markdown",
   "id": "3d23258e-b1f9-4c87-87d2-1ef2a53ca5a6",
   "metadata": {},
   "source": [
    "Boxplots and scatter plots against the target variable weren't that useful because 'hotel_cluster' is a categorical variable."
   ]
  },
  {
   "cell_type": "markdown",
   "id": "f7367d53-1e16-41fd-912f-4e622d3fb147",
   "metadata": {},
   "source": [
    "Look for correlations using bivariate distribution plots"
   ]
  },
  {
   "cell_type": "code",
   "execution_count": 18,
   "id": "59fe5046-0bc9-4b87-9c00-d95d98f60b9a",
   "metadata": {},
   "outputs": [
    {
     "name": "stderr",
     "output_type": "stream",
     "text": [
      "<timed exec>:3: RuntimeWarning: More than 20 figures have been opened. Figures created through the pyplot interface (`matplotlib.pyplot.figure`) are retained until explicitly closed and may consume too much memory. (To control this warning, see the rcParam `figure.max_open_warning`).\n"
     ]
    },
    {
     "name": "stdout",
     "output_type": "stream",
     "text": [
      "Wall time: 2.17 s\n"
     ]
    },
    {
     "data": {
      "text/plain": [
       "<Figure size 720x360 with 0 Axes>"
      ]
     },
     "metadata": {},
     "output_type": "display_data"
    },
    {
     "data": {
      "image/png": "[encoded data removed]",
      "text/plain": [
       "<Figure size 360x360 with 1 Axes>"
      ]
     },
     "metadata": {
      "needs_background": "light"
     },
     "output_type": "display_data"
    },
    {
     "data": {
      "text/plain": [
       "<Figure size 720x360 with 0 Axes>"
      ]
     },
     "metadata": {},
     "output_type": "display_data"
    },
    {
     "data": {
      "image/png": "[encoded data removed]",
      "text/plain": [
       "<Figure size 360x360 with 1 Axes>"
      ]
     },
     "metadata": {
      "needs_background": "light"
     },
     "output_type": "display_data"
    },
    {
     "data": {
      "text/plain": [
       "<Figure size 720x360 with 0 Axes>"
      ]
     },
     "metadata": {},
     "output_type": "display_data"
    },
    {
     "data": {
      "image/png": "[encoded data removed]",
      "text/plain": [
       "<Figure size 360x360 with 1 Axes>"
      ]
     },
     "metadata": {
      "needs_background": "light"
     },
     "output_type": "display_data"
    },
    {
     "data": {
      "text/plain": [
       "<Figure size 720x360 with 0 Axes>"
      ]
     },
     "metadata": {},
     "output_type": "display_data"
    },
    {
     "data": {
      "image/png": "[encoded data removed]",
      "text/plain": [
       "<Figure size 360x360 with 1 Axes>"
      ]
     },
     "metadata": {
      "needs_background": "light"
     },
     "output_type": "display_data"
    },
    {
     "data": {
      "text/plain": [
       "<Figure size 720x360 with 0 Axes>"
      ]
     },
     "metadata": {},
     "output_type": "display_data"
    },
    {
     "data": {
      "image/png": "[encoded data removed]",
      "text/plain": [
       "<Figure size 360x360 with 1 Axes>"
      ]
     },
     "metadata": {
      "needs_background": "light"
     },
     "output_type": "display_data"
    },
    {
     "data": {
      "text/plain": [
       "<Figure size 720x360 with 0 Axes>"
      ]
     },
     "metadata": {},
     "output_type": "display_data"
    },
    {
     "data": {
      "image/png": "[encoded data removed]",
      "text/plain": [
       "<Figure size 360x360 with 1 Axes>"
      ]
     },
     "metadata": {
      "needs_background": "light"
     },
     "output_type": "display_data"
    },
    {
     "data": {
      "text/plain": [
       "<Figure size 720x360 with 0 Axes>"
      ]
     },
     "metadata": {},
     "output_type": "display_data"
    },
    {
     "data": {
      "image/png": "[encoded data removed]",
      "text/plain": [
       "<Figure size 360x360 with 1 Axes>"
      ]
     },
     "metadata": {
      "needs_background": "light"
     },
     "output_type": "display_data"
    },
    {
     "data": {
      "text/plain": [
       "<Figure size 720x360 with 0 Axes>"
      ]
     },
     "metadata": {},
     "output_type": "display_data"
    },
    {
     "data": {
      "image/png": "[encoded data removed]",
      "text/plain": [
       "<Figure size 360x360 with 1 Axes>"
      ]
     },
     "metadata": {
      "needs_background": "light"
     },
     "output_type": "display_data"
    },
    {
     "data": {
      "text/plain": [
       "<Figure size 720x360 with 0 Axes>"
      ]
     },
     "metadata": {},
     "output_type": "display_data"
    },
    {
     "data": {
      "image/png": "[encoded data removed]",
      "text/plain": [
       "<Figure size 360x360 with 1 Axes>"
      ]
     },
     "metadata": {
      "needs_background": "light"
     },
     "output_type": "display_data"
    },
    {
     "data": {
      "text/plain": [
       "<Figure size 720x360 with 0 Axes>"
      ]
     },
     "metadata": {},
     "output_type": "display_data"
    },
    {
     "data": {
      "image/png": "[encoded data removed]",
      "text/plain": [
       "<Figure size 360x360 with 1 Axes>"
      ]
     },
     "metadata": {
      "needs_background": "light"
     },
     "output_type": "display_data"
    },
    {
     "data": {
      "text/plain": [
       "<Figure size 720x360 with 0 Axes>"
      ]
     },
     "metadata": {},
     "output_type": "display_data"
    },
    {
     "data": {
      "image/png": "[encoded data removed]",
      "text/plain": [
       "<Figure size 360x360 with 1 Axes>"
      ]
     },
     "metadata": {
      "needs_background": "light"
     },
     "output_type": "display_data"
    },
    {
     "data": {
      "text/plain": [
       "<Figure size 720x360 with 0 Axes>"
      ]
     },
     "metadata": {},
     "output_type": "display_data"
    },
    {
     "data": {
      "image/png": "[encoded data removed]",
      "text/plain": [
       "<Figure size 360x360 with 1 Axes>"
      ]
     },
     "metadata": {
      "needs_background": "light"
     },
     "output_type": "display_data"
    },
    {
     "data": {
      "text/plain": [
       "<Figure size 720x360 with 0 Axes>"
      ]
     },
     "metadata": {},
     "output_type": "display_data"
    },
    {
     "data": {
      "image/png": "[encoded data removed]",
      "text/plain": [
       "<Figure size 360x360 with 1 Axes>"
      ]
     },
     "metadata": {
      "needs_background": "light"
     },
     "output_type": "display_data"
    }
   ],
   "source": [
    "%%time\n",
    "# Plot bivariate distributions\n",
    "for variable in catCols:\n",
    "    plt.figure()\n",
    "    sns.displot(x = variable, y = 'hotel_cluster', data = ranDF)"
   ]
  },
  {
   "cell_type": "markdown",
   "id": "8c87afc6-6e82-4515-83ec-0f9b05faa2af",
   "metadata": {},
   "source": [
    "Again, we're dealing with uneven distributions. So, while this is slightly better, it doesn't provide much more information."
   ]
  },
  {
   "cell_type": "markdown",
   "id": "7aa9e59f-8e72-4f96-a62a-95c8455cc82b",
   "metadata": {},
   "source": [
    "## Features"
   ]
  },
  {
   "cell_type": "markdown",
   "id": "6656c8a8-ee13-4dba-bcd7-03e4c7726f39",
   "metadata": {},
   "source": [
    "Time to manually go through each variable and make transformations:  \n",
    "* date_time: Add Day of Week / Month of Year\n",
    "* site_name: Make binary (2 or not 2)\n",
    "* posa_continent: Make binary (3 or not 3)\n",
    "* user_location_country: Make binary 66 or not 66 (note: 15% of data was 205)\n",
    "* user_location_region: Group everything that's >500? (note: 146 unique regions)\n",
    "  * Binning might be preferred\n",
    "* ?bin? user_location_city: Leave for now (1814 unique vals 😯)\n",
    "  * Binning might be preferred\n",
    "* ?xform? orig_destination_distance: Leave for now\n",
    "  * Skews right; Consider transforming\n",
    "* user_id: Ignore for modeling\n",
    "  * Could potentially use counts of user instances\n",
    "* is_mobile: Binary, leave as is\n",
    "* is_package: Binary, leave as is\n",
    "* channel: Leave for now\n",
    "  * Could make binary (9 or not 9)\n",
    "* srch_ci / srch_co: Create Day of Week columns and 'length_of_stay'\n",
    "* srch_adults_cnt: Leave as is\n",
    "* srch_children_cnt: Leave as is\n",
    "* srch_rm_cnt: Leave as is\n",
    "* srch_destination_id: Leave as is\n",
    "  * Binning might be preferred\n",
    "* srch_destination_type_id: Leave as is\n",
    "* is_booking: Binary, leave as is\n",
    "* cnt: Leave as is\n",
    "  * Skews right; Consider transforming\n",
    "* hotel_continent: Leave as is\n",
    "  * Could make binary (2 or not 2)\n",
    "* hotel_country: Make binary (50 or not 50)\n",
    "* hotel_market: Leave as is\n",
    "  * Binning might be preferred\n",
    "* hotel_cluster: TARGET VARIABLE"
   ]
  },
  {
   "cell_type": "code",
   "execution_count": 19,
   "id": "68f63bf8-8755-4834-90e8-a343c3220dc4",
   "metadata": {},
   "outputs": [],
   "source": [
    "# Save data\n",
    "ranDF.to_csv('ranDF.csv', index=False)"
   ]
  },
  {
   "cell_type": "code",
   "execution_count": 20,
   "id": "26ca8c6d-9cbc-45e4-b773-44f2e3bb335e",
   "metadata": {},
   "outputs": [],
   "source": [
    "# change data types\n",
    "def change_dtype(cols, to_dtype, df=ranDF):\n",
    "    for col in cols:\n",
    "        df[col] = df[col].astype(to_dtype)"
   ]
  },
  {
   "cell_type": "code",
   "execution_count": 21,
   "id": "ff81d734-4e64-4e0f-85be-a3835887aa6c",
   "metadata": {},
   "outputs": [],
   "source": [
    "# Reassign some data types\n",
    "change_dtype(catCols, 'category', ranDF)\n",
    "change_dtype(ynCols, 'int8', ranDF)\n",
    "change_dtype(datCols, 'datetime64', ranDF)"
   ]
  },
  {
   "cell_type": "code",
   "execution_count": 22,
   "id": "d1214e86-14fd-40fa-bf34-82be6b4d4f49",
   "metadata": {},
   "outputs": [],
   "source": [
    "# Converts a column to binary based on matching / not matching value\n",
    "def cat_to_binary(row, col, val):\n",
    "    if row[col] == val:\n",
    "        return 1\n",
    "    return 0"
   ]
  },
  {
   "cell_type": "code",
   "execution_count": 23,
   "id": "a56b3671-96e2-4f96-b6e1-67bda66bb5cf",
   "metadata": {},
   "outputs": [],
   "source": [
    "# Converts anything over a particular value to that value\n",
    "def bin_vals(row, col, val):\n",
    "    if row[col] > val:\n",
    "        return val\n",
    "    return row[col]"
   ]
  },
  {
   "cell_type": "code",
   "execution_count": 24,
   "id": "aa39b357-0614-4098-baec-48b49657f46e",
   "metadata": {},
   "outputs": [],
   "source": [
    "# Data Transformations and new feature creation\n",
    "ranDF['date_time_DoW'] = ranDF.date_time.dt.day_name()\n",
    "ranDF['date_time_MoY'] = ranDF.date_time.dt.month_name()\n",
    "ranDF['site_name_2'] = ranDF.apply(lambda row: cat_to_binary(row, 'site_name', 2), axis=1)\n",
    "ranDF['posa_continent_3'] = ranDF.apply(lambda row: cat_to_binary(row, 'posa_continent', 3), axis=1)\n",
    "ranDF['user_location_country_66'] = ranDF.apply(lambda row: cat_to_binary(row, 'user_location_country', 66), axis=1)\n",
    "ranDF['user_location_region'] = ranDF.apply(lambda row: bin_vals(row, 'user_location_region', 500), axis=1)\n",
    "ranDF['srch_ci_DoW'] = ranDF.srch_ci.dt.day_name()\n",
    "ranDF['srch_co_DoW'] = ranDF.srch_co.dt.day_name()\n",
    "ranDF['length_of_stay'] = (ranDF['srch_co'] - ranDF['srch_ci'])\n",
    "ranDF['hotel_country'] = ranDF.apply(lambda row: cat_to_binary(row, 'hotel_country', 50), axis=1)"
   ]
  },
  {
   "cell_type": "markdown",
   "id": "c79007cc-538e-4cb1-9b9c-fe9bd8b9e234",
   "metadata": {
    "tags": []
   },
   "source": [
    "### Create Dummy Variables"
   ]
  },
  {
   "cell_type": "code",
   "execution_count": 25,
   "id": "d13c1ba8-52ab-4d85-8bb3-b2f0b8efb581",
   "metadata": {},
   "outputs": [],
   "source": [
    "def getDummies(df):\n",
    "    '''Creates dummy variables from categorical variables, adds them\n",
    "    to the dataframe and returns the new dataframe with dummy vars'''\n",
    "    dummyDF = df.copy()\n",
    "    catList = dummyDF.select_dtypes(include=['object']).columns.tolist()\n",
    "    for i in catList:\n",
    "        dummies = pd.get_dummies(dummyDF[i], prefix=i)\n",
    "        dummyDF = pd.concat([dummyDF, dummies], axis=1)\n",
    "    return dummyDF"
   ]
  },
  {
   "cell_type": "code",
   "execution_count": 26,
   "id": "5645c84a-9ddf-4aa9-a10f-b70feaa8487d",
   "metadata": {},
   "outputs": [
    {
     "data": {
      "text/plain": [
       "(63935, 65)"
      ]
     },
     "execution_count": 26,
     "metadata": {},
     "output_type": "execute_result"
    }
   ],
   "source": [
    "# Create dataframe with dummy variables\n",
    "ranDF = getDummies(ranDF)\n",
    "ranDF.shape"
   ]
  },
  {
   "cell_type": "markdown",
   "id": "b050bc9a-0494-4cb7-8ea1-23311ac2c8d9",
   "metadata": {},
   "source": [
    "Reorder columns"
   ]
  },
  {
   "cell_type": "code",
   "execution_count": 27,
   "id": "5859f9ca-4359-44c2-aa01-677fa89039e0",
   "metadata": {},
   "outputs": [
    {
     "data": {
      "text/plain": [
       "(63935, 58)"
      ]
     },
     "execution_count": 27,
     "metadata": {},
     "output_type": "execute_result"
    }
   ],
   "source": [
    "# Reorder / select columns\n",
    "newColOrder = ['date_time_DoW', 'date_time_MoY', 'site_name_2', 'posa_continent_3',\n",
    "       'user_location_country_66', 'user_location_region',\n",
    "       'user_location_city', 'orig_destination_distance', 'is_mobile',\n",
    "       'is_package', 'channel', 'srch_ci_DoW', 'srch_co_DoW', 'length_of_stay',\n",
    "       'srch_adults_cnt', 'srch_children_cnt', 'srch_rm_cnt',\n",
    "       'srch_destination_id', 'srch_destination_type_id', 'is_booking', 'cnt',\n",
    "       'hotel_continent', 'hotel_country', 'hotel_market', \n",
    "       'date_time_DoW_Friday', 'date_time_DoW_Monday',\n",
    "       'date_time_DoW_Saturday', 'date_time_DoW_Sunday',\n",
    "       'date_time_DoW_Thursday', 'date_time_DoW_Tuesday',\n",
    "       'date_time_DoW_Wednesday', 'date_time_MoY_April',\n",
    "       'date_time_MoY_August', 'date_time_MoY_December',\n",
    "       'date_time_MoY_February', 'date_time_MoY_January', 'date_time_MoY_July',\n",
    "       'date_time_MoY_June', 'date_time_MoY_March', 'date_time_MoY_May',\n",
    "       'date_time_MoY_November', 'date_time_MoY_October',\n",
    "       'date_time_MoY_September', 'srch_ci_DoW_Friday', 'srch_ci_DoW_Monday',\n",
    "       'srch_ci_DoW_Saturday', 'srch_ci_DoW_Sunday', 'srch_ci_DoW_Thursday',\n",
    "       'srch_ci_DoW_Tuesday', 'srch_ci_DoW_Wednesday', 'srch_co_DoW_Friday',\n",
    "       'srch_co_DoW_Monday', 'srch_co_DoW_Saturday', 'srch_co_DoW_Sunday',\n",
    "       'srch_co_DoW_Thursday', 'srch_co_DoW_Tuesday', 'srch_co_DoW_Wednesday',\n",
    "              'hotel_cluster']\n",
    "ranDF = ranDF[newColOrder]\n",
    "ranDF.shape"
   ]
  },
  {
   "cell_type": "code",
   "execution_count": 28,
   "id": "feb87e94-c375-4406-92dd-95e068e2055c",
   "metadata": {},
   "outputs": [
    {
     "name": "stdout",
     "output_type": "stream",
     "text": [
      "<class 'pandas.core.frame.DataFrame'>\n",
      "Int64Index: 63935 entries, 0 to 99996\n",
      "Data columns (total 58 columns):\n",
      " #   Column                     Non-Null Count  Dtype          \n",
      "---  ------                     --------------  -----          \n",
      " 0   date_time_DoW              63935 non-null  object         \n",
      " 1   date_time_MoY              63935 non-null  object         \n",
      " 2   site_name_2                63935 non-null  int64          \n",
      " 3   posa_continent_3           63935 non-null  int64          \n",
      " 4   user_location_country_66   63935 non-null  int64          \n",
      " 5   user_location_region       63935 non-null  int64          \n",
      " 6   user_location_city         63935 non-null  category       \n",
      " 7   orig_destination_distance  63935 non-null  float64        \n",
      " 8   is_mobile                  63935 non-null  int8           \n",
      " 9   is_package                 63935 non-null  int8           \n",
      " 10  channel                    63935 non-null  category       \n",
      " 11  srch_ci_DoW                63935 non-null  object         \n",
      " 12  srch_co_DoW                63935 non-null  object         \n",
      " 13  length_of_stay             63935 non-null  timedelta64[ns]\n",
      " 14  srch_adults_cnt            63935 non-null  int64          \n",
      " 15  srch_children_cnt          63935 non-null  int64          \n",
      " 16  srch_rm_cnt                63935 non-null  int64          \n",
      " 17  srch_destination_id        63935 non-null  category       \n",
      " 18  srch_destination_type_id   63935 non-null  category       \n",
      " 19  is_booking                 63935 non-null  int8           \n",
      " 20  cnt                        63935 non-null  int64          \n",
      " 21  hotel_continent            63935 non-null  category       \n",
      " 22  hotel_country              63935 non-null  int64          \n",
      " 23  hotel_market               63935 non-null  category       \n",
      " 24  date_time_DoW_Friday       63935 non-null  uint8          \n",
      " 25  date_time_DoW_Monday       63935 non-null  uint8          \n",
      " 26  date_time_DoW_Saturday     63935 non-null  uint8          \n",
      " 27  date_time_DoW_Sunday       63935 non-null  uint8          \n",
      " 28  date_time_DoW_Thursday     63935 non-null  uint8          \n",
      " 29  date_time_DoW_Tuesday      63935 non-null  uint8          \n",
      " 30  date_time_DoW_Wednesday    63935 non-null  uint8          \n",
      " 31  date_time_MoY_April        63935 non-null  uint8          \n",
      " 32  date_time_MoY_August       63935 non-null  uint8          \n",
      " 33  date_time_MoY_December     63935 non-null  uint8          \n",
      " 34  date_time_MoY_February     63935 non-null  uint8          \n",
      " 35  date_time_MoY_January      63935 non-null  uint8          \n",
      " 36  date_time_MoY_July         63935 non-null  uint8          \n",
      " 37  date_time_MoY_June         63935 non-null  uint8          \n",
      " 38  date_time_MoY_March        63935 non-null  uint8          \n",
      " 39  date_time_MoY_May          63935 non-null  uint8          \n",
      " 40  date_time_MoY_November     63935 non-null  uint8          \n",
      " 41  date_time_MoY_October      63935 non-null  uint8          \n",
      " 42  date_time_MoY_September    63935 non-null  uint8          \n",
      " 43  srch_ci_DoW_Friday         63935 non-null  uint8          \n",
      " 44  srch_ci_DoW_Monday         63935 non-null  uint8          \n",
      " 45  srch_ci_DoW_Saturday       63935 non-null  uint8          \n",
      " 46  srch_ci_DoW_Sunday         63935 non-null  uint8          \n",
      " 47  srch_ci_DoW_Thursday       63935 non-null  uint8          \n",
      " 48  srch_ci_DoW_Tuesday        63935 non-null  uint8          \n",
      " 49  srch_ci_DoW_Wednesday      63935 non-null  uint8          \n",
      " 50  srch_co_DoW_Friday         63935 non-null  uint8          \n",
      " 51  srch_co_DoW_Monday         63935 non-null  uint8          \n",
      " 52  srch_co_DoW_Saturday       63935 non-null  uint8          \n",
      " 53  srch_co_DoW_Sunday         63935 non-null  uint8          \n",
      " 54  srch_co_DoW_Thursday       63935 non-null  uint8          \n",
      " 55  srch_co_DoW_Tuesday        63935 non-null  uint8          \n",
      " 56  srch_co_DoW_Wednesday      63935 non-null  uint8          \n",
      " 57  hotel_cluster              63935 non-null  category       \n",
      "dtypes: category(7), float64(1), int64(9), int8(3), object(4), timedelta64[ns](1), uint8(33)\n",
      "memory usage: 13.2+ MB\n"
     ]
    }
   ],
   "source": [
    "# Look at variables\n",
    "ranDF.info()"
   ]
  },
  {
   "cell_type": "code",
   "execution_count": 29,
   "id": "94d60938-9a92-491d-9ff9-c4d654b83591",
   "metadata": {},
   "outputs": [],
   "source": [
    "# Change category dtype to int64\n",
    "catList = ranDF.select_dtypes(include=['category']).columns.tolist()\n",
    "change_dtype(catList, 'int64', ranDF)\n",
    "\n",
    "# Convert length of stay to integer\n",
    "ranDF['length_of_stay'] = pd.to_numeric(ranDF['length_of_stay'].dt.days, downcast='integer')"
   ]
  },
  {
   "cell_type": "markdown",
   "id": "e237f8ac-3aed-4fe0-b215-fccac1c21a9b",
   "metadata": {
    "tags": []
   },
   "source": [
    "#### Get features that correlate with the target variable"
   ]
  },
  {
   "cell_type": "code",
   "execution_count": 30,
   "id": "de39c501-2abd-475d-a00e-e96597b9a56b",
   "metadata": {},
   "outputs": [
    {
     "data": {
      "text/html": [
       "<div>\n",
       "<style scoped>\n",
       "    .dataframe tbody tr th:only-of-type {\n",
       "        vertical-align: middle;\n",
       "    }\n",
       "\n",
       "    .dataframe tbody tr th {\n",
       "        vertical-align: top;\n",
       "    }\n",
       "\n",
       "    .dataframe thead th {\n",
       "        text-align: right;\n",
       "    }\n",
       "</style>\n",
       "<table border=\"1\" class=\"dataframe\">\n",
       "  <thead>\n",
       "    <tr style=\"text-align: right;\">\n",
       "      <th></th>\n",
       "      <th>site_name_2</th>\n",
       "      <th>posa_continent_3</th>\n",
       "      <th>user_location_country_66</th>\n",
       "      <th>user_location_region</th>\n",
       "      <th>user_location_city</th>\n",
       "      <th>orig_destination_distance</th>\n",
       "      <th>is_mobile</th>\n",
       "      <th>is_package</th>\n",
       "      <th>channel</th>\n",
       "      <th>length_of_stay</th>\n",
       "      <th>...</th>\n",
       "      <th>srch_ci_DoW_Tuesday</th>\n",
       "      <th>srch_ci_DoW_Wednesday</th>\n",
       "      <th>srch_co_DoW_Friday</th>\n",
       "      <th>srch_co_DoW_Monday</th>\n",
       "      <th>srch_co_DoW_Saturday</th>\n",
       "      <th>srch_co_DoW_Sunday</th>\n",
       "      <th>srch_co_DoW_Thursday</th>\n",
       "      <th>srch_co_DoW_Tuesday</th>\n",
       "      <th>srch_co_DoW_Wednesday</th>\n",
       "      <th>hotel_cluster</th>\n",
       "    </tr>\n",
       "  </thead>\n",
       "  <tbody>\n",
       "    <tr>\n",
       "      <th>site_name_2</th>\n",
       "      <td>1.000000</td>\n",
       "      <td>0.550232</td>\n",
       "      <td>0.909819</td>\n",
       "      <td>-0.039021</td>\n",
       "      <td>-0.053745</td>\n",
       "      <td>-0.120939</td>\n",
       "      <td>0.023922</td>\n",
       "      <td>-0.009434</td>\n",
       "      <td>-0.030856</td>\n",
       "      <td>-0.079849</td>\n",
       "      <td>...</td>\n",
       "      <td>-0.004099</td>\n",
       "      <td>0.006968</td>\n",
       "      <td>-0.002681</td>\n",
       "      <td>-0.012771</td>\n",
       "      <td>0.001376</td>\n",
       "      <td>0.022403</td>\n",
       "      <td>-0.003400</td>\n",
       "      <td>-0.006434</td>\n",
       "      <td>-0.004422</td>\n",
       "      <td>0.026387</td>\n",
       "    </tr>\n",
       "    <tr>\n",
       "      <th>posa_continent_3</th>\n",
       "      <td>0.550232</td>\n",
       "      <td>1.000000</td>\n",
       "      <td>0.497543</td>\n",
       "      <td>-0.211536</td>\n",
       "      <td>-0.009932</td>\n",
       "      <td>-0.164843</td>\n",
       "      <td>0.030411</td>\n",
       "      <td>-0.033772</td>\n",
       "      <td>0.057196</td>\n",
       "      <td>-0.090488</td>\n",
       "      <td>...</td>\n",
       "      <td>-0.011813</td>\n",
       "      <td>0.005100</td>\n",
       "      <td>-0.007674</td>\n",
       "      <td>0.001271</td>\n",
       "      <td>-0.002480</td>\n",
       "      <td>0.018364</td>\n",
       "      <td>-0.000171</td>\n",
       "      <td>-0.009264</td>\n",
       "      <td>-0.005463</td>\n",
       "      <td>0.004251</td>\n",
       "    </tr>\n",
       "    <tr>\n",
       "      <th>user_location_country_66</th>\n",
       "      <td>0.909819</td>\n",
       "      <td>0.497543</td>\n",
       "      <td>1.000000</td>\n",
       "      <td>-0.078623</td>\n",
       "      <td>-0.072133</td>\n",
       "      <td>-0.130842</td>\n",
       "      <td>0.028624</td>\n",
       "      <td>-0.003354</td>\n",
       "      <td>-0.043541</td>\n",
       "      <td>-0.083393</td>\n",
       "      <td>...</td>\n",
       "      <td>-0.004715</td>\n",
       "      <td>0.004115</td>\n",
       "      <td>-0.004671</td>\n",
       "      <td>-0.012092</td>\n",
       "      <td>0.003291</td>\n",
       "      <td>0.023947</td>\n",
       "      <td>-0.005220</td>\n",
       "      <td>-0.006599</td>\n",
       "      <td>-0.005286</td>\n",
       "      <td>0.024729</td>\n",
       "    </tr>\n",
       "    <tr>\n",
       "      <th>user_location_region</th>\n",
       "      <td>-0.039021</td>\n",
       "      <td>-0.211536</td>\n",
       "      <td>-0.078623</td>\n",
       "      <td>1.000000</td>\n",
       "      <td>0.137233</td>\n",
       "      <td>0.051812</td>\n",
       "      <td>-0.007414</td>\n",
       "      <td>0.030517</td>\n",
       "      <td>-0.012149</td>\n",
       "      <td>0.031450</td>\n",
       "      <td>...</td>\n",
       "      <td>-0.002200</td>\n",
       "      <td>-0.002524</td>\n",
       "      <td>0.002083</td>\n",
       "      <td>-0.001136</td>\n",
       "      <td>0.011513</td>\n",
       "      <td>-0.011928</td>\n",
       "      <td>-0.002225</td>\n",
       "      <td>0.003405</td>\n",
       "      <td>0.000525</td>\n",
       "      <td>0.008161</td>\n",
       "    </tr>\n",
       "    <tr>\n",
       "      <th>user_location_city</th>\n",
       "      <td>-0.053745</td>\n",
       "      <td>-0.009932</td>\n",
       "      <td>-0.072133</td>\n",
       "      <td>0.137233</td>\n",
       "      <td>1.000000</td>\n",
       "      <td>0.016545</td>\n",
       "      <td>-0.010662</td>\n",
       "      <td>0.011002</td>\n",
       "      <td>0.012065</td>\n",
       "      <td>0.009198</td>\n",
       "      <td>...</td>\n",
       "      <td>-0.000804</td>\n",
       "      <td>-0.002424</td>\n",
       "      <td>0.004246</td>\n",
       "      <td>0.003064</td>\n",
       "      <td>-0.000112</td>\n",
       "      <td>-0.010442</td>\n",
       "      <td>-0.004186</td>\n",
       "      <td>0.007288</td>\n",
       "      <td>0.003131</td>\n",
       "      <td>-0.006463</td>\n",
       "    </tr>\n",
       "    <tr>\n",
       "      <th>orig_destination_distance</th>\n",
       "      <td>-0.120939</td>\n",
       "      <td>-0.164843</td>\n",
       "      <td>-0.130842</td>\n",
       "      <td>0.051812</td>\n",
       "      <td>0.016545</td>\n",
       "      <td>1.000000</td>\n",
       "      <td>-0.060699</td>\n",
       "      <td>0.038749</td>\n",
       "      <td>0.004763</td>\n",
       "      <td>0.226762</td>\n",
       "      <td>...</td>\n",
       "      <td>0.044598</td>\n",
       "      <td>0.020895</td>\n",
       "      <td>0.029257</td>\n",
       "      <td>0.000262</td>\n",
       "      <td>-0.005438</td>\n",
       "      <td>-0.113237</td>\n",
       "      <td>0.038263</td>\n",
       "      <td>0.041839</td>\n",
       "      <td>0.045247</td>\n",
       "      <td>0.001684</td>\n",
       "    </tr>\n",
       "    <tr>\n",
       "      <th>is_mobile</th>\n",
       "      <td>0.023922</td>\n",
       "      <td>0.030411</td>\n",
       "      <td>0.028624</td>\n",
       "      <td>-0.007414</td>\n",
       "      <td>-0.010662</td>\n",
       "      <td>-0.060699</td>\n",
       "      <td>1.000000</td>\n",
       "      <td>0.033998</td>\n",
       "      <td>-0.045193</td>\n",
       "      <td>0.006068</td>\n",
       "      <td>...</td>\n",
       "      <td>-0.006511</td>\n",
       "      <td>-0.000781</td>\n",
       "      <td>-0.008335</td>\n",
       "      <td>-0.005181</td>\n",
       "      <td>0.003862</td>\n",
       "      <td>0.014226</td>\n",
       "      <td>0.001901</td>\n",
       "      <td>0.000465</td>\n",
       "      <td>-0.011119</td>\n",
       "      <td>0.012630</td>\n",
       "    </tr>\n",
       "    <tr>\n",
       "      <th>is_package</th>\n",
       "      <td>-0.009434</td>\n",
       "      <td>-0.033772</td>\n",
       "      <td>-0.003354</td>\n",
       "      <td>0.030517</td>\n",
       "      <td>0.011002</td>\n",
       "      <td>0.038749</td>\n",
       "      <td>0.033998</td>\n",
       "      <td>1.000000</td>\n",
       "      <td>0.006050</td>\n",
       "      <td>0.333209</td>\n",
       "      <td>...</td>\n",
       "      <td>0.004200</td>\n",
       "      <td>0.036952</td>\n",
       "      <td>0.031311</td>\n",
       "      <td>-0.013089</td>\n",
       "      <td>0.034334</td>\n",
       "      <td>-0.063788</td>\n",
       "      <td>0.026709</td>\n",
       "      <td>-0.002122</td>\n",
       "      <td>0.000897</td>\n",
       "      <td>0.047047</td>\n",
       "    </tr>\n",
       "    <tr>\n",
       "      <th>channel</th>\n",
       "      <td>-0.030856</td>\n",
       "      <td>0.057196</td>\n",
       "      <td>-0.043541</td>\n",
       "      <td>-0.012149</td>\n",
       "      <td>0.012065</td>\n",
       "      <td>0.004763</td>\n",
       "      <td>-0.045193</td>\n",
       "      <td>0.006050</td>\n",
       "      <td>1.000000</td>\n",
       "      <td>-0.016222</td>\n",
       "      <td>...</td>\n",
       "      <td>0.005610</td>\n",
       "      <td>0.007722</td>\n",
       "      <td>0.012687</td>\n",
       "      <td>-0.000897</td>\n",
       "      <td>-0.007218</td>\n",
       "      <td>-0.005078</td>\n",
       "      <td>0.004395</td>\n",
       "      <td>-0.002022</td>\n",
       "      <td>-0.000107</td>\n",
       "      <td>0.002599</td>\n",
       "    </tr>\n",
       "    <tr>\n",
       "      <th>length_of_stay</th>\n",
       "      <td>-0.079849</td>\n",
       "      <td>-0.090488</td>\n",
       "      <td>-0.083393</td>\n",
       "      <td>0.031450</td>\n",
       "      <td>0.009198</td>\n",
       "      <td>0.226762</td>\n",
       "      <td>0.006068</td>\n",
       "      <td>0.333209</td>\n",
       "      <td>-0.016222</td>\n",
       "      <td>1.000000</td>\n",
       "      <td>...</td>\n",
       "      <td>0.010249</td>\n",
       "      <td>0.012682</td>\n",
       "      <td>0.049344</td>\n",
       "      <td>-0.003287</td>\n",
       "      <td>0.025439</td>\n",
       "      <td>-0.091352</td>\n",
       "      <td>0.017577</td>\n",
       "      <td>0.014293</td>\n",
       "      <td>0.010644</td>\n",
       "      <td>0.038766</td>\n",
       "    </tr>\n",
       "    <tr>\n",
       "      <th>srch_adults_cnt</th>\n",
       "      <td>-0.023033</td>\n",
       "      <td>-0.016234</td>\n",
       "      <td>-0.022631</td>\n",
       "      <td>0.001487</td>\n",
       "      <td>-0.002959</td>\n",
       "      <td>-0.025914</td>\n",
       "      <td>0.023565</td>\n",
       "      <td>-0.025048</td>\n",
       "      <td>-0.021604</td>\n",
       "      <td>-0.000400</td>\n",
       "      <td>...</td>\n",
       "      <td>-0.029025</td>\n",
       "      <td>-0.015228</td>\n",
       "      <td>-0.021488</td>\n",
       "      <td>0.010149</td>\n",
       "      <td>0.010427</td>\n",
       "      <td>0.041392</td>\n",
       "      <td>-0.018726</td>\n",
       "      <td>-0.012778</td>\n",
       "      <td>-0.023837</td>\n",
       "      <td>0.009320</td>\n",
       "    </tr>\n",
       "    <tr>\n",
       "      <th>srch_children_cnt</th>\n",
       "      <td>-0.004407</td>\n",
       "      <td>0.008307</td>\n",
       "      <td>-0.006878</td>\n",
       "      <td>-0.000278</td>\n",
       "      <td>-0.000634</td>\n",
       "      <td>-0.061287</td>\n",
       "      <td>0.031458</td>\n",
       "      <td>-0.029171</td>\n",
       "      <td>0.007583</td>\n",
       "      <td>0.028795</td>\n",
       "      <td>...</td>\n",
       "      <td>-0.013316</td>\n",
       "      <td>-0.018947</td>\n",
       "      <td>-0.002975</td>\n",
       "      <td>-0.004027</td>\n",
       "      <td>0.017184</td>\n",
       "      <td>0.004262</td>\n",
       "      <td>-0.003382</td>\n",
       "      <td>-0.006797</td>\n",
       "      <td>-0.007717</td>\n",
       "      <td>0.016538</td>\n",
       "    </tr>\n",
       "    <tr>\n",
       "      <th>srch_rm_cnt</th>\n",
       "      <td>-0.002414</td>\n",
       "      <td>-0.022324</td>\n",
       "      <td>-0.005237</td>\n",
       "      <td>0.005660</td>\n",
       "      <td>-0.002800</td>\n",
       "      <td>-0.012094</td>\n",
       "      <td>-0.017021</td>\n",
       "      <td>-0.033287</td>\n",
       "      <td>0.011213</td>\n",
       "      <td>-0.017217</td>\n",
       "      <td>...</td>\n",
       "      <td>-0.000298</td>\n",
       "      <td>0.002199</td>\n",
       "      <td>-0.000919</td>\n",
       "      <td>-0.007885</td>\n",
       "      <td>-0.003217</td>\n",
       "      <td>0.006990</td>\n",
       "      <td>0.006968</td>\n",
       "      <td>-0.002728</td>\n",
       "      <td>-0.000189</td>\n",
       "      <td>-0.008801</td>\n",
       "    </tr>\n",
       "    <tr>\n",
       "      <th>srch_destination_id</th>\n",
       "      <td>-0.035706</td>\n",
       "      <td>-0.022458</td>\n",
       "      <td>-0.032422</td>\n",
       "      <td>0.008872</td>\n",
       "      <td>-0.000757</td>\n",
       "      <td>-0.024488</td>\n",
       "      <td>-0.014615</td>\n",
       "      <td>-0.164947</td>\n",
       "      <td>-0.001942</td>\n",
       "      <td>-0.089900</td>\n",
       "      <td>...</td>\n",
       "      <td>-0.005743</td>\n",
       "      <td>-0.011930</td>\n",
       "      <td>0.001718</td>\n",
       "      <td>-0.004144</td>\n",
       "      <td>-0.002175</td>\n",
       "      <td>0.019624</td>\n",
       "      <td>-0.010238</td>\n",
       "      <td>-0.005813</td>\n",
       "      <td>-0.004671</td>\n",
       "      <td>-0.021507</td>\n",
       "    </tr>\n",
       "    <tr>\n",
       "      <th>srch_destination_type_id</th>\n",
       "      <td>-0.021096</td>\n",
       "      <td>0.006938</td>\n",
       "      <td>-0.020772</td>\n",
       "      <td>-0.014854</td>\n",
       "      <td>-0.004602</td>\n",
       "      <td>-0.031497</td>\n",
       "      <td>-0.014170</td>\n",
       "      <td>-0.225464</td>\n",
       "      <td>0.019692</td>\n",
       "      <td>-0.100436</td>\n",
       "      <td>...</td>\n",
       "      <td>0.000934</td>\n",
       "      <td>-0.006633</td>\n",
       "      <td>-0.005161</td>\n",
       "      <td>0.004946</td>\n",
       "      <td>-0.007711</td>\n",
       "      <td>0.012528</td>\n",
       "      <td>-0.010644</td>\n",
       "      <td>0.000940</td>\n",
       "      <td>0.002242</td>\n",
       "      <td>-0.037896</td>\n",
       "    </tr>\n",
       "    <tr>\n",
       "      <th>is_booking</th>\n",
       "      <td>0.004013</td>\n",
       "      <td>0.010899</td>\n",
       "      <td>0.003773</td>\n",
       "      <td>-0.001663</td>\n",
       "      <td>-0.002899</td>\n",
       "      <td>-0.032252</td>\n",
       "      <td>-0.034242</td>\n",
       "      <td>-0.084319</td>\n",
       "      <td>0.027452</td>\n",
       "      <td>-0.099537</td>\n",
       "      <td>...</td>\n",
       "      <td>0.009031</td>\n",
       "      <td>0.003824</td>\n",
       "      <td>0.004978</td>\n",
       "      <td>-0.013449</td>\n",
       "      <td>-0.011889</td>\n",
       "      <td>-0.002405</td>\n",
       "      <td>0.013065</td>\n",
       "      <td>0.005574</td>\n",
       "      <td>0.007870</td>\n",
       "      <td>-0.022421</td>\n",
       "    </tr>\n",
       "    <tr>\n",
       "      <th>cnt</th>\n",
       "      <td>-0.011406</td>\n",
       "      <td>-0.002210</td>\n",
       "      <td>-0.010319</td>\n",
       "      <td>0.002649</td>\n",
       "      <td>0.005637</td>\n",
       "      <td>0.004770</td>\n",
       "      <td>0.002180</td>\n",
       "      <td>0.116328</td>\n",
       "      <td>-0.004246</td>\n",
       "      <td>0.046000</td>\n",
       "      <td>...</td>\n",
       "      <td>-0.000503</td>\n",
       "      <td>0.006899</td>\n",
       "      <td>0.008489</td>\n",
       "      <td>0.000091</td>\n",
       "      <td>0.000693</td>\n",
       "      <td>-0.005195</td>\n",
       "      <td>0.001355</td>\n",
       "      <td>-0.001627</td>\n",
       "      <td>-0.002974</td>\n",
       "      <td>0.008093</td>\n",
       "    </tr>\n",
       "    <tr>\n",
       "      <th>hotel_continent</th>\n",
       "      <td>-0.128970</td>\n",
       "      <td>-0.214325</td>\n",
       "      <td>-0.157773</td>\n",
       "      <td>0.023663</td>\n",
       "      <td>0.015038</td>\n",
       "      <td>0.421612</td>\n",
       "      <td>-0.031909</td>\n",
       "      <td>0.134319</td>\n",
       "      <td>-0.013838</td>\n",
       "      <td>0.173227</td>\n",
       "      <td>...</td>\n",
       "      <td>0.024964</td>\n",
       "      <td>0.012044</td>\n",
       "      <td>0.021105</td>\n",
       "      <td>-0.004899</td>\n",
       "      <td>0.006225</td>\n",
       "      <td>-0.075181</td>\n",
       "      <td>0.027138</td>\n",
       "      <td>0.022619</td>\n",
       "      <td>0.025819</td>\n",
       "      <td>-0.002949</td>\n",
       "    </tr>\n",
       "    <tr>\n",
       "      <th>hotel_country</th>\n",
       "      <td>0.273458</td>\n",
       "      <td>0.233915</td>\n",
       "      <td>0.295412</td>\n",
       "      <td>-0.054760</td>\n",
       "      <td>-0.027261</td>\n",
       "      <td>-0.477955</td>\n",
       "      <td>0.027138</td>\n",
       "      <td>-0.177360</td>\n",
       "      <td>-0.006850</td>\n",
       "      <td>-0.214003</td>\n",
       "      <td>...</td>\n",
       "      <td>-0.023658</td>\n",
       "      <td>-0.012165</td>\n",
       "      <td>-0.033589</td>\n",
       "      <td>0.005219</td>\n",
       "      <td>-0.003364</td>\n",
       "      <td>0.082777</td>\n",
       "      <td>-0.030212</td>\n",
       "      <td>-0.022741</td>\n",
       "      <td>-0.022804</td>\n",
       "      <td>-0.026864</td>\n",
       "    </tr>\n",
       "    <tr>\n",
       "      <th>hotel_market</th>\n",
       "      <td>0.024771</td>\n",
       "      <td>-0.001174</td>\n",
       "      <td>0.024611</td>\n",
       "      <td>0.029571</td>\n",
       "      <td>-0.008337</td>\n",
       "      <td>-0.091360</td>\n",
       "      <td>0.010736</td>\n",
       "      <td>-0.017494</td>\n",
       "      <td>-0.003587</td>\n",
       "      <td>-0.032735</td>\n",
       "      <td>...</td>\n",
       "      <td>-0.004941</td>\n",
       "      <td>0.002223</td>\n",
       "      <td>0.003411</td>\n",
       "      <td>-0.003290</td>\n",
       "      <td>0.004559</td>\n",
       "      <td>0.006152</td>\n",
       "      <td>-0.004560</td>\n",
       "      <td>-0.000384</td>\n",
       "      <td>-0.008512</td>\n",
       "      <td>0.019653</td>\n",
       "    </tr>\n",
       "    <tr>\n",
       "      <th>date_time_DoW_Friday</th>\n",
       "      <td>0.005183</td>\n",
       "      <td>-0.008326</td>\n",
       "      <td>0.007939</td>\n",
       "      <td>-0.002325</td>\n",
       "      <td>-0.006426</td>\n",
       "      <td>-0.008175</td>\n",
       "      <td>-0.008867</td>\n",
       "      <td>-0.013979</td>\n",
       "      <td>-0.001413</td>\n",
       "      <td>-0.014131</td>\n",
       "      <td>...</td>\n",
       "      <td>-0.005184</td>\n",
       "      <td>-0.017141</td>\n",
       "      <td>-0.011720</td>\n",
       "      <td>0.003191</td>\n",
       "      <td>0.006038</td>\n",
       "      <td>0.016359</td>\n",
       "      <td>-0.010361</td>\n",
       "      <td>0.002117</td>\n",
       "      <td>-0.011296</td>\n",
       "      <td>-0.003994</td>\n",
       "    </tr>\n",
       "    <tr>\n",
       "      <th>date_time_DoW_Monday</th>\n",
       "      <td>-0.000116</td>\n",
       "      <td>-0.001863</td>\n",
       "      <td>-0.000758</td>\n",
       "      <td>0.005058</td>\n",
       "      <td>-0.000437</td>\n",
       "      <td>-0.010451</td>\n",
       "      <td>-0.016926</td>\n",
       "      <td>-0.003496</td>\n",
       "      <td>0.004653</td>\n",
       "      <td>0.002236</td>\n",
       "      <td>...</td>\n",
       "      <td>0.018380</td>\n",
       "      <td>0.010477</td>\n",
       "      <td>0.003466</td>\n",
       "      <td>-0.005844</td>\n",
       "      <td>-0.007324</td>\n",
       "      <td>-0.007755</td>\n",
       "      <td>0.014053</td>\n",
       "      <td>0.006023</td>\n",
       "      <td>0.001293</td>\n",
       "      <td>0.001438</td>\n",
       "    </tr>\n",
       "    <tr>\n",
       "      <th>date_time_DoW_Saturday</th>\n",
       "      <td>-0.006378</td>\n",
       "      <td>0.004355</td>\n",
       "      <td>-0.008607</td>\n",
       "      <td>0.000613</td>\n",
       "      <td>0.000557</td>\n",
       "      <td>0.016255</td>\n",
       "      <td>0.037277</td>\n",
       "      <td>0.005656</td>\n",
       "      <td>-0.005209</td>\n",
       "      <td>0.007713</td>\n",
       "      <td>...</td>\n",
       "      <td>-0.014000</td>\n",
       "      <td>-0.009980</td>\n",
       "      <td>-0.009896</td>\n",
       "      <td>0.023290</td>\n",
       "      <td>-0.010784</td>\n",
       "      <td>0.001367</td>\n",
       "      <td>-0.007278</td>\n",
       "      <td>0.004726</td>\n",
       "      <td>-0.002034</td>\n",
       "      <td>0.003416</td>\n",
       "    </tr>\n",
       "    <tr>\n",
       "      <th>date_time_DoW_Sunday</th>\n",
       "      <td>-0.002423</td>\n",
       "      <td>0.010891</td>\n",
       "      <td>-0.003586</td>\n",
       "      <td>-0.002355</td>\n",
       "      <td>0.004642</td>\n",
       "      <td>0.017842</td>\n",
       "      <td>0.041095</td>\n",
       "      <td>0.012486</td>\n",
       "      <td>-0.000629</td>\n",
       "      <td>0.020179</td>\n",
       "      <td>...</td>\n",
       "      <td>0.006221</td>\n",
       "      <td>-0.005007</td>\n",
       "      <td>-0.003285</td>\n",
       "      <td>0.010053</td>\n",
       "      <td>0.003502</td>\n",
       "      <td>-0.017865</td>\n",
       "      <td>-0.006662</td>\n",
       "      <td>0.012168</td>\n",
       "      <td>0.006901</td>\n",
       "      <td>0.005681</td>\n",
       "    </tr>\n",
       "    <tr>\n",
       "      <th>date_time_DoW_Thursday</th>\n",
       "      <td>-0.003151</td>\n",
       "      <td>-0.003619</td>\n",
       "      <td>-0.002296</td>\n",
       "      <td>-0.004728</td>\n",
       "      <td>-0.003295</td>\n",
       "      <td>-0.007411</td>\n",
       "      <td>-0.016722</td>\n",
       "      <td>-0.000193</td>\n",
       "      <td>0.013289</td>\n",
       "      <td>-0.005562</td>\n",
       "      <td>...</td>\n",
       "      <td>-0.011639</td>\n",
       "      <td>-0.026506</td>\n",
       "      <td>0.006236</td>\n",
       "      <td>-0.001590</td>\n",
       "      <td>0.008601</td>\n",
       "      <td>0.005812</td>\n",
       "      <td>-0.019464</td>\n",
       "      <td>-0.002788</td>\n",
       "      <td>0.000029</td>\n",
       "      <td>-0.002197</td>\n",
       "    </tr>\n",
       "    <tr>\n",
       "      <th>date_time_DoW_Tuesday</th>\n",
       "      <td>-0.002771</td>\n",
       "      <td>-0.002697</td>\n",
       "      <td>-0.002026</td>\n",
       "      <td>0.005461</td>\n",
       "      <td>-0.001589</td>\n",
       "      <td>-0.000271</td>\n",
       "      <td>-0.013030</td>\n",
       "      <td>0.001615</td>\n",
       "      <td>0.004358</td>\n",
       "      <td>0.000782</td>\n",
       "      <td>...</td>\n",
       "      <td>0.024455</td>\n",
       "      <td>0.025419</td>\n",
       "      <td>0.005951</td>\n",
       "      <td>-0.014134</td>\n",
       "      <td>-0.001809</td>\n",
       "      <td>-0.002536</td>\n",
       "      <td>0.014102</td>\n",
       "      <td>-0.015694</td>\n",
       "      <td>0.016147</td>\n",
       "      <td>-0.001843</td>\n",
       "    </tr>\n",
       "    <tr>\n",
       "      <th>date_time_DoW_Wednesday</th>\n",
       "      <td>0.008737</td>\n",
       "      <td>0.002009</td>\n",
       "      <td>0.008243</td>\n",
       "      <td>-0.002286</td>\n",
       "      <td>0.006346</td>\n",
       "      <td>-0.004752</td>\n",
       "      <td>-0.015057</td>\n",
       "      <td>-0.001287</td>\n",
       "      <td>-0.015390</td>\n",
       "      <td>-0.009759</td>\n",
       "      <td>...</td>\n",
       "      <td>-0.020990</td>\n",
       "      <td>0.017990</td>\n",
       "      <td>0.006783</td>\n",
       "      <td>-0.010305</td>\n",
       "      <td>0.001372</td>\n",
       "      <td>0.004978</td>\n",
       "      <td>0.012029</td>\n",
       "      <td>-0.004782</td>\n",
       "      <td>-0.011707</td>\n",
       "      <td>-0.001934</td>\n",
       "    </tr>\n",
       "    <tr>\n",
       "      <th>date_time_MoY_April</th>\n",
       "      <td>0.016398</td>\n",
       "      <td>0.012334</td>\n",
       "      <td>0.016521</td>\n",
       "      <td>-0.001259</td>\n",
       "      <td>-0.001247</td>\n",
       "      <td>0.008369</td>\n",
       "      <td>-0.003662</td>\n",
       "      <td>-0.016137</td>\n",
       "      <td>0.009534</td>\n",
       "      <td>-0.005724</td>\n",
       "      <td>...</td>\n",
       "      <td>0.002793</td>\n",
       "      <td>0.003390</td>\n",
       "      <td>0.006816</td>\n",
       "      <td>0.000068</td>\n",
       "      <td>-0.002962</td>\n",
       "      <td>0.000853</td>\n",
       "      <td>-0.004030</td>\n",
       "      <td>-0.005451</td>\n",
       "      <td>0.004399</td>\n",
       "      <td>-0.001314</td>\n",
       "    </tr>\n",
       "    <tr>\n",
       "      <th>date_time_MoY_August</th>\n",
       "      <td>-0.004113</td>\n",
       "      <td>-0.010875</td>\n",
       "      <td>-0.004635</td>\n",
       "      <td>0.002065</td>\n",
       "      <td>0.008496</td>\n",
       "      <td>-0.012308</td>\n",
       "      <td>0.012664</td>\n",
       "      <td>-0.013899</td>\n",
       "      <td>-0.010642</td>\n",
       "      <td>-0.013992</td>\n",
       "      <td>...</td>\n",
       "      <td>-0.009651</td>\n",
       "      <td>-0.011186</td>\n",
       "      <td>-0.009274</td>\n",
       "      <td>0.028367</td>\n",
       "      <td>-0.003127</td>\n",
       "      <td>-0.002989</td>\n",
       "      <td>-0.010570</td>\n",
       "      <td>-0.000986</td>\n",
       "      <td>-0.002446</td>\n",
       "      <td>-0.002402</td>\n",
       "    </tr>\n",
       "    <tr>\n",
       "      <th>date_time_MoY_December</th>\n",
       "      <td>-0.006120</td>\n",
       "      <td>-0.011437</td>\n",
       "      <td>-0.004351</td>\n",
       "      <td>-0.001466</td>\n",
       "      <td>0.002279</td>\n",
       "      <td>-0.011091</td>\n",
       "      <td>0.023362</td>\n",
       "      <td>0.003205</td>\n",
       "      <td>-0.009044</td>\n",
       "      <td>0.006718</td>\n",
       "      <td>...</td>\n",
       "      <td>0.004124</td>\n",
       "      <td>0.010926</td>\n",
       "      <td>0.002263</td>\n",
       "      <td>-0.011802</td>\n",
       "      <td>0.001404</td>\n",
       "      <td>-0.013751</td>\n",
       "      <td>0.013775</td>\n",
       "      <td>0.007346</td>\n",
       "      <td>0.006213</td>\n",
       "      <td>-0.005049</td>\n",
       "    </tr>\n",
       "    <tr>\n",
       "      <th>date_time_MoY_February</th>\n",
       "      <td>-0.019086</td>\n",
       "      <td>0.003699</td>\n",
       "      <td>-0.012404</td>\n",
       "      <td>0.000688</td>\n",
       "      <td>0.000579</td>\n",
       "      <td>0.003257</td>\n",
       "      <td>-0.011408</td>\n",
       "      <td>0.019637</td>\n",
       "      <td>0.016640</td>\n",
       "      <td>0.010175</td>\n",
       "      <td>...</td>\n",
       "      <td>-0.002075</td>\n",
       "      <td>-0.004046</td>\n",
       "      <td>-0.001364</td>\n",
       "      <td>0.003838</td>\n",
       "      <td>0.005085</td>\n",
       "      <td>-0.005450</td>\n",
       "      <td>0.001529</td>\n",
       "      <td>-0.006257</td>\n",
       "      <td>0.003200</td>\n",
       "      <td>-0.003114</td>\n",
       "    </tr>\n",
       "    <tr>\n",
       "      <th>date_time_MoY_January</th>\n",
       "      <td>-0.024775</td>\n",
       "      <td>0.000418</td>\n",
       "      <td>-0.026374</td>\n",
       "      <td>0.002458</td>\n",
       "      <td>0.004749</td>\n",
       "      <td>0.019555</td>\n",
       "      <td>-0.001652</td>\n",
       "      <td>0.044700</td>\n",
       "      <td>0.012891</td>\n",
       "      <td>0.027399</td>\n",
       "      <td>...</td>\n",
       "      <td>-0.010529</td>\n",
       "      <td>0.001330</td>\n",
       "      <td>0.003157</td>\n",
       "      <td>-0.006434</td>\n",
       "      <td>0.004220</td>\n",
       "      <td>0.000037</td>\n",
       "      <td>0.006392</td>\n",
       "      <td>-0.010357</td>\n",
       "      <td>0.002596</td>\n",
       "      <td>0.000944</td>\n",
       "    </tr>\n",
       "    <tr>\n",
       "      <th>date_time_MoY_July</th>\n",
       "      <td>-0.000406</td>\n",
       "      <td>0.000053</td>\n",
       "      <td>-0.000913</td>\n",
       "      <td>0.000934</td>\n",
       "      <td>0.001090</td>\n",
       "      <td>-0.017496</td>\n",
       "      <td>0.006741</td>\n",
       "      <td>-0.010477</td>\n",
       "      <td>-0.009020</td>\n",
       "      <td>-0.015637</td>\n",
       "      <td>...</td>\n",
       "      <td>0.003445</td>\n",
       "      <td>-0.002606</td>\n",
       "      <td>-0.002186</td>\n",
       "      <td>-0.004973</td>\n",
       "      <td>-0.006511</td>\n",
       "      <td>0.002224</td>\n",
       "      <td>0.000806</td>\n",
       "      <td>0.007383</td>\n",
       "      <td>0.004441</td>\n",
       "      <td>0.003671</td>\n",
       "    </tr>\n",
       "    <tr>\n",
       "      <th>date_time_MoY_June</th>\n",
       "      <td>0.026216</td>\n",
       "      <td>0.023938</td>\n",
       "      <td>0.022028</td>\n",
       "      <td>-0.006126</td>\n",
       "      <td>-0.004425</td>\n",
       "      <td>-0.014266</td>\n",
       "      <td>-0.010490</td>\n",
       "      <td>-0.017716</td>\n",
       "      <td>0.013140</td>\n",
       "      <td>-0.017376</td>\n",
       "      <td>...</td>\n",
       "      <td>0.003572</td>\n",
       "      <td>0.001523</td>\n",
       "      <td>0.002456</td>\n",
       "      <td>-0.001952</td>\n",
       "      <td>-0.008508</td>\n",
       "      <td>0.000322</td>\n",
       "      <td>-0.004463</td>\n",
       "      <td>0.005178</td>\n",
       "      <td>0.008489</td>\n",
       "      <td>-0.003568</td>\n",
       "    </tr>\n",
       "    <tr>\n",
       "      <th>date_time_MoY_March</th>\n",
       "      <td>0.013981</td>\n",
       "      <td>0.015567</td>\n",
       "      <td>0.015788</td>\n",
       "      <td>-0.000856</td>\n",
       "      <td>0.009260</td>\n",
       "      <td>0.015898</td>\n",
       "      <td>-0.009947</td>\n",
       "      <td>0.007450</td>\n",
       "      <td>0.009867</td>\n",
       "      <td>0.002454</td>\n",
       "      <td>...</td>\n",
       "      <td>0.006028</td>\n",
       "      <td>-0.003069</td>\n",
       "      <td>-0.002845</td>\n",
       "      <td>-0.004749</td>\n",
       "      <td>0.009071</td>\n",
       "      <td>-0.001451</td>\n",
       "      <td>-0.002414</td>\n",
       "      <td>0.004438</td>\n",
       "      <td>-0.002081</td>\n",
       "      <td>0.004161</td>\n",
       "    </tr>\n",
       "    <tr>\n",
       "      <th>date_time_MoY_May</th>\n",
       "      <td>0.020032</td>\n",
       "      <td>0.012182</td>\n",
       "      <td>0.020906</td>\n",
       "      <td>-0.003328</td>\n",
       "      <td>-0.006988</td>\n",
       "      <td>-0.004338</td>\n",
       "      <td>-0.013361</td>\n",
       "      <td>-0.022082</td>\n",
       "      <td>0.014390</td>\n",
       "      <td>-0.014799</td>\n",
       "      <td>...</td>\n",
       "      <td>-0.000153</td>\n",
       "      <td>-0.007959</td>\n",
       "      <td>-0.003072</td>\n",
       "      <td>0.015368</td>\n",
       "      <td>-0.006454</td>\n",
       "      <td>0.000049</td>\n",
       "      <td>-0.002085</td>\n",
       "      <td>0.000886</td>\n",
       "      <td>-0.005333</td>\n",
       "      <td>-0.001273</td>\n",
       "    </tr>\n",
       "    <tr>\n",
       "      <th>date_time_MoY_November</th>\n",
       "      <td>-0.019413</td>\n",
       "      <td>-0.023025</td>\n",
       "      <td>-0.020484</td>\n",
       "      <td>0.003863</td>\n",
       "      <td>-0.003143</td>\n",
       "      <td>0.006051</td>\n",
       "      <td>0.010425</td>\n",
       "      <td>0.008408</td>\n",
       "      <td>-0.018851</td>\n",
       "      <td>0.014120</td>\n",
       "      <td>...</td>\n",
       "      <td>0.004005</td>\n",
       "      <td>0.011544</td>\n",
       "      <td>0.008122</td>\n",
       "      <td>-0.013855</td>\n",
       "      <td>0.007469</td>\n",
       "      <td>-0.002725</td>\n",
       "      <td>0.010255</td>\n",
       "      <td>-0.003666</td>\n",
       "      <td>-0.005170</td>\n",
       "      <td>0.000105</td>\n",
       "    </tr>\n",
       "    <tr>\n",
       "      <th>date_time_MoY_October</th>\n",
       "      <td>-0.005939</td>\n",
       "      <td>-0.011791</td>\n",
       "      <td>-0.007705</td>\n",
       "      <td>0.006695</td>\n",
       "      <td>-0.003905</td>\n",
       "      <td>0.003007</td>\n",
       "      <td>-0.005751</td>\n",
       "      <td>0.002266</td>\n",
       "      <td>-0.008273</td>\n",
       "      <td>0.004869</td>\n",
       "      <td>...</td>\n",
       "      <td>-0.000689</td>\n",
       "      <td>-0.001783</td>\n",
       "      <td>-0.002850</td>\n",
       "      <td>-0.001484</td>\n",
       "      <td>0.002720</td>\n",
       "      <td>0.013384</td>\n",
       "      <td>-0.001721</td>\n",
       "      <td>-0.004205</td>\n",
       "      <td>-0.010433</td>\n",
       "      <td>0.009974</td>\n",
       "    </tr>\n",
       "    <tr>\n",
       "      <th>date_time_MoY_September</th>\n",
       "      <td>-0.002326</td>\n",
       "      <td>-0.005616</td>\n",
       "      <td>-0.002700</td>\n",
       "      <td>-0.003556</td>\n",
       "      <td>-0.005642</td>\n",
       "      <td>0.011752</td>\n",
       "      <td>-0.003354</td>\n",
       "      <td>0.008144</td>\n",
       "      <td>-0.009607</td>\n",
       "      <td>0.010070</td>\n",
       "      <td>...</td>\n",
       "      <td>-0.002909</td>\n",
       "      <td>0.001300</td>\n",
       "      <td>0.000034</td>\n",
       "      <td>-0.003020</td>\n",
       "      <td>0.000099</td>\n",
       "      <td>0.008135</td>\n",
       "      <td>-0.006128</td>\n",
       "      <td>0.001257</td>\n",
       "      <td>-0.002600</td>\n",
       "      <td>-0.002670</td>\n",
       "    </tr>\n",
       "    <tr>\n",
       "      <th>srch_ci_DoW_Friday</th>\n",
       "      <td>0.016044</td>\n",
       "      <td>0.018025</td>\n",
       "      <td>0.019568</td>\n",
       "      <td>-0.000347</td>\n",
       "      <td>-0.006302</td>\n",
       "      <td>-0.077877</td>\n",
       "      <td>0.008956</td>\n",
       "      <td>-0.035091</td>\n",
       "      <td>-0.006509</td>\n",
       "      <td>-0.041083</td>\n",
       "      <td>...</td>\n",
       "      <td>-0.175140</td>\n",
       "      <td>-0.193310</td>\n",
       "      <td>-0.111027</td>\n",
       "      <td>0.030965</td>\n",
       "      <td>0.153663</td>\n",
       "      <td>0.138729</td>\n",
       "      <td>-0.119364</td>\n",
       "      <td>-0.052992</td>\n",
       "      <td>-0.103815</td>\n",
       "      <td>0.008162</td>\n",
       "    </tr>\n",
       "    <tr>\n",
       "      <th>srch_ci_DoW_Monday</th>\n",
       "      <td>-0.018587</td>\n",
       "      <td>-0.022234</td>\n",
       "      <td>-0.018449</td>\n",
       "      <td>0.001739</td>\n",
       "      <td>0.002934</td>\n",
       "      <td>0.050359</td>\n",
       "      <td>-0.009667</td>\n",
       "      <td>-0.012486</td>\n",
       "      <td>0.006562</td>\n",
       "      <td>0.020532</td>\n",
       "      <td>...</td>\n",
       "      <td>-0.125519</td>\n",
       "      <td>-0.138541</td>\n",
       "      <td>0.020845</td>\n",
       "      <td>-0.084751</td>\n",
       "      <td>-0.074602</td>\n",
       "      <td>-0.147653</td>\n",
       "      <td>0.070228</td>\n",
       "      <td>0.189100</td>\n",
       "      <td>0.097987</td>\n",
       "      <td>-0.014489</td>\n",
       "    </tr>\n",
       "    <tr>\n",
       "      <th>srch_ci_DoW_Saturday</th>\n",
       "      <td>0.002747</td>\n",
       "      <td>0.008331</td>\n",
       "      <td>0.004105</td>\n",
       "      <td>0.001666</td>\n",
       "      <td>-0.003522</td>\n",
       "      <td>-0.037434</td>\n",
       "      <td>0.009984</td>\n",
       "      <td>-0.033467</td>\n",
       "      <td>-0.010390</td>\n",
       "      <td>-0.022761</td>\n",
       "      <td>...</td>\n",
       "      <td>-0.157395</td>\n",
       "      <td>-0.173725</td>\n",
       "      <td>-0.099022</td>\n",
       "      <td>0.043698</td>\n",
       "      <td>-0.079684</td>\n",
       "      <td>0.211476</td>\n",
       "      <td>-0.082118</td>\n",
       "      <td>-0.008576</td>\n",
       "      <td>-0.039531</td>\n",
       "      <td>0.000564</td>\n",
       "    </tr>\n",
       "    <tr>\n",
       "      <th>srch_ci_DoW_Sunday</th>\n",
       "      <td>-0.014225</td>\n",
       "      <td>-0.003249</td>\n",
       "      <td>-0.015313</td>\n",
       "      <td>-0.000085</td>\n",
       "      <td>0.011983</td>\n",
       "      <td>0.031210</td>\n",
       "      <td>-0.006153</td>\n",
       "      <td>-0.002119</td>\n",
       "      <td>-0.005967</td>\n",
       "      <td>0.031413</td>\n",
       "      <td>...</td>\n",
       "      <td>-0.129908</td>\n",
       "      <td>-0.143386</td>\n",
       "      <td>-0.037992</td>\n",
       "      <td>0.150103</td>\n",
       "      <td>-0.077596</td>\n",
       "      <td>-0.142850</td>\n",
       "      <td>0.014270</td>\n",
       "      <td>0.077008</td>\n",
       "      <td>0.062685</td>\n",
       "      <td>-0.001813</td>\n",
       "    </tr>\n",
       "    <tr>\n",
       "      <th>srch_ci_DoW_Thursday</th>\n",
       "      <td>0.005774</td>\n",
       "      <td>-0.000700</td>\n",
       "      <td>0.004459</td>\n",
       "      <td>0.001415</td>\n",
       "      <td>0.000124</td>\n",
       "      <td>-0.004817</td>\n",
       "      <td>0.000084</td>\n",
       "      <td>0.049474</td>\n",
       "      <td>0.005774</td>\n",
       "      <td>0.002227</td>\n",
       "      <td>...</td>\n",
       "      <td>-0.146885</td>\n",
       "      <td>-0.162124</td>\n",
       "      <td>0.150041</td>\n",
       "      <td>0.005453</td>\n",
       "      <td>0.037352</td>\n",
       "      <td>0.028190</td>\n",
       "      <td>-0.094082</td>\n",
       "      <td>-0.057365</td>\n",
       "      <td>-0.097262</td>\n",
       "      <td>-0.001725</td>\n",
       "    </tr>\n",
       "    <tr>\n",
       "      <th>srch_ci_DoW_Tuesday</th>\n",
       "      <td>-0.004099</td>\n",
       "      <td>-0.011813</td>\n",
       "      <td>-0.004715</td>\n",
       "      <td>-0.002200</td>\n",
       "      <td>-0.000804</td>\n",
       "      <td>0.044598</td>\n",
       "      <td>-0.006511</td>\n",
       "      <td>0.004200</td>\n",
       "      <td>0.005610</td>\n",
       "      <td>0.010249</td>\n",
       "      <td>...</td>\n",
       "      <td>1.000000</td>\n",
       "      <td>-0.132792</td>\n",
       "      <td>0.045411</td>\n",
       "      <td>-0.098663</td>\n",
       "      <td>-0.020829</td>\n",
       "      <td>-0.117143</td>\n",
       "      <td>0.086875</td>\n",
       "      <td>-0.051457</td>\n",
       "      <td>0.205999</td>\n",
       "      <td>-0.004114</td>\n",
       "    </tr>\n",
       "    <tr>\n",
       "      <th>srch_ci_DoW_Wednesday</th>\n",
       "      <td>0.006968</td>\n",
       "      <td>0.005100</td>\n",
       "      <td>0.004115</td>\n",
       "      <td>-0.002524</td>\n",
       "      <td>-0.002424</td>\n",
       "      <td>0.020895</td>\n",
       "      <td>-0.000781</td>\n",
       "      <td>0.036952</td>\n",
       "      <td>0.007722</td>\n",
       "      <td>0.012682</td>\n",
       "      <td>...</td>\n",
       "      <td>-0.132792</td>\n",
       "      <td>1.000000</td>\n",
       "      <td>0.059315</td>\n",
       "      <td>-0.067376</td>\n",
       "      <td>0.031602</td>\n",
       "      <td>-0.045174</td>\n",
       "      <td>0.175662</td>\n",
       "      <td>-0.074039</td>\n",
       "      <td>-0.072330</td>\n",
       "      <td>0.010868</td>\n",
       "    </tr>\n",
       "    <tr>\n",
       "      <th>srch_co_DoW_Friday</th>\n",
       "      <td>-0.002681</td>\n",
       "      <td>-0.007674</td>\n",
       "      <td>-0.004671</td>\n",
       "      <td>0.002083</td>\n",
       "      <td>0.004246</td>\n",
       "      <td>0.029257</td>\n",
       "      <td>-0.008335</td>\n",
       "      <td>0.031311</td>\n",
       "      <td>0.012687</td>\n",
       "      <td>0.049344</td>\n",
       "      <td>...</td>\n",
       "      <td>0.045411</td>\n",
       "      <td>0.059315</td>\n",
       "      <td>1.000000</td>\n",
       "      <td>-0.162690</td>\n",
       "      <td>-0.169742</td>\n",
       "      <td>-0.213556</td>\n",
       "      <td>-0.143550</td>\n",
       "      <td>-0.137113</td>\n",
       "      <td>-0.137301</td>\n",
       "      <td>-0.002561</td>\n",
       "    </tr>\n",
       "    <tr>\n",
       "      <th>srch_co_DoW_Monday</th>\n",
       "      <td>-0.012771</td>\n",
       "      <td>0.001271</td>\n",
       "      <td>-0.012092</td>\n",
       "      <td>-0.001136</td>\n",
       "      <td>0.003064</td>\n",
       "      <td>0.000262</td>\n",
       "      <td>-0.005181</td>\n",
       "      <td>-0.013089</td>\n",
       "      <td>-0.000897</td>\n",
       "      <td>-0.003287</td>\n",
       "      <td>...</td>\n",
       "      <td>-0.098663</td>\n",
       "      <td>-0.067376</td>\n",
       "      <td>-0.162690</td>\n",
       "      <td>1.000000</td>\n",
       "      <td>-0.178717</td>\n",
       "      <td>-0.224848</td>\n",
       "      <td>-0.151140</td>\n",
       "      <td>-0.144363</td>\n",
       "      <td>-0.144561</td>\n",
       "      <td>0.001805</td>\n",
       "    </tr>\n",
       "    <tr>\n",
       "      <th>srch_co_DoW_Saturday</th>\n",
       "      <td>0.001376</td>\n",
       "      <td>-0.002480</td>\n",
       "      <td>0.003291</td>\n",
       "      <td>0.011513</td>\n",
       "      <td>-0.000112</td>\n",
       "      <td>-0.005438</td>\n",
       "      <td>0.003862</td>\n",
       "      <td>0.034334</td>\n",
       "      <td>-0.007218</td>\n",
       "      <td>0.025439</td>\n",
       "      <td>...</td>\n",
       "      <td>-0.020829</td>\n",
       "      <td>0.031602</td>\n",
       "      <td>-0.169742</td>\n",
       "      <td>-0.178717</td>\n",
       "      <td>1.000000</td>\n",
       "      <td>-0.234595</td>\n",
       "      <td>-0.157691</td>\n",
       "      <td>-0.150620</td>\n",
       "      <td>-0.150827</td>\n",
       "      <td>0.001182</td>\n",
       "    </tr>\n",
       "    <tr>\n",
       "      <th>srch_co_DoW_Sunday</th>\n",
       "      <td>0.022403</td>\n",
       "      <td>0.018364</td>\n",
       "      <td>0.023947</td>\n",
       "      <td>-0.011928</td>\n",
       "      <td>-0.010442</td>\n",
       "      <td>-0.113237</td>\n",
       "      <td>0.014226</td>\n",
       "      <td>-0.063788</td>\n",
       "      <td>-0.005078</td>\n",
       "      <td>-0.091352</td>\n",
       "      <td>...</td>\n",
       "      <td>-0.117143</td>\n",
       "      <td>-0.045174</td>\n",
       "      <td>-0.213556</td>\n",
       "      <td>-0.224848</td>\n",
       "      <td>-0.234595</td>\n",
       "      <td>1.000000</td>\n",
       "      <td>-0.198395</td>\n",
       "      <td>-0.189499</td>\n",
       "      <td>-0.189759</td>\n",
       "      <td>0.012337</td>\n",
       "    </tr>\n",
       "    <tr>\n",
       "      <th>srch_co_DoW_Thursday</th>\n",
       "      <td>-0.003400</td>\n",
       "      <td>-0.000171</td>\n",
       "      <td>-0.005220</td>\n",
       "      <td>-0.002225</td>\n",
       "      <td>-0.004186</td>\n",
       "      <td>0.038263</td>\n",
       "      <td>0.001901</td>\n",
       "      <td>0.026709</td>\n",
       "      <td>0.004395</td>\n",
       "      <td>0.017577</td>\n",
       "      <td>...</td>\n",
       "      <td>0.086875</td>\n",
       "      <td>0.175662</td>\n",
       "      <td>-0.143550</td>\n",
       "      <td>-0.151140</td>\n",
       "      <td>-0.157691</td>\n",
       "      <td>-0.198395</td>\n",
       "      <td>1.000000</td>\n",
       "      <td>-0.127378</td>\n",
       "      <td>-0.127553</td>\n",
       "      <td>-0.004817</td>\n",
       "    </tr>\n",
       "    <tr>\n",
       "      <th>srch_co_DoW_Tuesday</th>\n",
       "      <td>-0.006434</td>\n",
       "      <td>-0.009264</td>\n",
       "      <td>-0.006599</td>\n",
       "      <td>0.003405</td>\n",
       "      <td>0.007288</td>\n",
       "      <td>0.041839</td>\n",
       "      <td>0.000465</td>\n",
       "      <td>-0.002122</td>\n",
       "      <td>-0.002022</td>\n",
       "      <td>0.014293</td>\n",
       "      <td>...</td>\n",
       "      <td>-0.051457</td>\n",
       "      <td>-0.074039</td>\n",
       "      <td>-0.137113</td>\n",
       "      <td>-0.144363</td>\n",
       "      <td>-0.150620</td>\n",
       "      <td>-0.189499</td>\n",
       "      <td>-0.127378</td>\n",
       "      <td>1.000000</td>\n",
       "      <td>-0.121834</td>\n",
       "      <td>-0.008442</td>\n",
       "    </tr>\n",
       "    <tr>\n",
       "      <th>srch_co_DoW_Wednesday</th>\n",
       "      <td>-0.004422</td>\n",
       "      <td>-0.005463</td>\n",
       "      <td>-0.005286</td>\n",
       "      <td>0.000525</td>\n",
       "      <td>0.003131</td>\n",
       "      <td>0.045247</td>\n",
       "      <td>-0.011119</td>\n",
       "      <td>0.000897</td>\n",
       "      <td>-0.000107</td>\n",
       "      <td>0.010644</td>\n",
       "      <td>...</td>\n",
       "      <td>0.205999</td>\n",
       "      <td>-0.072330</td>\n",
       "      <td>-0.137301</td>\n",
       "      <td>-0.144561</td>\n",
       "      <td>-0.150827</td>\n",
       "      <td>-0.189759</td>\n",
       "      <td>-0.127553</td>\n",
       "      <td>-0.121834</td>\n",
       "      <td>1.000000</td>\n",
       "      <td>-0.003833</td>\n",
       "    </tr>\n",
       "    <tr>\n",
       "      <th>hotel_cluster</th>\n",
       "      <td>0.026387</td>\n",
       "      <td>0.004251</td>\n",
       "      <td>0.024729</td>\n",
       "      <td>0.008161</td>\n",
       "      <td>-0.006463</td>\n",
       "      <td>0.001684</td>\n",
       "      <td>0.012630</td>\n",
       "      <td>0.047047</td>\n",
       "      <td>0.002599</td>\n",
       "      <td>0.038766</td>\n",
       "      <td>...</td>\n",
       "      <td>-0.004114</td>\n",
       "      <td>0.010868</td>\n",
       "      <td>-0.002561</td>\n",
       "      <td>0.001805</td>\n",
       "      <td>0.001182</td>\n",
       "      <td>0.012337</td>\n",
       "      <td>-0.004817</td>\n",
       "      <td>-0.008442</td>\n",
       "      <td>-0.003833</td>\n",
       "      <td>1.000000</td>\n",
       "    </tr>\n",
       "  </tbody>\n",
       "</table>\n",
       "<p>54 rows × 54 columns</p>\n",
       "</div>"
      ],
      "text/plain": [
       "                           site_name_2  posa_continent_3  \\\n",
       "site_name_2                   1.000000          0.550232   \n",
       "posa_continent_3              0.550232          1.000000   \n",
       "user_location_country_66      0.909819          0.497543   \n",
       "user_location_region         -0.039021         -0.211536   \n",
       "user_location_city           -0.053745         -0.009932   \n",
       "orig_destination_distance    -0.120939         -0.164843   \n",
       "is_mobile                     0.023922          0.030411   \n",
       "is_package                   -0.009434         -0.033772   \n",
       "channel                      -0.030856          0.057196   \n",
       "length_of_stay               -0.079849         -0.090488   \n",
       "srch_adults_cnt              -0.023033         -0.016234   \n",
       "srch_children_cnt            -0.004407          0.008307   \n",
       "srch_rm_cnt                  -0.002414         -0.022324   \n",
       "srch_destination_id          -0.035706         -0.022458   \n",
       "srch_destination_type_id     -0.021096          0.006938   \n",
       "is_booking                    0.004013          0.010899   \n",
       "cnt                          -0.011406         -0.002210   \n",
       "hotel_continent              -0.128970         -0.214325   \n",
       "hotel_country                 0.273458          0.233915   \n",
       "hotel_market                  0.024771         -0.001174   \n",
       "date_time_DoW_Friday          0.005183         -0.008326   \n",
       "date_time_DoW_Monday         -0.000116         -0.001863   \n",
       "date_time_DoW_Saturday       -0.006378          0.004355   \n",
       "date_time_DoW_Sunday         -0.002423          0.010891   \n",
       "date_time_DoW_Thursday       -0.003151         -0.003619   \n",
       "date_time_DoW_Tuesday        -0.002771         -0.002697   \n",
       "date_time_DoW_Wednesday       0.008737          0.002009   \n",
       "date_time_MoY_April           0.016398          0.012334   \n",
       "date_time_MoY_August         -0.004113         -0.010875   \n",
       "date_time_MoY_December       -0.006120         -0.011437   \n",
       "date_time_MoY_February       -0.019086          0.003699   \n",
       "date_time_MoY_January        -0.024775          0.000418   \n",
       "date_time_MoY_July           -0.000406          0.000053   \n",
       "date_time_MoY_June            0.026216          0.023938   \n",
       "date_time_MoY_March           0.013981          0.015567   \n",
       "date_time_MoY_May             0.020032          0.012182   \n",
       "date_time_MoY_November       -0.019413         -0.023025   \n",
       "date_time_MoY_October        -0.005939         -0.011791   \n",
       "date_time_MoY_September      -0.002326         -0.005616   \n",
       "srch_ci_DoW_Friday            0.016044          0.018025   \n",
       "srch_ci_DoW_Monday           -0.018587         -0.022234   \n",
       "srch_ci_DoW_Saturday          0.002747          0.008331   \n",
       "srch_ci_DoW_Sunday           -0.014225         -0.003249   \n",
       "srch_ci_DoW_Thursday          0.005774         -0.000700   \n",
       "srch_ci_DoW_Tuesday          -0.004099         -0.011813   \n",
       "srch_ci_DoW_Wednesday         0.006968          0.005100   \n",
       "srch_co_DoW_Friday           -0.002681         -0.007674   \n",
       "srch_co_DoW_Monday           -0.012771          0.001271   \n",
       "srch_co_DoW_Saturday          0.001376         -0.002480   \n",
       "srch_co_DoW_Sunday            0.022403          0.018364   \n",
       "srch_co_DoW_Thursday         -0.003400         -0.000171   \n",
       "srch_co_DoW_Tuesday          -0.006434         -0.009264   \n",
       "srch_co_DoW_Wednesday        -0.004422         -0.005463   \n",
       "hotel_cluster                 0.026387          0.004251   \n",
       "\n",
       "                           user_location_country_66  user_location_region  \\\n",
       "site_name_2                                0.909819             -0.039021   \n",
       "posa_continent_3                           0.497543             -0.211536   \n",
       "user_location_country_66                   1.000000             -0.078623   \n",
       "user_location_region                      -0.078623              1.000000   \n",
       "user_location_city                        -0.072133              0.137233   \n",
       "orig_destination_distance                 -0.130842              0.051812   \n",
       "is_mobile                                  0.028624             -0.007414   \n",
       "is_package                                -0.003354              0.030517   \n",
       "channel                                   -0.043541             -0.012149   \n",
       "length_of_stay                            -0.083393              0.031450   \n",
       "srch_adults_cnt                           -0.022631              0.001487   \n",
       "srch_children_cnt                         -0.006878             -0.000278   \n",
       "srch_rm_cnt                               -0.005237              0.005660   \n",
       "srch_destination_id                       -0.032422              0.008872   \n",
       "srch_destination_type_id                  -0.020772             -0.014854   \n",
       "is_booking                                 0.003773             -0.001663   \n",
       "cnt                                       -0.010319              0.002649   \n",
       "hotel_continent                           -0.157773              0.023663   \n",
       "hotel_country                              0.295412             -0.054760   \n",
       "hotel_market                               0.024611              0.029571   \n",
       "date_time_DoW_Friday                       0.007939             -0.002325   \n",
       "date_time_DoW_Monday                      -0.000758              0.005058   \n",
       "date_time_DoW_Saturday                    -0.008607              0.000613   \n",
       "date_time_DoW_Sunday                      -0.003586             -0.002355   \n",
       "date_time_DoW_Thursday                    -0.002296             -0.004728   \n",
       "date_time_DoW_Tuesday                     -0.002026              0.005461   \n",
       "date_time_DoW_Wednesday                    0.008243             -0.002286   \n",
       "date_time_MoY_April                        0.016521             -0.001259   \n",
       "date_time_MoY_August                      -0.004635              0.002065   \n",
       "date_time_MoY_December                    -0.004351             -0.001466   \n",
       "date_time_MoY_February                    -0.012404              0.000688   \n",
       "date_time_MoY_January                     -0.026374              0.002458   \n",
       "date_time_MoY_July                        -0.000913              0.000934   \n",
       "date_time_MoY_June                         0.022028             -0.006126   \n",
       "date_time_MoY_March                        0.015788             -0.000856   \n",
       "date_time_MoY_May                          0.020906             -0.003328   \n",
       "date_time_MoY_November                    -0.020484              0.003863   \n",
       "date_time_MoY_October                     -0.007705              0.006695   \n",
       "date_time_MoY_September                   -0.002700             -0.003556   \n",
       "srch_ci_DoW_Friday                         0.019568             -0.000347   \n",
       "srch_ci_DoW_Monday                        -0.018449              0.001739   \n",
       "srch_ci_DoW_Saturday                       0.004105              0.001666   \n",
       "srch_ci_DoW_Sunday                        -0.015313             -0.000085   \n",
       "srch_ci_DoW_Thursday                       0.004459              0.001415   \n",
       "srch_ci_DoW_Tuesday                       -0.004715             -0.002200   \n",
       "srch_ci_DoW_Wednesday                      0.004115             -0.002524   \n",
       "srch_co_DoW_Friday                        -0.004671              0.002083   \n",
       "srch_co_DoW_Monday                        -0.012092             -0.001136   \n",
       "srch_co_DoW_Saturday                       0.003291              0.011513   \n",
       "srch_co_DoW_Sunday                         0.023947             -0.011928   \n",
       "srch_co_DoW_Thursday                      -0.005220             -0.002225   \n",
       "srch_co_DoW_Tuesday                       -0.006599              0.003405   \n",
       "srch_co_DoW_Wednesday                     -0.005286              0.000525   \n",
       "hotel_cluster                              0.024729              0.008161   \n",
       "\n",
       "                           user_location_city  orig_destination_distance  \\\n",
       "site_name_2                         -0.053745                  -0.120939   \n",
       "posa_continent_3                    -0.009932                  -0.164843   \n",
       "user_location_country_66            -0.072133                  -0.130842   \n",
       "user_location_region                 0.137233                   0.051812   \n",
       "user_location_city                   1.000000                   0.016545   \n",
       "orig_destination_distance            0.016545                   1.000000   \n",
       "is_mobile                           -0.010662                  -0.060699   \n",
       "is_package                           0.011002                   0.038749   \n",
       "channel                              0.012065                   0.004763   \n",
       "length_of_stay                       0.009198                   0.226762   \n",
       "srch_adults_cnt                     -0.002959                  -0.025914   \n",
       "srch_children_cnt                   -0.000634                  -0.061287   \n",
       "srch_rm_cnt                         -0.002800                  -0.012094   \n",
       "srch_destination_id                 -0.000757                  -0.024488   \n",
       "srch_destination_type_id            -0.004602                  -0.031497   \n",
       "is_booking                          -0.002899                  -0.032252   \n",
       "cnt                                  0.005637                   0.004770   \n",
       "hotel_continent                      0.015038                   0.421612   \n",
       "hotel_country                       -0.027261                  -0.477955   \n",
       "hotel_market                        -0.008337                  -0.091360   \n",
       "date_time_DoW_Friday                -0.006426                  -0.008175   \n",
       "date_time_DoW_Monday                -0.000437                  -0.010451   \n",
       "date_time_DoW_Saturday               0.000557                   0.016255   \n",
       "date_time_DoW_Sunday                 0.004642                   0.017842   \n",
       "date_time_DoW_Thursday              -0.003295                  -0.007411   \n",
       "date_time_DoW_Tuesday               -0.001589                  -0.000271   \n",
       "date_time_DoW_Wednesday              0.006346                  -0.004752   \n",
       "date_time_MoY_April                 -0.001247                   0.008369   \n",
       "date_time_MoY_August                 0.008496                  -0.012308   \n",
       "date_time_MoY_December               0.002279                  -0.011091   \n",
       "date_time_MoY_February               0.000579                   0.003257   \n",
       "date_time_MoY_January                0.004749                   0.019555   \n",
       "date_time_MoY_July                   0.001090                  -0.017496   \n",
       "date_time_MoY_June                  -0.004425                  -0.014266   \n",
       "date_time_MoY_March                  0.009260                   0.015898   \n",
       "date_time_MoY_May                   -0.006988                  -0.004338   \n",
       "date_time_MoY_November              -0.003143                   0.006051   \n",
       "date_time_MoY_October               -0.003905                   0.003007   \n",
       "date_time_MoY_September             -0.005642                   0.011752   \n",
       "srch_ci_DoW_Friday                  -0.006302                  -0.077877   \n",
       "srch_ci_DoW_Monday                   0.002934                   0.050359   \n",
       "srch_ci_DoW_Saturday                -0.003522                  -0.037434   \n",
       "srch_ci_DoW_Sunday                   0.011983                   0.031210   \n",
       "srch_ci_DoW_Thursday                 0.000124                  -0.004817   \n",
       "srch_ci_DoW_Tuesday                 -0.000804                   0.044598   \n",
       "srch_ci_DoW_Wednesday               -0.002424                   0.020895   \n",
       "srch_co_DoW_Friday                   0.004246                   0.029257   \n",
       "srch_co_DoW_Monday                   0.003064                   0.000262   \n",
       "srch_co_DoW_Saturday                -0.000112                  -0.005438   \n",
       "srch_co_DoW_Sunday                  -0.010442                  -0.113237   \n",
       "srch_co_DoW_Thursday                -0.004186                   0.038263   \n",
       "srch_co_DoW_Tuesday                  0.007288                   0.041839   \n",
       "srch_co_DoW_Wednesday                0.003131                   0.045247   \n",
       "hotel_cluster                       -0.006463                   0.001684   \n",
       "\n",
       "                           is_mobile  is_package   channel  length_of_stay  \\\n",
       "site_name_2                 0.023922   -0.009434 -0.030856       -0.079849   \n",
       "posa_continent_3            0.030411   -0.033772  0.057196       -0.090488   \n",
       "user_location_country_66    0.028624   -0.003354 -0.043541       -0.083393   \n",
       "user_location_region       -0.007414    0.030517 -0.012149        0.031450   \n",
       "user_location_city         -0.010662    0.011002  0.012065        0.009198   \n",
       "orig_destination_distance  -0.060699    0.038749  0.004763        0.226762   \n",
       "is_mobile                   1.000000    0.033998 -0.045193        0.006068   \n",
       "is_package                  0.033998    1.000000  0.006050        0.333209   \n",
       "channel                    -0.045193    0.006050  1.000000       -0.016222   \n",
       "length_of_stay              0.006068    0.333209 -0.016222        1.000000   \n",
       "srch_adults_cnt             0.023565   -0.025048 -0.021604       -0.000400   \n",
       "srch_children_cnt           0.031458   -0.029171  0.007583        0.028795   \n",
       "srch_rm_cnt                -0.017021   -0.033287  0.011213       -0.017217   \n",
       "srch_destination_id        -0.014615   -0.164947 -0.001942       -0.089900   \n",
       "srch_destination_type_id   -0.014170   -0.225464  0.019692       -0.100436   \n",
       "is_booking                 -0.034242   -0.084319  0.027452       -0.099537   \n",
       "cnt                         0.002180    0.116328 -0.004246        0.046000   \n",
       "hotel_continent            -0.031909    0.134319 -0.013838        0.173227   \n",
       "hotel_country               0.027138   -0.177360 -0.006850       -0.214003   \n",
       "hotel_market                0.010736   -0.017494 -0.003587       -0.032735   \n",
       "date_time_DoW_Friday       -0.008867   -0.013979 -0.001413       -0.014131   \n",
       "date_time_DoW_Monday       -0.016926   -0.003496  0.004653        0.002236   \n",
       "date_time_DoW_Saturday      0.037277    0.005656 -0.005209        0.007713   \n",
       "date_time_DoW_Sunday        0.041095    0.012486 -0.000629        0.020179   \n",
       "date_time_DoW_Thursday     -0.016722   -0.000193  0.013289       -0.005562   \n",
       "date_time_DoW_Tuesday      -0.013030    0.001615  0.004358        0.000782   \n",
       "date_time_DoW_Wednesday    -0.015057   -0.001287 -0.015390       -0.009759   \n",
       "date_time_MoY_April        -0.003662   -0.016137  0.009534       -0.005724   \n",
       "date_time_MoY_August        0.012664   -0.013899 -0.010642       -0.013992   \n",
       "date_time_MoY_December      0.023362    0.003205 -0.009044        0.006718   \n",
       "date_time_MoY_February     -0.011408    0.019637  0.016640        0.010175   \n",
       "date_time_MoY_January      -0.001652    0.044700  0.012891        0.027399   \n",
       "date_time_MoY_July          0.006741   -0.010477 -0.009020       -0.015637   \n",
       "date_time_MoY_June         -0.010490   -0.017716  0.013140       -0.017376   \n",
       "date_time_MoY_March        -0.009947    0.007450  0.009867        0.002454   \n",
       "date_time_MoY_May          -0.013361   -0.022082  0.014390       -0.014799   \n",
       "date_time_MoY_November      0.010425    0.008408 -0.018851        0.014120   \n",
       "date_time_MoY_October      -0.005751    0.002266 -0.008273        0.004869   \n",
       "date_time_MoY_September    -0.003354    0.008144 -0.009607        0.010070   \n",
       "srch_ci_DoW_Friday          0.008956   -0.035091 -0.006509       -0.041083   \n",
       "srch_ci_DoW_Monday         -0.009667   -0.012486  0.006562        0.020532   \n",
       "srch_ci_DoW_Saturday        0.009984   -0.033467 -0.010390       -0.022761   \n",
       "srch_ci_DoW_Sunday         -0.006153   -0.002119 -0.005967        0.031413   \n",
       "srch_ci_DoW_Thursday        0.000084    0.049474  0.005774        0.002227   \n",
       "srch_ci_DoW_Tuesday        -0.006511    0.004200  0.005610        0.010249   \n",
       "srch_ci_DoW_Wednesday      -0.000781    0.036952  0.007722        0.012682   \n",
       "srch_co_DoW_Friday         -0.008335    0.031311  0.012687        0.049344   \n",
       "srch_co_DoW_Monday         -0.005181   -0.013089 -0.000897       -0.003287   \n",
       "srch_co_DoW_Saturday        0.003862    0.034334 -0.007218        0.025439   \n",
       "srch_co_DoW_Sunday          0.014226   -0.063788 -0.005078       -0.091352   \n",
       "srch_co_DoW_Thursday        0.001901    0.026709  0.004395        0.017577   \n",
       "srch_co_DoW_Tuesday         0.000465   -0.002122 -0.002022        0.014293   \n",
       "srch_co_DoW_Wednesday      -0.011119    0.000897 -0.000107        0.010644   \n",
       "hotel_cluster               0.012630    0.047047  0.002599        0.038766   \n",
       "\n",
       "                           ...  srch_ci_DoW_Tuesday  srch_ci_DoW_Wednesday  \\\n",
       "site_name_2                ...            -0.004099               0.006968   \n",
       "posa_continent_3           ...            -0.011813               0.005100   \n",
       "user_location_country_66   ...            -0.004715               0.004115   \n",
       "user_location_region       ...            -0.002200              -0.002524   \n",
       "user_location_city         ...            -0.000804              -0.002424   \n",
       "orig_destination_distance  ...             0.044598               0.020895   \n",
       "is_mobile                  ...            -0.006511              -0.000781   \n",
       "is_package                 ...             0.004200               0.036952   \n",
       "channel                    ...             0.005610               0.007722   \n",
       "length_of_stay             ...             0.010249               0.012682   \n",
       "srch_adults_cnt            ...            -0.029025              -0.015228   \n",
       "srch_children_cnt          ...            -0.013316              -0.018947   \n",
       "srch_rm_cnt                ...            -0.000298               0.002199   \n",
       "srch_destination_id        ...            -0.005743              -0.011930   \n",
       "srch_destination_type_id   ...             0.000934              -0.006633   \n",
       "is_booking                 ...             0.009031               0.003824   \n",
       "cnt                        ...            -0.000503               0.006899   \n",
       "hotel_continent            ...             0.024964               0.012044   \n",
       "hotel_country              ...            -0.023658              -0.012165   \n",
       "hotel_market               ...            -0.004941               0.002223   \n",
       "date_time_DoW_Friday       ...            -0.005184              -0.017141   \n",
       "date_time_DoW_Monday       ...             0.018380               0.010477   \n",
       "date_time_DoW_Saturday     ...            -0.014000              -0.009980   \n",
       "date_time_DoW_Sunday       ...             0.006221              -0.005007   \n",
       "date_time_DoW_Thursday     ...            -0.011639              -0.026506   \n",
       "date_time_DoW_Tuesday      ...             0.024455               0.025419   \n",
       "date_time_DoW_Wednesday    ...            -0.020990               0.017990   \n",
       "date_time_MoY_April        ...             0.002793               0.003390   \n",
       "date_time_MoY_August       ...            -0.009651              -0.011186   \n",
       "date_time_MoY_December     ...             0.004124               0.010926   \n",
       "date_time_MoY_February     ...            -0.002075              -0.004046   \n",
       "date_time_MoY_January      ...            -0.010529               0.001330   \n",
       "date_time_MoY_July         ...             0.003445              -0.002606   \n",
       "date_time_MoY_June         ...             0.003572               0.001523   \n",
       "date_time_MoY_March        ...             0.006028              -0.003069   \n",
       "date_time_MoY_May          ...            -0.000153              -0.007959   \n",
       "date_time_MoY_November     ...             0.004005               0.011544   \n",
       "date_time_MoY_October      ...            -0.000689              -0.001783   \n",
       "date_time_MoY_September    ...            -0.002909               0.001300   \n",
       "srch_ci_DoW_Friday         ...            -0.175140              -0.193310   \n",
       "srch_ci_DoW_Monday         ...            -0.125519              -0.138541   \n",
       "srch_ci_DoW_Saturday       ...            -0.157395              -0.173725   \n",
       "srch_ci_DoW_Sunday         ...            -0.129908              -0.143386   \n",
       "srch_ci_DoW_Thursday       ...            -0.146885              -0.162124   \n",
       "srch_ci_DoW_Tuesday        ...             1.000000              -0.132792   \n",
       "srch_ci_DoW_Wednesday      ...            -0.132792               1.000000   \n",
       "srch_co_DoW_Friday         ...             0.045411               0.059315   \n",
       "srch_co_DoW_Monday         ...            -0.098663              -0.067376   \n",
       "srch_co_DoW_Saturday       ...            -0.020829               0.031602   \n",
       "srch_co_DoW_Sunday         ...            -0.117143              -0.045174   \n",
       "srch_co_DoW_Thursday       ...             0.086875               0.175662   \n",
       "srch_co_DoW_Tuesday        ...            -0.051457              -0.074039   \n",
       "srch_co_DoW_Wednesday      ...             0.205999              -0.072330   \n",
       "hotel_cluster              ...            -0.004114               0.010868   \n",
       "\n",
       "                           srch_co_DoW_Friday  srch_co_DoW_Monday  \\\n",
       "site_name_2                         -0.002681           -0.012771   \n",
       "posa_continent_3                    -0.007674            0.001271   \n",
       "user_location_country_66            -0.004671           -0.012092   \n",
       "user_location_region                 0.002083           -0.001136   \n",
       "user_location_city                   0.004246            0.003064   \n",
       "orig_destination_distance            0.029257            0.000262   \n",
       "is_mobile                           -0.008335           -0.005181   \n",
       "is_package                           0.031311           -0.013089   \n",
       "channel                              0.012687           -0.000897   \n",
       "length_of_stay                       0.049344           -0.003287   \n",
       "srch_adults_cnt                     -0.021488            0.010149   \n",
       "srch_children_cnt                   -0.002975           -0.004027   \n",
       "srch_rm_cnt                         -0.000919           -0.007885   \n",
       "srch_destination_id                  0.001718           -0.004144   \n",
       "srch_destination_type_id            -0.005161            0.004946   \n",
       "is_booking                           0.004978           -0.013449   \n",
       "cnt                                  0.008489            0.000091   \n",
       "hotel_continent                      0.021105           -0.004899   \n",
       "hotel_country                       -0.033589            0.005219   \n",
       "hotel_market                         0.003411           -0.003290   \n",
       "date_time_DoW_Friday                -0.011720            0.003191   \n",
       "date_time_DoW_Monday                 0.003466           -0.005844   \n",
       "date_time_DoW_Saturday              -0.009896            0.023290   \n",
       "date_time_DoW_Sunday                -0.003285            0.010053   \n",
       "date_time_DoW_Thursday               0.006236           -0.001590   \n",
       "date_time_DoW_Tuesday                0.005951           -0.014134   \n",
       "date_time_DoW_Wednesday              0.006783           -0.010305   \n",
       "date_time_MoY_April                  0.006816            0.000068   \n",
       "date_time_MoY_August                -0.009274            0.028367   \n",
       "date_time_MoY_December               0.002263           -0.011802   \n",
       "date_time_MoY_February              -0.001364            0.003838   \n",
       "date_time_MoY_January                0.003157           -0.006434   \n",
       "date_time_MoY_July                  -0.002186           -0.004973   \n",
       "date_time_MoY_June                   0.002456           -0.001952   \n",
       "date_time_MoY_March                 -0.002845           -0.004749   \n",
       "date_time_MoY_May                   -0.003072            0.015368   \n",
       "date_time_MoY_November               0.008122           -0.013855   \n",
       "date_time_MoY_October               -0.002850           -0.001484   \n",
       "date_time_MoY_September              0.000034           -0.003020   \n",
       "srch_ci_DoW_Friday                  -0.111027            0.030965   \n",
       "srch_ci_DoW_Monday                   0.020845           -0.084751   \n",
       "srch_ci_DoW_Saturday                -0.099022            0.043698   \n",
       "srch_ci_DoW_Sunday                  -0.037992            0.150103   \n",
       "srch_ci_DoW_Thursday                 0.150041            0.005453   \n",
       "srch_ci_DoW_Tuesday                  0.045411           -0.098663   \n",
       "srch_ci_DoW_Wednesday                0.059315           -0.067376   \n",
       "srch_co_DoW_Friday                   1.000000           -0.162690   \n",
       "srch_co_DoW_Monday                  -0.162690            1.000000   \n",
       "srch_co_DoW_Saturday                -0.169742           -0.178717   \n",
       "srch_co_DoW_Sunday                  -0.213556           -0.224848   \n",
       "srch_co_DoW_Thursday                -0.143550           -0.151140   \n",
       "srch_co_DoW_Tuesday                 -0.137113           -0.144363   \n",
       "srch_co_DoW_Wednesday               -0.137301           -0.144561   \n",
       "hotel_cluster                       -0.002561            0.001805   \n",
       "\n",
       "                           srch_co_DoW_Saturday  srch_co_DoW_Sunday  \\\n",
       "site_name_2                            0.001376            0.022403   \n",
       "posa_continent_3                      -0.002480            0.018364   \n",
       "user_location_country_66               0.003291            0.023947   \n",
       "user_location_region                   0.011513           -0.011928   \n",
       "user_location_city                    -0.000112           -0.010442   \n",
       "orig_destination_distance             -0.005438           -0.113237   \n",
       "is_mobile                              0.003862            0.014226   \n",
       "is_package                             0.034334           -0.063788   \n",
       "channel                               -0.007218           -0.005078   \n",
       "length_of_stay                         0.025439           -0.091352   \n",
       "srch_adults_cnt                        0.010427            0.041392   \n",
       "srch_children_cnt                      0.017184            0.004262   \n",
       "srch_rm_cnt                           -0.003217            0.006990   \n",
       "srch_destination_id                   -0.002175            0.019624   \n",
       "srch_destination_type_id              -0.007711            0.012528   \n",
       "is_booking                            -0.011889           -0.002405   \n",
       "cnt                                    0.000693           -0.005195   \n",
       "hotel_continent                        0.006225           -0.075181   \n",
       "hotel_country                         -0.003364            0.082777   \n",
       "hotel_market                           0.004559            0.006152   \n",
       "date_time_DoW_Friday                   0.006038            0.016359   \n",
       "date_time_DoW_Monday                  -0.007324           -0.007755   \n",
       "date_time_DoW_Saturday                -0.010784            0.001367   \n",
       "date_time_DoW_Sunday                   0.003502           -0.017865   \n",
       "date_time_DoW_Thursday                 0.008601            0.005812   \n",
       "date_time_DoW_Tuesday                 -0.001809           -0.002536   \n",
       "date_time_DoW_Wednesday                0.001372            0.004978   \n",
       "date_time_MoY_April                   -0.002962            0.000853   \n",
       "date_time_MoY_August                  -0.003127           -0.002989   \n",
       "date_time_MoY_December                 0.001404           -0.013751   \n",
       "date_time_MoY_February                 0.005085           -0.005450   \n",
       "date_time_MoY_January                  0.004220            0.000037   \n",
       "date_time_MoY_July                    -0.006511            0.002224   \n",
       "date_time_MoY_June                    -0.008508            0.000322   \n",
       "date_time_MoY_March                    0.009071           -0.001451   \n",
       "date_time_MoY_May                     -0.006454            0.000049   \n",
       "date_time_MoY_November                 0.007469           -0.002725   \n",
       "date_time_MoY_October                  0.002720            0.013384   \n",
       "date_time_MoY_September                0.000099            0.008135   \n",
       "srch_ci_DoW_Friday                     0.153663            0.138729   \n",
       "srch_ci_DoW_Monday                    -0.074602           -0.147653   \n",
       "srch_ci_DoW_Saturday                  -0.079684            0.211476   \n",
       "srch_ci_DoW_Sunday                    -0.077596           -0.142850   \n",
       "srch_ci_DoW_Thursday                   0.037352            0.028190   \n",
       "srch_ci_DoW_Tuesday                   -0.020829           -0.117143   \n",
       "srch_ci_DoW_Wednesday                  0.031602           -0.045174   \n",
       "srch_co_DoW_Friday                    -0.169742           -0.213556   \n",
       "srch_co_DoW_Monday                    -0.178717           -0.224848   \n",
       "srch_co_DoW_Saturday                   1.000000           -0.234595   \n",
       "srch_co_DoW_Sunday                    -0.234595            1.000000   \n",
       "srch_co_DoW_Thursday                  -0.157691           -0.198395   \n",
       "srch_co_DoW_Tuesday                   -0.150620           -0.189499   \n",
       "srch_co_DoW_Wednesday                 -0.150827           -0.189759   \n",
       "hotel_cluster                          0.001182            0.012337   \n",
       "\n",
       "                           srch_co_DoW_Thursday  srch_co_DoW_Tuesday  \\\n",
       "site_name_2                           -0.003400            -0.006434   \n",
       "posa_continent_3                      -0.000171            -0.009264   \n",
       "user_location_country_66              -0.005220            -0.006599   \n",
       "user_location_region                  -0.002225             0.003405   \n",
       "user_location_city                    -0.004186             0.007288   \n",
       "orig_destination_distance              0.038263             0.041839   \n",
       "is_mobile                              0.001901             0.000465   \n",
       "is_package                             0.026709            -0.002122   \n",
       "channel                                0.004395            -0.002022   \n",
       "length_of_stay                         0.017577             0.014293   \n",
       "srch_adults_cnt                       -0.018726            -0.012778   \n",
       "srch_children_cnt                     -0.003382            -0.006797   \n",
       "srch_rm_cnt                            0.006968            -0.002728   \n",
       "srch_destination_id                   -0.010238            -0.005813   \n",
       "srch_destination_type_id              -0.010644             0.000940   \n",
       "is_booking                             0.013065             0.005574   \n",
       "cnt                                    0.001355            -0.001627   \n",
       "hotel_continent                        0.027138             0.022619   \n",
       "hotel_country                         -0.030212            -0.022741   \n",
       "hotel_market                          -0.004560            -0.000384   \n",
       "date_time_DoW_Friday                  -0.010361             0.002117   \n",
       "date_time_DoW_Monday                   0.014053             0.006023   \n",
       "date_time_DoW_Saturday                -0.007278             0.004726   \n",
       "date_time_DoW_Sunday                  -0.006662             0.012168   \n",
       "date_time_DoW_Thursday                -0.019464            -0.002788   \n",
       "date_time_DoW_Tuesday                  0.014102            -0.015694   \n",
       "date_time_DoW_Wednesday                0.012029            -0.004782   \n",
       "date_time_MoY_April                   -0.004030            -0.005451   \n",
       "date_time_MoY_August                  -0.010570            -0.000986   \n",
       "date_time_MoY_December                 0.013775             0.007346   \n",
       "date_time_MoY_February                 0.001529            -0.006257   \n",
       "date_time_MoY_January                  0.006392            -0.010357   \n",
       "date_time_MoY_July                     0.000806             0.007383   \n",
       "date_time_MoY_June                    -0.004463             0.005178   \n",
       "date_time_MoY_March                   -0.002414             0.004438   \n",
       "date_time_MoY_May                     -0.002085             0.000886   \n",
       "date_time_MoY_November                 0.010255            -0.003666   \n",
       "date_time_MoY_October                 -0.001721            -0.004205   \n",
       "date_time_MoY_September               -0.006128             0.001257   \n",
       "srch_ci_DoW_Friday                    -0.119364            -0.052992   \n",
       "srch_ci_DoW_Monday                     0.070228             0.189100   \n",
       "srch_ci_DoW_Saturday                  -0.082118            -0.008576   \n",
       "srch_ci_DoW_Sunday                     0.014270             0.077008   \n",
       "srch_ci_DoW_Thursday                  -0.094082            -0.057365   \n",
       "srch_ci_DoW_Tuesday                    0.086875            -0.051457   \n",
       "srch_ci_DoW_Wednesday                  0.175662            -0.074039   \n",
       "srch_co_DoW_Friday                    -0.143550            -0.137113   \n",
       "srch_co_DoW_Monday                    -0.151140            -0.144363   \n",
       "srch_co_DoW_Saturday                  -0.157691            -0.150620   \n",
       "srch_co_DoW_Sunday                    -0.198395            -0.189499   \n",
       "srch_co_DoW_Thursday                   1.000000            -0.127378   \n",
       "srch_co_DoW_Tuesday                   -0.127378             1.000000   \n",
       "srch_co_DoW_Wednesday                 -0.127553            -0.121834   \n",
       "hotel_cluster                         -0.004817            -0.008442   \n",
       "\n",
       "                           srch_co_DoW_Wednesday  hotel_cluster  \n",
       "site_name_2                            -0.004422       0.026387  \n",
       "posa_continent_3                       -0.005463       0.004251  \n",
       "user_location_country_66               -0.005286       0.024729  \n",
       "user_location_region                    0.000525       0.008161  \n",
       "user_location_city                      0.003131      -0.006463  \n",
       "orig_destination_distance               0.045247       0.001684  \n",
       "is_mobile                              -0.011119       0.012630  \n",
       "is_package                              0.000897       0.047047  \n",
       "channel                                -0.000107       0.002599  \n",
       "length_of_stay                          0.010644       0.038766  \n",
       "srch_adults_cnt                        -0.023837       0.009320  \n",
       "srch_children_cnt                      -0.007717       0.016538  \n",
       "srch_rm_cnt                            -0.000189      -0.008801  \n",
       "srch_destination_id                    -0.004671      -0.021507  \n",
       "srch_destination_type_id                0.002242      -0.037896  \n",
       "is_booking                              0.007870      -0.022421  \n",
       "cnt                                    -0.002974       0.008093  \n",
       "hotel_continent                         0.025819      -0.002949  \n",
       "hotel_country                          -0.022804      -0.026864  \n",
       "hotel_market                           -0.008512       0.019653  \n",
       "date_time_DoW_Friday                   -0.011296      -0.003994  \n",
       "date_time_DoW_Monday                    0.001293       0.001438  \n",
       "date_time_DoW_Saturday                 -0.002034       0.003416  \n",
       "date_time_DoW_Sunday                    0.006901       0.005681  \n",
       "date_time_DoW_Thursday                  0.000029      -0.002197  \n",
       "date_time_DoW_Tuesday                   0.016147      -0.001843  \n",
       "date_time_DoW_Wednesday                -0.011707      -0.001934  \n",
       "date_time_MoY_April                     0.004399      -0.001314  \n",
       "date_time_MoY_August                   -0.002446      -0.002402  \n",
       "date_time_MoY_December                  0.006213      -0.005049  \n",
       "date_time_MoY_February                  0.003200      -0.003114  \n",
       "date_time_MoY_January                   0.002596       0.000944  \n",
       "date_time_MoY_July                      0.004441       0.003671  \n",
       "date_time_MoY_June                      0.008489      -0.003568  \n",
       "date_time_MoY_March                    -0.002081       0.004161  \n",
       "date_time_MoY_May                      -0.005333      -0.001273  \n",
       "date_time_MoY_November                 -0.005170       0.000105  \n",
       "date_time_MoY_October                  -0.010433       0.009974  \n",
       "date_time_MoY_September                -0.002600      -0.002670  \n",
       "srch_ci_DoW_Friday                     -0.103815       0.008162  \n",
       "srch_ci_DoW_Monday                      0.097987      -0.014489  \n",
       "srch_ci_DoW_Saturday                   -0.039531       0.000564  \n",
       "srch_ci_DoW_Sunday                      0.062685      -0.001813  \n",
       "srch_ci_DoW_Thursday                   -0.097262      -0.001725  \n",
       "srch_ci_DoW_Tuesday                     0.205999      -0.004114  \n",
       "srch_ci_DoW_Wednesday                  -0.072330       0.010868  \n",
       "srch_co_DoW_Friday                     -0.137301      -0.002561  \n",
       "srch_co_DoW_Monday                     -0.144561       0.001805  \n",
       "srch_co_DoW_Saturday                   -0.150827       0.001182  \n",
       "srch_co_DoW_Sunday                     -0.189759       0.012337  \n",
       "srch_co_DoW_Thursday                   -0.127553      -0.004817  \n",
       "srch_co_DoW_Tuesday                    -0.121834      -0.008442  \n",
       "srch_co_DoW_Wednesday                   1.000000      -0.003833  \n",
       "hotel_cluster                          -0.003833       1.000000  \n",
       "\n",
       "[54 rows x 54 columns]"
      ]
     },
     "execution_count": 30,
     "metadata": {},
     "output_type": "execute_result"
    }
   ],
   "source": [
    "# Look at correlations\n",
    "dfCorr = ranDF.corr()\n",
    "dfCorr"
   ]
  },
  {
   "cell_type": "markdown",
   "id": "14b79a77-7945-4a28-9a2d-93154b9bf694",
   "metadata": {},
   "source": [
    "Correlations are really low. Get a list of the most highly correlated."
   ]
  },
  {
   "cell_type": "code",
   "execution_count": 31,
   "id": "bd54ac55-3f55-4f72-ab39-db5af0f0a51b",
   "metadata": {},
   "outputs": [],
   "source": [
    "# Get a list of variables with > 0.01 correlation\n",
    "hiCorr = dfCorr['hotel_cluster'][abs(dfCorr['hotel_cluster']) > 0.01]\n",
    "# Convert to a sorted list by highest correlation\n",
    "hiCorrList = abs(hiCorr).sort_values(ascending=False).index.to_list()\n",
    "# Remove target variable from list\n",
    "hiCorrList = hiCorrList[1:]"
   ]
  },
  {
   "cell_type": "markdown",
   "id": "464de8e6-d80c-4dd1-8cfe-2b054d0954b7",
   "metadata": {
    "tags": []
   },
   "source": [
    "#### Get a list of best variables using Feature Selection"
   ]
  },
  {
   "cell_type": "code",
   "execution_count": 4,
   "id": "d6ab4a5d-767a-498f-93d1-3d5e1ef7e9f6",
   "metadata": {},
   "outputs": [],
   "source": [
    "# Load libraries\n",
    "import numpy as np\n",
    "from sklearn.preprocessing import LabelEncoder\n",
    "from sklearn.preprocessing import StandardScaler\n",
    "from sklearn.model_selection import train_test_split"
   ]
  },
  {
   "cell_type": "markdown",
   "id": "59949a2d-4537-4d03-bb85-cb8780f0b89f",
   "metadata": {},
   "source": [
    "Select numerical columns"
   ]
  },
  {
   "cell_type": "code",
   "execution_count": 33,
   "id": "aa414599-f0a5-4196-a2f4-0c49f97773b7",
   "metadata": {},
   "outputs": [],
   "source": [
    "# Reorder / select columns\n",
    "numCols = ['site_name_2', 'posa_continent_3',\n",
    "       'user_location_country_66', 'user_location_region',\n",
    "       'user_location_city', 'orig_destination_distance', 'is_mobile',\n",
    "       'is_package', 'channel', 'length_of_stay',\n",
    "       'srch_adults_cnt', 'srch_children_cnt', 'srch_rm_cnt',\n",
    "       'srch_destination_id', 'srch_destination_type_id', 'is_booking', 'cnt',\n",
    "       'hotel_continent', 'hotel_country', 'hotel_market',\n",
    "       'date_time_DoW_Friday', 'date_time_DoW_Monday',\n",
    "       'date_time_DoW_Saturday', 'date_time_DoW_Sunday',\n",
    "       'date_time_DoW_Thursday', 'date_time_DoW_Tuesday',\n",
    "       'date_time_DoW_Wednesday', 'date_time_MoY_April',\n",
    "       'date_time_MoY_August', 'date_time_MoY_December',\n",
    "       'date_time_MoY_February', 'date_time_MoY_January', 'date_time_MoY_July',\n",
    "       'date_time_MoY_June', 'date_time_MoY_March', 'date_time_MoY_May',\n",
    "       'date_time_MoY_November', 'date_time_MoY_October',\n",
    "       'date_time_MoY_September', 'srch_ci_DoW_Friday', 'srch_ci_DoW_Monday',\n",
    "       'srch_ci_DoW_Saturday', 'srch_ci_DoW_Sunday', 'srch_ci_DoW_Thursday',\n",
    "       'srch_ci_DoW_Tuesday', 'srch_ci_DoW_Wednesday', 'srch_co_DoW_Friday',\n",
    "       'srch_co_DoW_Monday', 'srch_co_DoW_Saturday', 'srch_co_DoW_Sunday',\n",
    "       'srch_co_DoW_Thursday', 'srch_co_DoW_Tuesday', 'srch_co_DoW_Wednesday',\n",
    "       'hotel_cluster']\n",
    "numDF = ranDF[numCols].copy()"
   ]
  },
  {
   "cell_type": "markdown",
   "id": "b6491f12-97d1-4f13-9927-6358e97d26e7",
   "metadata": {},
   "source": [
    "Split data for feature selection:"
   ]
  },
  {
   "cell_type": "code",
   "execution_count": 34,
   "id": "28685442-0d83-4542-9308-f8aa77b31633",
   "metadata": {},
   "outputs": [],
   "source": [
    "# Set up features target sets\n",
    "X = numDF[numDF.columns[:-1]]\n",
    "y = numDF.hotel_cluster\n",
    "\n",
    "# Encode the target variables\n",
    "le = LabelEncoder()\n",
    "y = le.fit_transform(y)\n",
    "\n",
    "# Split the data\n",
    "X_train, X_test, y_train, y_test = train_test_split(X, y, test_size =0.3, \n",
    "                                                    random_state=42)\n",
    "\n",
    "# Standardize the features\n",
    "scaler = StandardScaler()\n",
    "X_train = scaler.fit_transform(X_train) \n",
    "X_test  = scaler.transform(X_test)"
   ]
  },
  {
   "cell_type": "markdown",
   "id": "aa300057-c56d-4937-8551-6306550bc033",
   "metadata": {
    "tags": []
   },
   "source": [
    "#### Feature Selection"
   ]
  },
  {
   "cell_type": "code",
   "execution_count": 35,
   "id": "d037bbfb-7468-4293-a06c-a7f6e1171635",
   "metadata": {},
   "outputs": [],
   "source": [
    "# Feature selection using F-statistic\n",
    "from sklearn.feature_selection import f_classif\n",
    "f = f_classif(X_train, y_train)[0]"
   ]
  },
  {
   "cell_type": "code",
   "execution_count": 36,
   "id": "e719f490-07e7-4b3b-b1b1-007c42543815",
   "metadata": {},
   "outputs": [],
   "source": [
    "# Feature selection using mutual information\n",
    "from sklearn.feature_selection import mutual_info_classif\n",
    "mi = mutual_info_classif(X_train, y_train)"
   ]
  },
  {
   "cell_type": "code",
   "execution_count": 37,
   "id": "601786ff-2c4d-4ce3-a034-af6e346e10c0",
   "metadata": {},
   "outputs": [],
   "source": [
    "# Feature selection using logistic regression\n",
    "from sklearn.linear_model import LogisticRegression\n",
    "logreg = LogisticRegression(max_iter=500).fit(X_train, y_train)"
   ]
  },
  {
   "cell_type": "code",
   "execution_count": 38,
   "id": "ee27aa2b-9263-45cb-b014-7c479122c84d",
   "metadata": {},
   "outputs": [],
   "source": [
    "# Feature selection using light gbm\n",
    "from lightgbm import LGBMClassifier\n",
    "lgbm = LGBMClassifier(\n",
    "    objective = 'multiclass',\n",
    "    metric = 'multi_logloss',\n",
    "    importance_type = 'gain'\n",
    ").fit(X_train, y_train)"
   ]
  },
  {
   "cell_type": "markdown",
   "id": "8cda7192-6718-4f2a-af9e-b4340b09136b",
   "metadata": {},
   "source": [
    "Store Results"
   ]
  },
  {
   "cell_type": "code",
   "execution_count": 39,
   "id": "354925a3-285d-4458-8052-43bd7849c501",
   "metadata": {},
   "outputs": [],
   "source": [
    "# Create DF to store feature ranking info\n",
    "ranking = pd.DataFrame(index = range(X_train.shape[1]))\n",
    "\n",
    "# Store ranking info for each feature from each method\n",
    "ranking['feat'] = X.columns\n",
    "ranking['f'] = pd.Series(f, index = ranking.index).fillna(0).rank(ascending = False)\n",
    "ranking['mi'] = pd.Series(mi, index = ranking.index).fillna(0).rank(ascending = False)\n",
    "ranking['logreg'] = pd.Series(np.abs(logreg.coef_).mean(axis = 0), index = ranking.index).rank(ascending = False)\n",
    "ranking['lightgbm'] = pd.Series(lgbm.feature_importances_, index = ranking.index).rank(ascending = False)\n",
    "# ranking['mrmr'] = pd.Series(list(range(1, len(mrmr) + 1)) + [X_train.shape[1]] * (X_train.shape[1] - len(mrmr)), index = mrmr + list(set(ranking.index) - set(mrmr))).sort_index()\n",
    "\n",
    "ranking = ranking.replace(to_replace = ranking.max(), value = X_train.shape[1])\n",
    "ranking.to_csv('ranking.csv', index = False)"
   ]
  },
  {
   "cell_type": "markdown",
   "id": "9d6bce1a-6c71-4270-af2c-95bb5f6038e1",
   "metadata": {},
   "source": [
    "Compare"
   ]
  },
  {
   "cell_type": "code",
   "execution_count": 40,
   "id": "d5a24741-92aa-41d4-9465-15fbb948d8e4",
   "metadata": {},
   "outputs": [
    {
     "name": "stderr",
     "output_type": "stream",
     "text": [
      "C:\\Users\\micha\\AppData\\Local\\Temp/ipykernel_4684/740563463.py:2: FutureWarning: Dropping of nuisance columns in DataFrame reductions (with 'numeric_only=None') is deprecated; in a future version this will raise TypeError.  Select only valid columns before calling the reduction.\n",
      "  ranking['total'] = ranking.sum(axis=1)\n"
     ]
    },
    {
     "data": {
      "text/html": [
       "<div>\n",
       "<style scoped>\n",
       "    .dataframe tbody tr th:only-of-type {\n",
       "        vertical-align: middle;\n",
       "    }\n",
       "\n",
       "    .dataframe tbody tr th {\n",
       "        vertical-align: top;\n",
       "    }\n",
       "\n",
       "    .dataframe thead th {\n",
       "        text-align: right;\n",
       "    }\n",
       "</style>\n",
       "<table border=\"1\" class=\"dataframe\">\n",
       "  <thead>\n",
       "    <tr style=\"text-align: right;\">\n",
       "      <th></th>\n",
       "      <th>feat</th>\n",
       "      <th>f</th>\n",
       "      <th>mi</th>\n",
       "      <th>logreg</th>\n",
       "      <th>lightgbm</th>\n",
       "      <th>total</th>\n",
       "    </tr>\n",
       "  </thead>\n",
       "  <tbody>\n",
       "    <tr>\n",
       "      <th>5</th>\n",
       "      <td>orig_destination_distance</td>\n",
       "      <td>3.0</td>\n",
       "      <td>4.0</td>\n",
       "      <td>3.0</td>\n",
       "      <td>1.0</td>\n",
       "      <td>11.0</td>\n",
       "    </tr>\n",
       "    <tr>\n",
       "      <th>17</th>\n",
       "      <td>hotel_continent</td>\n",
       "      <td>2.0</td>\n",
       "      <td>3.0</td>\n",
       "      <td>2.0</td>\n",
       "      <td>10.0</td>\n",
       "      <td>17.0</td>\n",
       "    </tr>\n",
       "    <tr>\n",
       "      <th>18</th>\n",
       "      <td>hotel_country</td>\n",
       "      <td>1.0</td>\n",
       "      <td>5.0</td>\n",
       "      <td>1.0</td>\n",
       "      <td>12.0</td>\n",
       "      <td>19.0</td>\n",
       "    </tr>\n",
       "    <tr>\n",
       "      <th>19</th>\n",
       "      <td>hotel_market</td>\n",
       "      <td>7.0</td>\n",
       "      <td>1.0</td>\n",
       "      <td>6.0</td>\n",
       "      <td>6.0</td>\n",
       "      <td>20.0</td>\n",
       "    </tr>\n",
       "    <tr>\n",
       "      <th>13</th>\n",
       "      <td>srch_destination_id</td>\n",
       "      <td>10.0</td>\n",
       "      <td>2.0</td>\n",
       "      <td>7.0</td>\n",
       "      <td>4.0</td>\n",
       "      <td>23.0</td>\n",
       "    </tr>\n",
       "    <tr>\n",
       "      <th>9</th>\n",
       "      <td>length_of_stay</td>\n",
       "      <td>5.0</td>\n",
       "      <td>6.0</td>\n",
       "      <td>10.0</td>\n",
       "      <td>3.0</td>\n",
       "      <td>24.0</td>\n",
       "    </tr>\n",
       "    <tr>\n",
       "      <th>14</th>\n",
       "      <td>srch_destination_type_id</td>\n",
       "      <td>11.0</td>\n",
       "      <td>10.0</td>\n",
       "      <td>8.0</td>\n",
       "      <td>9.0</td>\n",
       "      <td>38.0</td>\n",
       "    </tr>\n",
       "    <tr>\n",
       "      <th>2</th>\n",
       "      <td>user_location_country_66</td>\n",
       "      <td>8.0</td>\n",
       "      <td>12.0</td>\n",
       "      <td>9.0</td>\n",
       "      <td>17.0</td>\n",
       "      <td>46.0</td>\n",
       "    </tr>\n",
       "    <tr>\n",
       "      <th>3</th>\n",
       "      <td>53</td>\n",
       "      <td>16.0</td>\n",
       "      <td>8.0</td>\n",
       "      <td>17.0</td>\n",
       "      <td>5.0</td>\n",
       "      <td>46.0</td>\n",
       "    </tr>\n",
       "    <tr>\n",
       "      <th>0</th>\n",
       "      <td>site_name_2</td>\n",
       "      <td>9.0</td>\n",
       "      <td>13.0</td>\n",
       "      <td>5.0</td>\n",
       "      <td>21.0</td>\n",
       "      <td>48.0</td>\n",
       "    </tr>\n",
       "    <tr>\n",
       "      <th>7</th>\n",
       "      <td>is_package</td>\n",
       "      <td>4.0</td>\n",
       "      <td>7.0</td>\n",
       "      <td>4.0</td>\n",
       "      <td>36.0</td>\n",
       "      <td>51.0</td>\n",
       "    </tr>\n",
       "    <tr>\n",
       "      <th>16</th>\n",
       "      <td>cnt</td>\n",
       "      <td>15.0</td>\n",
       "      <td>18.0</td>\n",
       "      <td>16.0</td>\n",
       "      <td>13.0</td>\n",
       "      <td>62.0</td>\n",
       "    </tr>\n",
       "    <tr>\n",
       "      <th>11</th>\n",
       "      <td>srch_children_cnt</td>\n",
       "      <td>12.0</td>\n",
       "      <td>17.0</td>\n",
       "      <td>14.0</td>\n",
       "      <td>20.0</td>\n",
       "      <td>63.0</td>\n",
       "    </tr>\n",
       "    <tr>\n",
       "      <th>10</th>\n",
       "      <td>srch_adults_cnt</td>\n",
       "      <td>17.0</td>\n",
       "      <td>15.0</td>\n",
       "      <td>13.0</td>\n",
       "      <td>24.0</td>\n",
       "      <td>69.0</td>\n",
       "    </tr>\n",
       "    <tr>\n",
       "      <th>29</th>\n",
       "      <td>date_time_MoY_December</td>\n",
       "      <td>23.0</td>\n",
       "      <td>16.0</td>\n",
       "      <td>19.0</td>\n",
       "      <td>19.0</td>\n",
       "      <td>77.0</td>\n",
       "    </tr>\n",
       "    <tr>\n",
       "      <th>8</th>\n",
       "      <td>channel</td>\n",
       "      <td>25.0</td>\n",
       "      <td>31.0</td>\n",
       "      <td>20.0</td>\n",
       "      <td>2.0</td>\n",
       "      <td>78.0</td>\n",
       "    </tr>\n",
       "    <tr>\n",
       "      <th>15</th>\n",
       "      <td>is_booking</td>\n",
       "      <td>13.0</td>\n",
       "      <td>14.0</td>\n",
       "      <td>15.0</td>\n",
       "      <td>39.0</td>\n",
       "      <td>81.0</td>\n",
       "    </tr>\n",
       "    <tr>\n",
       "      <th>1</th>\n",
       "      <td>posa_continent_3</td>\n",
       "      <td>6.0</td>\n",
       "      <td>11.0</td>\n",
       "      <td>11.0</td>\n",
       "      <td>53.0</td>\n",
       "      <td>81.0</td>\n",
       "    </tr>\n",
       "    <tr>\n",
       "      <th>12</th>\n",
       "      <td>srch_rm_cnt</td>\n",
       "      <td>28.0</td>\n",
       "      <td>27.0</td>\n",
       "      <td>12.0</td>\n",
       "      <td>15.0</td>\n",
       "      <td>82.0</td>\n",
       "    </tr>\n",
       "    <tr>\n",
       "      <th>33</th>\n",
       "      <td>date_time_MoY_June</td>\n",
       "      <td>27.0</td>\n",
       "      <td>20.0</td>\n",
       "      <td>23.0</td>\n",
       "      <td>23.0</td>\n",
       "      <td>93.0</td>\n",
       "    </tr>\n",
       "    <tr>\n",
       "      <th>4</th>\n",
       "      <td>user_location_city</td>\n",
       "      <td>44.0</td>\n",
       "      <td>9.0</td>\n",
       "      <td>33.0</td>\n",
       "      <td>7.0</td>\n",
       "      <td>93.0</td>\n",
       "    </tr>\n",
       "    <tr>\n",
       "      <th>52</th>\n",
       "      <td>srch_co_DoW_Wednesday</td>\n",
       "      <td>24.0</td>\n",
       "      <td>24.0</td>\n",
       "      <td>24.0</td>\n",
       "      <td>22.0</td>\n",
       "      <td>94.0</td>\n",
       "    </tr>\n",
       "    <tr>\n",
       "      <th>31</th>\n",
       "      <td>date_time_MoY_January</td>\n",
       "      <td>21.0</td>\n",
       "      <td>34.0</td>\n",
       "      <td>18.0</td>\n",
       "      <td>35.0</td>\n",
       "      <td>108.0</td>\n",
       "    </tr>\n",
       "    <tr>\n",
       "      <th>27</th>\n",
       "      <td>date_time_MoY_April</td>\n",
       "      <td>30.0</td>\n",
       "      <td>21.0</td>\n",
       "      <td>26.0</td>\n",
       "      <td>33.0</td>\n",
       "      <td>110.0</td>\n",
       "    </tr>\n",
       "    <tr>\n",
       "      <th>20</th>\n",
       "      <td>date_time_DoW_Friday</td>\n",
       "      <td>47.0</td>\n",
       "      <td>19.0</td>\n",
       "      <td>38.0</td>\n",
       "      <td>11.0</td>\n",
       "      <td>115.0</td>\n",
       "    </tr>\n",
       "    <tr>\n",
       "      <th>46</th>\n",
       "      <td>srch_co_DoW_Friday</td>\n",
       "      <td>26.0</td>\n",
       "      <td>29.0</td>\n",
       "      <td>47.0</td>\n",
       "      <td>14.0</td>\n",
       "      <td>116.0</td>\n",
       "    </tr>\n",
       "    <tr>\n",
       "      <th>30</th>\n",
       "      <td>date_time_MoY_February</td>\n",
       "      <td>33.0</td>\n",
       "      <td>23.0</td>\n",
       "      <td>22.0</td>\n",
       "      <td>38.0</td>\n",
       "      <td>116.0</td>\n",
       "    </tr>\n",
       "    <tr>\n",
       "      <th>37</th>\n",
       "      <td>date_time_MoY_October</td>\n",
       "      <td>36.0</td>\n",
       "      <td>28.0</td>\n",
       "      <td>30.0</td>\n",
       "      <td>25.0</td>\n",
       "      <td>119.0</td>\n",
       "    </tr>\n",
       "    <tr>\n",
       "      <th>39</th>\n",
       "      <td>srch_ci_DoW_Friday</td>\n",
       "      <td>20.0</td>\n",
       "      <td>22.0</td>\n",
       "      <td>46.0</td>\n",
       "      <td>32.0</td>\n",
       "      <td>120.0</td>\n",
       "    </tr>\n",
       "    <tr>\n",
       "      <th>45</th>\n",
       "      <td>srch_ci_DoW_Wednesday</td>\n",
       "      <td>35.0</td>\n",
       "      <td>53.0</td>\n",
       "      <td>32.0</td>\n",
       "      <td>8.0</td>\n",
       "      <td>128.0</td>\n",
       "    </tr>\n",
       "    <tr>\n",
       "      <th>32</th>\n",
       "      <td>date_time_MoY_July</td>\n",
       "      <td>31.0</td>\n",
       "      <td>53.0</td>\n",
       "      <td>28.0</td>\n",
       "      <td>27.0</td>\n",
       "      <td>139.0</td>\n",
       "    </tr>\n",
       "    <tr>\n",
       "      <th>41</th>\n",
       "      <td>srch_ci_DoW_Saturday</td>\n",
       "      <td>29.0</td>\n",
       "      <td>25.0</td>\n",
       "      <td>37.0</td>\n",
       "      <td>50.0</td>\n",
       "      <td>141.0</td>\n",
       "    </tr>\n",
       "    <tr>\n",
       "      <th>6</th>\n",
       "      <td>is_mobile</td>\n",
       "      <td>18.0</td>\n",
       "      <td>53.0</td>\n",
       "      <td>25.0</td>\n",
       "      <td>46.0</td>\n",
       "      <td>142.0</td>\n",
       "    </tr>\n",
       "    <tr>\n",
       "      <th>35</th>\n",
       "      <td>date_time_MoY_May</td>\n",
       "      <td>34.0</td>\n",
       "      <td>53.0</td>\n",
       "      <td>21.0</td>\n",
       "      <td>34.0</td>\n",
       "      <td>142.0</td>\n",
       "    </tr>\n",
       "    <tr>\n",
       "      <th>49</th>\n",
       "      <td>srch_co_DoW_Sunday</td>\n",
       "      <td>14.0</td>\n",
       "      <td>53.0</td>\n",
       "      <td>42.0</td>\n",
       "      <td>37.0</td>\n",
       "      <td>146.0</td>\n",
       "    </tr>\n",
       "    <tr>\n",
       "      <th>47</th>\n",
       "      <td>srch_co_DoW_Monday</td>\n",
       "      <td>38.0</td>\n",
       "      <td>53.0</td>\n",
       "      <td>40.0</td>\n",
       "      <td>16.0</td>\n",
       "      <td>147.0</td>\n",
       "    </tr>\n",
       "    <tr>\n",
       "      <th>28</th>\n",
       "      <td>date_time_MoY_August</td>\n",
       "      <td>45.0</td>\n",
       "      <td>30.0</td>\n",
       "      <td>45.0</td>\n",
       "      <td>28.0</td>\n",
       "      <td>148.0</td>\n",
       "    </tr>\n",
       "    <tr>\n",
       "      <th>34</th>\n",
       "      <td>date_time_MoY_March</td>\n",
       "      <td>40.0</td>\n",
       "      <td>32.0</td>\n",
       "      <td>31.0</td>\n",
       "      <td>48.0</td>\n",
       "      <td>151.0</td>\n",
       "    </tr>\n",
       "    <tr>\n",
       "      <th>40</th>\n",
       "      <td>srch_ci_DoW_Monday</td>\n",
       "      <td>19.0</td>\n",
       "      <td>53.0</td>\n",
       "      <td>29.0</td>\n",
       "      <td>52.0</td>\n",
       "      <td>153.0</td>\n",
       "    </tr>\n",
       "    <tr>\n",
       "      <th>43</th>\n",
       "      <td>srch_ci_DoW_Thursday</td>\n",
       "      <td>22.0</td>\n",
       "      <td>53.0</td>\n",
       "      <td>27.0</td>\n",
       "      <td>51.0</td>\n",
       "      <td>153.0</td>\n",
       "    </tr>\n",
       "    <tr>\n",
       "      <th>44</th>\n",
       "      <td>srch_ci_DoW_Tuesday</td>\n",
       "      <td>37.0</td>\n",
       "      <td>53.0</td>\n",
       "      <td>35.0</td>\n",
       "      <td>31.0</td>\n",
       "      <td>156.0</td>\n",
       "    </tr>\n",
       "    <tr>\n",
       "      <th>25</th>\n",
       "      <td>date_time_DoW_Tuesday</td>\n",
       "      <td>53.0</td>\n",
       "      <td>26.0</td>\n",
       "      <td>53.0</td>\n",
       "      <td>26.0</td>\n",
       "      <td>158.0</td>\n",
       "    </tr>\n",
       "    <tr>\n",
       "      <th>50</th>\n",
       "      <td>srch_co_DoW_Thursday</td>\n",
       "      <td>32.0</td>\n",
       "      <td>53.0</td>\n",
       "      <td>36.0</td>\n",
       "      <td>41.0</td>\n",
       "      <td>162.0</td>\n",
       "    </tr>\n",
       "    <tr>\n",
       "      <th>26</th>\n",
       "      <td>date_time_DoW_Wednesday</td>\n",
       "      <td>48.0</td>\n",
       "      <td>35.0</td>\n",
       "      <td>49.0</td>\n",
       "      <td>30.0</td>\n",
       "      <td>162.0</td>\n",
       "    </tr>\n",
       "    <tr>\n",
       "      <th>36</th>\n",
       "      <td>date_time_MoY_November</td>\n",
       "      <td>49.0</td>\n",
       "      <td>33.0</td>\n",
       "      <td>39.0</td>\n",
       "      <td>45.0</td>\n",
       "      <td>166.0</td>\n",
       "    </tr>\n",
       "    <tr>\n",
       "      <th>38</th>\n",
       "      <td>date_time_MoY_September</td>\n",
       "      <td>43.0</td>\n",
       "      <td>53.0</td>\n",
       "      <td>34.0</td>\n",
       "      <td>40.0</td>\n",
       "      <td>170.0</td>\n",
       "    </tr>\n",
       "    <tr>\n",
       "      <th>24</th>\n",
       "      <td>date_time_DoW_Thursday</td>\n",
       "      <td>51.0</td>\n",
       "      <td>53.0</td>\n",
       "      <td>48.0</td>\n",
       "      <td>18.0</td>\n",
       "      <td>170.0</td>\n",
       "    </tr>\n",
       "    <tr>\n",
       "      <th>51</th>\n",
       "      <td>srch_co_DoW_Tuesday</td>\n",
       "      <td>42.0</td>\n",
       "      <td>53.0</td>\n",
       "      <td>51.0</td>\n",
       "      <td>29.0</td>\n",
       "      <td>175.0</td>\n",
       "    </tr>\n",
       "    <tr>\n",
       "      <th>42</th>\n",
       "      <td>srch_ci_DoW_Sunday</td>\n",
       "      <td>39.0</td>\n",
       "      <td>53.0</td>\n",
       "      <td>41.0</td>\n",
       "      <td>42.0</td>\n",
       "      <td>175.0</td>\n",
       "    </tr>\n",
       "    <tr>\n",
       "      <th>48</th>\n",
       "      <td>srch_co_DoW_Saturday</td>\n",
       "      <td>41.0</td>\n",
       "      <td>53.0</td>\n",
       "      <td>44.0</td>\n",
       "      <td>43.0</td>\n",
       "      <td>181.0</td>\n",
       "    </tr>\n",
       "    <tr>\n",
       "      <th>22</th>\n",
       "      <td>date_time_DoW_Saturday</td>\n",
       "      <td>46.0</td>\n",
       "      <td>53.0</td>\n",
       "      <td>43.0</td>\n",
       "      <td>49.0</td>\n",
       "      <td>191.0</td>\n",
       "    </tr>\n",
       "    <tr>\n",
       "      <th>21</th>\n",
       "      <td>date_time_DoW_Monday</td>\n",
       "      <td>50.0</td>\n",
       "      <td>53.0</td>\n",
       "      <td>50.0</td>\n",
       "      <td>44.0</td>\n",
       "      <td>197.0</td>\n",
       "    </tr>\n",
       "    <tr>\n",
       "      <th>23</th>\n",
       "      <td>date_time_DoW_Sunday</td>\n",
       "      <td>52.0</td>\n",
       "      <td>53.0</td>\n",
       "      <td>52.0</td>\n",
       "      <td>47.0</td>\n",
       "      <td>204.0</td>\n",
       "    </tr>\n",
       "  </tbody>\n",
       "</table>\n",
       "</div>"
      ],
      "text/plain": [
       "                         feat     f    mi  logreg  lightgbm  total\n",
       "5   orig_destination_distance   3.0   4.0     3.0       1.0   11.0\n",
       "17            hotel_continent   2.0   3.0     2.0      10.0   17.0\n",
       "18              hotel_country   1.0   5.0     1.0      12.0   19.0\n",
       "19               hotel_market   7.0   1.0     6.0       6.0   20.0\n",
       "13        srch_destination_id  10.0   2.0     7.0       4.0   23.0\n",
       "9              length_of_stay   5.0   6.0    10.0       3.0   24.0\n",
       "14   srch_destination_type_id  11.0  10.0     8.0       9.0   38.0\n",
       "2    user_location_country_66   8.0  12.0     9.0      17.0   46.0\n",
       "3                          53  16.0   8.0    17.0       5.0   46.0\n",
       "0                 site_name_2   9.0  13.0     5.0      21.0   48.0\n",
       "7                  is_package   4.0   7.0     4.0      36.0   51.0\n",
       "16                        cnt  15.0  18.0    16.0      13.0   62.0\n",
       "11          srch_children_cnt  12.0  17.0    14.0      20.0   63.0\n",
       "10            srch_adults_cnt  17.0  15.0    13.0      24.0   69.0\n",
       "29     date_time_MoY_December  23.0  16.0    19.0      19.0   77.0\n",
       "8                     channel  25.0  31.0    20.0       2.0   78.0\n",
       "15                 is_booking  13.0  14.0    15.0      39.0   81.0\n",
       "1            posa_continent_3   6.0  11.0    11.0      53.0   81.0\n",
       "12                srch_rm_cnt  28.0  27.0    12.0      15.0   82.0\n",
       "33         date_time_MoY_June  27.0  20.0    23.0      23.0   93.0\n",
       "4          user_location_city  44.0   9.0    33.0       7.0   93.0\n",
       "52      srch_co_DoW_Wednesday  24.0  24.0    24.0      22.0   94.0\n",
       "31      date_time_MoY_January  21.0  34.0    18.0      35.0  108.0\n",
       "27        date_time_MoY_April  30.0  21.0    26.0      33.0  110.0\n",
       "20       date_time_DoW_Friday  47.0  19.0    38.0      11.0  115.0\n",
       "46         srch_co_DoW_Friday  26.0  29.0    47.0      14.0  116.0\n",
       "30     date_time_MoY_February  33.0  23.0    22.0      38.0  116.0\n",
       "37      date_time_MoY_October  36.0  28.0    30.0      25.0  119.0\n",
       "39         srch_ci_DoW_Friday  20.0  22.0    46.0      32.0  120.0\n",
       "45      srch_ci_DoW_Wednesday  35.0  53.0    32.0       8.0  128.0\n",
       "32         date_time_MoY_July  31.0  53.0    28.0      27.0  139.0\n",
       "41       srch_ci_DoW_Saturday  29.0  25.0    37.0      50.0  141.0\n",
       "6                   is_mobile  18.0  53.0    25.0      46.0  142.0\n",
       "35          date_time_MoY_May  34.0  53.0    21.0      34.0  142.0\n",
       "49         srch_co_DoW_Sunday  14.0  53.0    42.0      37.0  146.0\n",
       "47         srch_co_DoW_Monday  38.0  53.0    40.0      16.0  147.0\n",
       "28       date_time_MoY_August  45.0  30.0    45.0      28.0  148.0\n",
       "34        date_time_MoY_March  40.0  32.0    31.0      48.0  151.0\n",
       "40         srch_ci_DoW_Monday  19.0  53.0    29.0      52.0  153.0\n",
       "43       srch_ci_DoW_Thursday  22.0  53.0    27.0      51.0  153.0\n",
       "44        srch_ci_DoW_Tuesday  37.0  53.0    35.0      31.0  156.0\n",
       "25      date_time_DoW_Tuesday  53.0  26.0    53.0      26.0  158.0\n",
       "50       srch_co_DoW_Thursday  32.0  53.0    36.0      41.0  162.0\n",
       "26    date_time_DoW_Wednesday  48.0  35.0    49.0      30.0  162.0\n",
       "36     date_time_MoY_November  49.0  33.0    39.0      45.0  166.0\n",
       "38    date_time_MoY_September  43.0  53.0    34.0      40.0  170.0\n",
       "24     date_time_DoW_Thursday  51.0  53.0    48.0      18.0  170.0\n",
       "51        srch_co_DoW_Tuesday  42.0  53.0    51.0      29.0  175.0\n",
       "42         srch_ci_DoW_Sunday  39.0  53.0    41.0      42.0  175.0\n",
       "48       srch_co_DoW_Saturday  41.0  53.0    44.0      43.0  181.0\n",
       "22     date_time_DoW_Saturday  46.0  53.0    43.0      49.0  191.0\n",
       "21       date_time_DoW_Monday  50.0  53.0    50.0      44.0  197.0\n",
       "23       date_time_DoW_Sunday  52.0  53.0    52.0      47.0  204.0"
      ]
     },
     "execution_count": 40,
     "metadata": {},
     "output_type": "execute_result"
    }
   ],
   "source": [
    "# Sum the rankings across methods\n",
    "ranking['total'] = ranking.sum(axis=1)\n",
    "# Sort by sum to get an overall idea of the most/least useful features\n",
    "ranking.sort_values('total')"
   ]
  },
  {
   "cell_type": "code",
   "execution_count": 41,
   "id": "a64c52f6-ab57-426b-a709-8baf95a97c59",
   "metadata": {},
   "outputs": [],
   "source": [
    "# Get the highest ranked Features\n",
    "hiRank = ranking[ranking['total'] <= 110].sort_values('total')"
   ]
  },
  {
   "cell_type": "code",
   "execution_count": 42,
   "id": "0636a274-9929-42ec-ad29-e433c14bdb53",
   "metadata": {},
   "outputs": [],
   "source": [
    "# Get a list of the highest ranked features\n",
    "hiRankList = hiRank['feat'].tolist()\n",
    "# Fix that weird 53 that popped up in there\n",
    "hiRankList = np.array(hiRankList)\n",
    "hiRankList = np.where(hiRankList == '53', 'user_location_region', hiRankList)\n",
    "# Convert array back to list\n",
    "hiRankList = hiRankList.tolist()"
   ]
  },
  {
   "cell_type": "code",
   "execution_count": 43,
   "id": "c0c5592b-d997-4fe9-86e3-21a13d202401",
   "metadata": {},
   "outputs": [
    {
     "data": {
      "text/plain": [
       "['site_name_2',\n",
       " 'srch_destination_type_id',\n",
       " 'orig_destination_distance',\n",
       " 'date_time_MoY_December',\n",
       " 'srch_destination_id',\n",
       " 'srch_children_cnt',\n",
       " 'srch_adults_cnt',\n",
       " 'is_package',\n",
       " 'user_location_country_66',\n",
       " 'length_of_stay',\n",
       " 'srch_ci_DoW_Monday',\n",
       " 'is_booking',\n",
       " 'user_location_region',\n",
       " 'is_mobile',\n",
       " 'hotel_continent',\n",
       " 'hotel_market',\n",
       " 'hotel_country',\n",
       " 'cnt',\n",
       " 'srch_co_DoW_Sunday',\n",
       " 'srch_ci_DoW_Wednesday']"
      ]
     },
     "execution_count": 43,
     "metadata": {},
     "output_type": "execute_result"
    }
   ],
   "source": [
    "# Combine top 15 from correlation and features into one list of columns\n",
    "combined = list(set(hiCorrList[:15]).union(set(hiRankList[:15])))\n",
    "combined"
   ]
  },
  {
   "cell_type": "markdown",
   "id": "5af82998-0716-42d2-be48-38eb74f2b265",
   "metadata": {},
   "source": [
    "Run modeling using dataframes with high feature rank, high correlation, and a mix of both:"
   ]
  },
  {
   "cell_type": "code",
   "execution_count": 44,
   "id": "ea10a202-1d65-4c05-adac-69ca3e57e9b1",
   "metadata": {},
   "outputs": [],
   "source": [
    "# Create a dataframe for use in modeling\n",
    "# modelDF = ranDF[combined]\n",
    "modelDF = ranDF[hiRankList]\n",
    "# modelDF = ranDF[hiCorrList]"
   ]
  },
  {
   "cell_type": "code",
   "execution_count": 45,
   "id": "780d7d92-6002-421a-bd39-2dae294b768c",
   "metadata": {},
   "outputs": [],
   "source": [
    "# Save data\n",
    "modelDF.to_csv('modelDF100k.csv', index=False)"
   ]
  },
  {
   "cell_type": "code",
   "execution_count": 8,
   "id": "31de53d7-b4ae-4822-bf29-66f5869e9f41",
   "metadata": {},
   "outputs": [],
   "source": [
    "# load saved data\n",
    "modelDF = pd.read_csv('modelDF100k.csv')\n",
    "ranDF = pd.read_csv('ranDF.csv')"
   ]
  },
  {
   "cell_type": "markdown",
   "id": "b26abba4-6cbe-4807-a68f-406c28b1f4ae",
   "metadata": {
    "tags": []
   },
   "source": [
    "### Split train / test data"
   ]
  },
  {
   "cell_type": "code",
   "execution_count": 9,
   "id": "6e5d032c-2cd8-49e6-ad27-7e097e3f2a6c",
   "metadata": {},
   "outputs": [],
   "source": [
    "# Set up features target sets\n",
    "X = modelDF # check back for hicorr?\n",
    "y = ranDF.hotel_cluster\n",
    "\n",
    "# Split the data\n",
    "X_train, X_test, y_train, y_test = train_test_split(X, y, test_size =0.3, \n",
    "                                                    random_state=42)\n",
    "\n",
    "# Standardize Features\n",
    "scaler = StandardScaler()\n",
    "X_train = scaler.fit_transform(X_train) \n",
    "X_test  = scaler.transform(X_test)"
   ]
  },
  {
   "cell_type": "code",
   "execution_count": null,
   "id": "f90c4773-62f3-405b-a403-02ab2321d263",
   "metadata": {},
   "outputs": [],
   "source": []
  },
  {
   "cell_type": "markdown",
   "id": "538e04c7-adc9-488e-8352-687a64062330",
   "metadata": {
    "tags": []
   },
   "source": [
    "### Build Baseline Prediction Models"
   ]
  },
  {
   "cell_type": "code",
   "execution_count": 47,
   "id": "b64b0f36-e729-4295-9e97-dffe98bed114",
   "metadata": {},
   "outputs": [],
   "source": [
    "# Set up dictionary for model results\n",
    "models_dict = {}"
   ]
  },
  {
   "cell_type": "markdown",
   "id": "79b10cf2-3912-4af7-90dd-45104bed492c",
   "metadata": {},
   "source": [
    "#### Logistic Regression"
   ]
  },
  {
   "cell_type": "code",
   "execution_count": 48,
   "id": "aa60c44d-71f4-48ab-ac73-c5c0d010a63c",
   "metadata": {},
   "outputs": [],
   "source": [
    "# Load libraries\n",
    "from sklearn.linear_model import LogisticRegression\n",
    "\n",
    "# Create classification model\n",
    "logistic = LogisticRegression(random_state=42, \n",
    "                              n_jobs=-1)"
   ]
  },
  {
   "cell_type": "code",
   "execution_count": 49,
   "id": "3f35827e-f519-457c-9f49-034e772d9a3d",
   "metadata": {},
   "outputs": [
    {
     "name": "stdout",
     "output_type": "stream",
     "text": [
      "Wall time: 18.2 s\n"
     ]
    }
   ],
   "source": [
    "%%time\n",
    "# Fit model\n",
    "models_dict['Logistic'] = logistic.fit(X_train, y_train)"
   ]
  },
  {
   "cell_type": "markdown",
   "id": "48019de1-9b71-4e70-8bd7-bd7a6cb3ee48",
   "metadata": {},
   "source": [
    "#### Random Forest"
   ]
  },
  {
   "cell_type": "code",
   "execution_count": 50,
   "id": "0efbe25e-215c-47b1-81dc-c4349dbf55a5",
   "metadata": {},
   "outputs": [],
   "source": [
    "# Load libraries\n",
    "from sklearn.ensemble import RandomForestClassifier\n",
    "\n",
    "# Create classification model\n",
    "rfclassifier = RandomForestClassifier(random_state=42,\n",
    "                                      n_jobs=-1)"
   ]
  },
  {
   "cell_type": "code",
   "execution_count": 51,
   "id": "0d6d34f0-252b-4a08-a8bb-e6102ed513e0",
   "metadata": {},
   "outputs": [
    {
     "name": "stdout",
     "output_type": "stream",
     "text": [
      "Wall time: 5.2 s\n"
     ]
    }
   ],
   "source": [
    "%%time\n",
    "# Fit model\n",
    "models_dict['RandomForest'] = rfclassifier.fit(X_train, y_train)"
   ]
  },
  {
   "cell_type": "markdown",
   "id": "4fca5f76-c8f8-4c20-8f50-d81fe498f646",
   "metadata": {},
   "source": [
    "#### Decision Tree"
   ]
  },
  {
   "cell_type": "code",
   "execution_count": 52,
   "id": "203c35f2-3708-45f8-95e3-69c7e1f2c625",
   "metadata": {},
   "outputs": [],
   "source": [
    "# Load libraries\n",
    "from sklearn.tree import DecisionTreeClassifier\n",
    "\n",
    "# Create classification model\n",
    "decisiontree = DecisionTreeClassifier(random_state=42, \n",
    "                                      class_weight='balanced')"
   ]
  },
  {
   "cell_type": "code",
   "execution_count": 53,
   "id": "48679dee-ba34-48b0-b4e1-052f7ffcc1fe",
   "metadata": {},
   "outputs": [
    {
     "name": "stdout",
     "output_type": "stream",
     "text": [
      "Wall time: 1.67 s\n"
     ]
    }
   ],
   "source": [
    "%%time\n",
    "# Fit model\n",
    "models_dict['DecisionTree'] = decisiontree.fit(X_train, y_train)"
   ]
  },
  {
   "cell_type": "markdown",
   "id": "7a222a77-12b7-449b-abaf-7b2e52674ccc",
   "metadata": {},
   "source": [
    "#### AdaBoost"
   ]
  },
  {
   "cell_type": "code",
   "execution_count": 54,
   "id": "0420d85d-fe6b-4bc2-aa41-2b1f5f2e9394",
   "metadata": {},
   "outputs": [],
   "source": [
    "# Load libraries\n",
    "from sklearn.ensemble import AdaBoostClassifier\n",
    "\n",
    "# Create classification model\n",
    "adaboost = AdaBoostClassifier(random_state=42)"
   ]
  },
  {
   "cell_type": "code",
   "execution_count": 55,
   "id": "db866bff-4bb8-4192-a719-e2cce391be64",
   "metadata": {},
   "outputs": [
    {
     "name": "stdout",
     "output_type": "stream",
     "text": [
      "Wall time: 8.79 s\n"
     ]
    }
   ],
   "source": [
    "%%time\n",
    "# Fit model\n",
    "models_dict['AdaBoost'] = adaboost.fit(X_train, y_train)"
   ]
  },
  {
   "cell_type": "markdown",
   "id": "a6697f0e-c521-4144-a1ef-12b1db3490d5",
   "metadata": {},
   "source": [
    "#### Support Vector Classifier (SVC)"
   ]
  },
  {
   "cell_type": "code",
   "execution_count": 56,
   "id": "07ccb2b5-9e25-464d-beec-d65328303160",
   "metadata": {},
   "outputs": [],
   "source": [
    "# Load libraries\n",
    "from sklearn.svm import SVC\n",
    "\n",
    "# Create classification model\n",
    "svc = SVC(random_state=42)"
   ]
  },
  {
   "cell_type": "code",
   "execution_count": 57,
   "id": "51440a8e-9a44-41e8-ba1c-15fbac38d9a0",
   "metadata": {},
   "outputs": [
    {
     "name": "stdout",
     "output_type": "stream",
     "text": [
      "Wall time: 2min 16s\n"
     ]
    }
   ],
   "source": [
    "%%time\n",
    "# Fit model\n",
    "models_dict['SVC'] = svc.fit(X_train, y_train)"
   ]
  },
  {
   "cell_type": "markdown",
   "id": "ba358553-915f-4fe9-ade4-22fc4454be64",
   "metadata": {},
   "source": [
    "#### Gaussian Naive Bayes Classifier"
   ]
  },
  {
   "cell_type": "code",
   "execution_count": 58,
   "id": "4ba87300-b608-4767-b137-17fce5381e51",
   "metadata": {},
   "outputs": [],
   "source": [
    "# Load libraries\n",
    "from sklearn.naive_bayes import GaussianNB\n",
    "\n",
    "# Create Gaussian naive Bayes object\n",
    "nBayes = GaussianNB()"
   ]
  },
  {
   "cell_type": "code",
   "execution_count": 59,
   "id": "e8cef3f1-27b4-4823-baa8-ca749ab9f4f9",
   "metadata": {},
   "outputs": [
    {
     "name": "stdout",
     "output_type": "stream",
     "text": [
      "Wall time: 71.4 ms\n"
     ]
    }
   ],
   "source": [
    "%%time\n",
    "# Fit model\n",
    "models_dict['GaussianNB'] = nBayes.fit(X_train, y_train)"
   ]
  },
  {
   "cell_type": "markdown",
   "id": "7adcb3b1-1265-4e92-a070-42a0fd0324af",
   "metadata": {},
   "source": [
    "#### MLPCClassifier"
   ]
  },
  {
   "cell_type": "code",
   "execution_count": 60,
   "id": "3c011b70-fc3b-458e-99c9-c6b06d589f83",
   "metadata": {},
   "outputs": [],
   "source": [
    "# Load libraries\n",
    "from sklearn.neural_network import MLPClassifier\n",
    "\n",
    "# Create classification model\n",
    "mlp = MLPClassifier()"
   ]
  },
  {
   "cell_type": "code",
   "execution_count": 61,
   "id": "38bf9476-0738-486a-a793-c2200bc47cf0",
   "metadata": {},
   "outputs": [
    {
     "name": "stdout",
     "output_type": "stream",
     "text": [
      "Wall time: 1min 49s\n"
     ]
    },
    {
     "name": "stderr",
     "output_type": "stream",
     "text": [
      "C:\\ProgramData\\Anaconda3\\lib\\site-packages\\sklearn\\neural_network\\_multilayer_perceptron.py:614: ConvergenceWarning: Stochastic Optimizer: Maximum iterations (200) reached and the optimization hasn't converged yet.\n",
      "  warnings.warn(\n"
     ]
    }
   ],
   "source": [
    "%%time\n",
    "# Fit model\n",
    "models_dict['MLP'] = mlp.fit(X_train, y_train)"
   ]
  },
  {
   "cell_type": "code",
   "execution_count": null,
   "id": "55f5d2f2-55b2-4ae5-bca7-bec7af760cb7",
   "metadata": {},
   "outputs": [],
   "source": []
  },
  {
   "cell_type": "markdown",
   "id": "cc835814-81bf-47ab-991b-cbe51f8bda9a",
   "metadata": {},
   "source": [
    "#### Compare Accuracies"
   ]
  },
  {
   "cell_type": "code",
   "execution_count": 62,
   "id": "3263c6fb-5057-40a9-b413-fe64428c4ab5",
   "metadata": {},
   "outputs": [
    {
     "name": "stdout",
     "output_type": "stream",
     "text": [
      "Wall time: 3min 16s\n"
     ]
    },
    {
     "data": {
      "text/html": [
       "<div>\n",
       "<style scoped>\n",
       "    .dataframe tbody tr th:only-of-type {\n",
       "        vertical-align: middle;\n",
       "    }\n",
       "\n",
       "    .dataframe tbody tr th {\n",
       "        vertical-align: top;\n",
       "    }\n",
       "\n",
       "    .dataframe thead th {\n",
       "        text-align: right;\n",
       "    }\n",
       "</style>\n",
       "<table border=\"1\" class=\"dataframe\">\n",
       "  <thead>\n",
       "    <tr style=\"text-align: right;\">\n",
       "      <th></th>\n",
       "      <th>Model</th>\n",
       "      <th>Accuracy</th>\n",
       "    </tr>\n",
       "  </thead>\n",
       "  <tbody>\n",
       "    <tr>\n",
       "      <th>1</th>\n",
       "      <td>RandomForest</td>\n",
       "      <td>9.35</td>\n",
       "    </tr>\n",
       "    <tr>\n",
       "      <th>6</th>\n",
       "      <td>MLP</td>\n",
       "      <td>8.43</td>\n",
       "    </tr>\n",
       "    <tr>\n",
       "      <th>4</th>\n",
       "      <td>SVC</td>\n",
       "      <td>7.91</td>\n",
       "    </tr>\n",
       "    <tr>\n",
       "      <th>2</th>\n",
       "      <td>DecisionTree</td>\n",
       "      <td>7.63</td>\n",
       "    </tr>\n",
       "    <tr>\n",
       "      <th>0</th>\n",
       "      <td>Logistic</td>\n",
       "      <td>7.27</td>\n",
       "    </tr>\n",
       "    <tr>\n",
       "      <th>3</th>\n",
       "      <td>AdaBoost</td>\n",
       "      <td>4.91</td>\n",
       "    </tr>\n",
       "    <tr>\n",
       "      <th>5</th>\n",
       "      <td>GaussianNB</td>\n",
       "      <td>4.77</td>\n",
       "    </tr>\n",
       "  </tbody>\n",
       "</table>\n",
       "</div>"
      ],
      "text/plain": [
       "          Model  Accuracy\n",
       "1  RandomForest      9.35\n",
       "6           MLP      8.43\n",
       "4           SVC      7.91\n",
       "2  DecisionTree      7.63\n",
       "0      Logistic      7.27\n",
       "3      AdaBoost      4.91\n",
       "5    GaussianNB      4.77"
      ]
     },
     "execution_count": 62,
     "metadata": {},
     "output_type": "execute_result"
    }
   ],
   "source": [
    "%%time\n",
    "# Create lists of models and accuracy scores\n",
    "modelName = []\n",
    "score = []\n",
    "for key in models_dict:\n",
    "    modelName += [key]\n",
    "    model = models_dict[key]\n",
    "    value = model.score(X_test, y_test)*100\n",
    "    score += [round(value, 2)]\n",
    "\n",
    "# Create DataFrame of results\n",
    "d = {'Model': modelName, 'Accuracy': score}\n",
    "results = pd.DataFrame(d).sort_values(by=['Accuracy'], ascending=False)\n",
    "results"
   ]
  },
  {
   "cell_type": "markdown",
   "id": "82d96fde-cc22-4fa4-9bb3-8f62e6b30a75",
   "metadata": {},
   "source": [
    "The Decision Tree model performed best with highly correlated variables, all others performed as good or better with highly ranked features, with the mix landing in-between."
   ]
  },
  {
   "cell_type": "code",
   "execution_count": null,
   "id": "21647813-f77c-4db0-878e-e5e178b143d3",
   "metadata": {
    "tags": []
   },
   "outputs": [],
   "source": []
  },
  {
   "cell_type": "markdown",
   "id": "93297e5a-f063-49d8-aae3-362ea1bcfd8d",
   "metadata": {},
   "source": [
    "## Hyperparameter tuning"
   ]
  },
  {
   "cell_type": "code",
   "execution_count": 44,
   "id": "201f8718-fa0a-4461-a3c4-803c24a524a8",
   "metadata": {},
   "outputs": [],
   "source": [
    "# Load libraries\n",
    "from sklearn.model_selection import train_test_split\n",
    "from sklearn.preprocessing import StandardScaler\n",
    "from sklearn.model_selection import GridSearchCV, RandomizedSearchCV"
   ]
  },
  {
   "cell_type": "code",
   "execution_count": 45,
   "id": "1fbeebce-1bc5-40cb-8b9b-fd49a82fc864",
   "metadata": {},
   "outputs": [],
   "source": [
    "# Set up dictionary for model results\n",
    "models_dict = {}"
   ]
  },
  {
   "cell_type": "markdown",
   "id": "0f76de1c-cfff-466a-877f-35c5f960594b",
   "metadata": {},
   "source": [
    "The following were tuned using initial random sample of 100,000 records:"
   ]
  },
  {
   "cell_type": "markdown",
   "id": "22b7ae8d-7019-43e0-ac68-41be2a34420b",
   "metadata": {},
   "source": [
    "#### Gaussian Naive Bayes Classifier"
   ]
  },
  {
   "cell_type": "code",
   "execution_count": 55,
   "id": "a26a3301-135e-4b2d-acde-356a77688e97",
   "metadata": {},
   "outputs": [],
   "source": [
    "# Load libraries\n",
    "from sklearn.naive_bayes import GaussianNB\n",
    "\n",
    "# Create Gaussian naive Bayes object\n",
    "nBayes = GaussianNB()\n",
    "\n",
    "# Get a baseline model\n",
    "baseline = nBayes.fit(X_train, y_train)\n",
    "\n",
    "# Create range of candidate hyperparameter values\n",
    "parameter_space = {\n",
    "    'var_smoothing': np.logspace(-10, -1, 10),\n",
    "}\n",
    "grid = GridSearchCV(nBayes, parameter_space, n_jobs=-1, cv=5)"
   ]
  },
  {
   "cell_type": "code",
   "execution_count": 56,
   "id": "ff5ba7ee-93c2-4df7-a31d-1dcfd60296d3",
   "metadata": {},
   "outputs": [
    {
     "name": "stdout",
     "output_type": "stream",
     "text": [
      "Wall time: 12.9 s\n"
     ]
    }
   ],
   "source": [
    "%%time\n",
    "# Fit models\n",
    "grid_result = grid.fit(X_train, y_train)"
   ]
  },
  {
   "cell_type": "code",
   "execution_count": 57,
   "id": "6dd12914-307c-468e-be8b-739e9b851275",
   "metadata": {},
   "outputs": [
    {
     "name": "stdout",
     "output_type": "stream",
     "text": [
      "Best parameters found:\n",
      " {'var_smoothing': 0.1} \n",
      "\n",
      "Baseline Accuracy:\t4.89\n",
      "Tuned Accuracy:\t\t5.85\n"
     ]
    }
   ],
   "source": [
    "# Show best parameters\n",
    "print('Best parameters found:\\n', grid_result.best_params_, '\\n')\n",
    "# Get accuracy scores\n",
    "baseScore = round(baseline.score(X_test, y_test)*100, 2)\n",
    "score = round(grid_result.score(X_test, y_test)*100, 2)\n",
    "print(f\"Baseline Accuracy:\\t{baseScore}\")\n",
    "print(f\"Tuned Accuracy:\\t\\t{score}\")"
   ]
  },
  {
   "cell_type": "markdown",
   "id": "6660f4a5-a767-4399-9492-f3df575b03fc",
   "metadata": {},
   "source": [
    "#### Decision Tree"
   ]
  },
  {
   "cell_type": "code",
   "execution_count": 58,
   "id": "c80f3f16-f093-483f-90fa-ca883cdc2ee1",
   "metadata": {},
   "outputs": [],
   "source": [
    "# Load libraries\n",
    "from sklearn.tree import DecisionTreeClassifier\n",
    "\n",
    "# Create decision tree regressor object\n",
    "decisiontree = DecisionTreeClassifier(random_state=42)\n",
    "\n",
    "# Get a baseline model\n",
    "baseline = decisiontree.fit(X_train, y_train)\n",
    "\n",
    "# Create range of candidate penalty hyperparameter values\n",
    "parameter_space = {\n",
    "    'criterion': ['gini', 'entropy'], \n",
    "    'splitter': ['best', 'random'],\n",
    "    'max_depth': [None, 5, 8, 10],\n",
    "    'min_samples_split': [2, 4, 8],\n",
    "    'min_samples_leaf': [1, 2, 4],\n",
    "    'max_leaf_nodes': [30, 100, 300, 1000, None],\n",
    "    'class_weight': ['balanced', None],\n",
    "    'max_features': ['sqrt', 'log2', None], \n",
    "}\n",
    "grid = GridSearchCV(decisiontree, parameter_space, verbose=2, n_jobs=-1, cv=5)"
   ]
  },
  {
   "cell_type": "code",
   "execution_count": 59,
   "id": "0345a3f1-467c-475e-bcc5-3db4c8b090be",
   "metadata": {},
   "outputs": [
    {
     "name": "stdout",
     "output_type": "stream",
     "text": [
      "Fitting 5 folds for each of 4320 candidates, totalling 21600 fits\n",
      "Wall time: 30min 48s\n"
     ]
    }
   ],
   "source": [
    "%%time\n",
    "# Fit models\n",
    "grid_result = grid.fit(X_train, y_train)"
   ]
  },
  {
   "cell_type": "code",
   "execution_count": 60,
   "id": "e210c9cf-f552-47d4-91a9-64ce2fba3108",
   "metadata": {},
   "outputs": [
    {
     "name": "stdout",
     "output_type": "stream",
     "text": [
      "Best parameters found:\n",
      " {'class_weight': None, 'criterion': 'entropy', 'max_depth': None, 'max_features': None, 'max_leaf_nodes': 300, 'min_samples_leaf': 1, 'min_samples_split': 2, 'splitter': 'best'} \n",
      "\n",
      "Baseline Accuracy:\t7.86\n",
      "Tuned Accuracy:\t\t12.9\n"
     ]
    }
   ],
   "source": [
    "# Show best parameters\n",
    "print('Best parameters found:\\n', grid_result.best_params_, '\\n')\n",
    "# Get accuracy scores\n",
    "baseScore = round(baseline.score(X_test, y_test)*100, 2)\n",
    "score = round(grid_result.score(X_test, y_test)*100, 2)\n",
    "print(f\"Baseline Accuracy:\\t{baseScore}\")\n",
    "print(f\"Tuned Accuracy:\\t\\t{score}\")"
   ]
  },
  {
   "cell_type": "markdown",
   "id": "bc65ca43-01c5-42e0-a3c7-c6fde53c42d3",
   "metadata": {},
   "source": [
    "#### AdaBoost"
   ]
  },
  {
   "cell_type": "code",
   "execution_count": 61,
   "id": "a46446d5-b36a-492e-857c-023a6f362286",
   "metadata": {},
   "outputs": [],
   "source": [
    "# Load libraries\n",
    "from sklearn.ensemble import AdaBoostClassifier\n",
    "\n",
    "# Create classifier\n",
    "adaboost = AdaBoostClassifier(random_state=42)\n",
    "\n",
    "# Get a baseline model\n",
    "baseline = adaboost.fit(X_train, y_train)\n",
    "\n",
    "# Create range of candidate penalty hyperparameter values\n",
    "parameter_space = {\n",
    "    'n_estimators': [100, 300, 1000, 3000], \n",
    "    'learning_rate': [0.1, 1, 10],\n",
    "    'algorithm': ['SAMME', 'SAMME.R'], \n",
    "}\n",
    "grid = GridSearchCV(adaboost, parameter_space, n_jobs=-1, cv=5)"
   ]
  },
  {
   "cell_type": "code",
   "execution_count": 62,
   "id": "1efc24a9-19f2-4aa5-9724-30a2624bbab4",
   "metadata": {},
   "outputs": [
    {
     "name": "stdout",
     "output_type": "stream",
     "text": [
      "Wall time: 1h 42min 59s\n"
     ]
    }
   ],
   "source": [
    "%%time\n",
    "# Fit models\n",
    "grid_result = grid.fit(X_train, y_train)"
   ]
  },
  {
   "cell_type": "code",
   "execution_count": 63,
   "id": "78372e1e-ab83-45ec-823e-6e96f4498aed",
   "metadata": {},
   "outputs": [
    {
     "name": "stdout",
     "output_type": "stream",
     "text": [
      "Best parameters found:\n",
      " {'algorithm': 'SAMME', 'learning_rate': 1, 'n_estimators': 1000} \n",
      "\n",
      "Baseline Accuracy:\t4.91\n",
      "Tuned Accuracy:\t\t6.1\n"
     ]
    }
   ],
   "source": [
    "# Show best parameters\n",
    "print('Best parameters found:\\n', grid_result.best_params_, '\\n')\n",
    "# Get accuracy scores\n",
    "baseScore = round(baseline.score(X_test, y_test)*100, 2)\n",
    "score = round(grid_result.score(X_test, y_test)*100, 2)\n",
    "print(f\"Baseline Accuracy:\\t{baseScore}\")\n",
    "print(f\"Tuned Accuracy:\\t\\t{score}\")"
   ]
  },
  {
   "cell_type": "markdown",
   "id": "f6368008-8b34-438e-ba9c-afa9ebc0ad77",
   "metadata": {},
   "source": [
    "Due to limited time, the following were tuned using initial random sample of 10,000 records:"
   ]
  },
  {
   "cell_type": "markdown",
   "id": "d8dd0187-231f-4524-b204-77639542b20c",
   "metadata": {},
   "source": [
    "#### Random Forest"
   ]
  },
  {
   "cell_type": "code",
   "execution_count": 46,
   "id": "767ed8a9-3824-448b-868c-870a817e2a34",
   "metadata": {},
   "outputs": [],
   "source": [
    "# Load libraries\n",
    "from sklearn.ensemble import RandomForestClassifier\n",
    "\n",
    "# Create classifier\n",
    "rfc = RandomForestClassifier(random_state=42,\n",
    "                             n_jobs=-1)\n",
    "\n",
    "# Get a baseline model\n",
    "baseline = rfc.fit(X_train, y_train)\n",
    "\n",
    "# Create range of candidate penalty hyperparameter values\n",
    "parameter_space = {\n",
    "    'n_estimators': [30, 100, 300, 1000], \n",
    "    'criterion': ['gini', 'entropy'], \n",
    "    'max_features': ['sqrt', 'log2', None], \n",
    "}\n",
    "grid = GridSearchCV(rfc, parameter_space, n_jobs=-1, cv=5)"
   ]
  },
  {
   "cell_type": "code",
   "execution_count": 47,
   "id": "340079b3-42e2-469a-9c4a-a199138c104f",
   "metadata": {},
   "outputs": [
    {
     "name": "stdout",
     "output_type": "stream",
     "text": [
      "Wall time: 15min 4s\n"
     ]
    }
   ],
   "source": [
    "%%time\n",
    "# Fit models\n",
    "grid_result = grid.fit(X_train, y_train)"
   ]
  },
  {
   "cell_type": "code",
   "execution_count": 48,
   "id": "5dd533bc-0c27-41ac-b606-89fb1a37f5f0",
   "metadata": {},
   "outputs": [
    {
     "name": "stdout",
     "output_type": "stream",
     "text": [
      "Best parameters found:\n",
      " {'criterion': 'entropy', 'max_features': None, 'n_estimators': 1000} \n",
      "\n",
      "Baseline Accuracy:\t6.99\n",
      "Tuned Accuracy:\t\t7.41\n"
     ]
    }
   ],
   "source": [
    "# Show best parameters\n",
    "print('Best parameters found:\\n', grid_result.best_params_, '\\n')\n",
    "# Get accuracy scores\n",
    "baseScore = round(baseline.score(X_test, y_test)*100, 2)\n",
    "score = round(grid_result.score(X_test, y_test)*100, 2)\n",
    "print(f\"Baseline Accuracy:\\t{baseScore}\")\n",
    "print(f\"Tuned Accuracy:\\t\\t{score}\")"
   ]
  },
  {
   "cell_type": "markdown",
   "id": "6e630ae2-b60c-4f16-8903-8cf922aa197e",
   "metadata": {},
   "source": [
    "#### Linear Regression"
   ]
  },
  {
   "cell_type": "code",
   "execution_count": 50,
   "id": "d768fdd3-49e2-4688-a44c-f1f923474f4a",
   "metadata": {},
   "outputs": [],
   "source": [
    "# Load libraries\n",
    "from sklearn.linear_model import LogisticRegression\n",
    "\n",
    "# Create logistic regression\n",
    "logistic = LogisticRegression(random_state=42, \n",
    "                              max_iter=300, \n",
    "                              multi_class='auto',\n",
    "                              n_jobs=-1)\n",
    "\n",
    "# Get a baseline model\n",
    "baseline = logistic.fit(X_train, y_train)\n",
    "\n",
    "# Create range of candidate penalty hyperparameter values\n",
    "parameter_space = {\n",
    "    'penalty': ['l1', 'l2', 'elasticnet', 'none'], \n",
    "    'tol': [1e-2, 1e-3, 1e-4],\n",
    "    'C': np.logspace(0, 2, 3), \n",
    "    'solver': ['newton-cg', 'lbfgs', 'liblinear', 'sag', 'saga'], \n",
    "}\n",
    "grid = GridSearchCV(logistic, parameter_space, n_jobs=-1, cv=5)"
   ]
  },
  {
   "cell_type": "code",
   "execution_count": 51,
   "id": "29474af8-98d4-4c23-9dd6-1390068557db",
   "metadata": {},
   "outputs": [
    {
     "name": "stderr",
     "output_type": "stream",
     "text": [
      "C:\\ProgramData\\Anaconda3\\lib\\site-packages\\sklearn\\model_selection\\_search.py:922: UserWarning: One or more of the test scores are non-finite: [       nan        nan        nan        nan        nan        nan\n",
      " 0.06689038 0.06689038 0.06689038        nan        nan        nan\n",
      " 0.06375839 0.0639821  0.06353468 0.0639821  0.0639821  0.0639821\n",
      " 0.0639821  0.0639821  0.0639821  0.06465324 0.06510067 0.06510067\n",
      " 0.06308725 0.06375839 0.0639821  0.06219239 0.06375839 0.0639821\n",
      "        nan        nan        nan        nan        nan        nan\n",
      "        nan        nan        nan        nan        nan        nan\n",
      "        nan        nan        nan 0.06152125 0.06152125 0.06152125\n",
      " 0.06152125 0.06152125 0.06152125        nan        nan        nan\n",
      " 0.06331096 0.06174497 0.06174497 0.06420582 0.06174497 0.06196868\n",
      "        nan        nan        nan        nan        nan        nan\n",
      " 0.06263982 0.06263982 0.06308725        nan        nan        nan\n",
      " 0.06375839 0.06286353 0.06263982 0.06196868 0.06196868 0.06196868\n",
      " 0.06196868 0.06174497 0.06174497 0.06286353 0.06286353 0.06286353\n",
      " 0.06308725 0.06219239 0.06219239 0.0639821  0.06219239 0.06219239\n",
      "        nan        nan        nan        nan        nan        nan\n",
      "        nan        nan        nan        nan        nan        nan\n",
      "        nan        nan        nan 0.06152125 0.06152125 0.06152125\n",
      " 0.06152125 0.06152125 0.06152125        nan        nan        nan\n",
      " 0.06331096 0.06174497 0.06174497 0.06420582 0.06174497 0.06196868\n",
      "        nan        nan        nan        nan        nan        nan\n",
      " 0.06331096 0.06331096 0.06331096        nan        nan        nan\n",
      " 0.06442953 0.06196868 0.06196868 0.06174497 0.06174497 0.06174497\n",
      " 0.06174497 0.06174497 0.06174497 0.06286353 0.06286353 0.06286353\n",
      " 0.06331096 0.06219239 0.06196868 0.06420582 0.06174497 0.06196868\n",
      "        nan        nan        nan        nan        nan        nan\n",
      "        nan        nan        nan        nan        nan        nan\n",
      "        nan        nan        nan 0.06152125 0.06152125 0.06152125\n",
      " 0.06152125 0.06152125 0.06152125        nan        nan        nan\n",
      " 0.06331096 0.06174497 0.06174497 0.06420582 0.06174497 0.06196868]\n",
      "  warnings.warn(\n",
      "C:\\ProgramData\\Anaconda3\\lib\\site-packages\\sklearn\\linear_model\\_logistic.py:1355: UserWarning: 'n_jobs' > 1 does not have any effect when 'solver' is set to 'liblinear'. Got 'n_jobs' = 8.\n",
      "  warnings.warn(\"'n_jobs' > 1 does not have any effect when\"\n"
     ]
    },
    {
     "name": "stdout",
     "output_type": "stream",
     "text": [
      "Wall time: 25min 25s\n"
     ]
    }
   ],
   "source": [
    "%%time\n",
    "# Fit models\n",
    "grid_result = grid.fit(X_train, y_train)"
   ]
  },
  {
   "cell_type": "code",
   "execution_count": 52,
   "id": "732bebf8-feb3-43ad-87cc-9a1e4e99ae4c",
   "metadata": {},
   "outputs": [
    {
     "name": "stdout",
     "output_type": "stream",
     "text": [
      "Best parameters found:\n",
      " {'C': 1.0, 'penalty': 'l1', 'solver': 'liblinear', 'tol': 0.001} \n",
      "\n",
      "Baseline Accuracy:\t6.0\n",
      "Tuned Accuracy:\t\t6.47\n"
     ]
    }
   ],
   "source": [
    "# Show best parameters\n",
    "print('Best parameters found:\\n', grid_result.best_params_, '\\n')\n",
    "# Get accuracy scores\n",
    "baseScore = round(baseline.score(X_test, y_test)*100, 2)\n",
    "score = round(grid_result.score(X_test, y_test)*100, 2)\n",
    "print(f\"Baseline Accuracy:\\t{baseScore}\")\n",
    "print(f\"Tuned Accuracy:\\t\\t{score}\")"
   ]
  },
  {
   "cell_type": "markdown",
   "id": "68d7d7aa-68e6-4403-9fc6-537b79929fbd",
   "metadata": {},
   "source": [
    "#### Support Vector Classifier (SVC)"
   ]
  },
  {
   "cell_type": "code",
   "execution_count": 53,
   "id": "c8be1b73-38ef-4c09-b102-9b0db9112a7b",
   "metadata": {},
   "outputs": [],
   "source": [
    "# Load libraries\n",
    "from sklearn.svm import SVC\n",
    "\n",
    "# Create support vector classifier\n",
    "svc = SVC(random_state=42, \n",
    "          max_iter=10000)\n",
    "\n",
    "# Get a baseline model\n",
    "baseline = svc.fit(X_train, y_train)\n",
    "\n",
    "# Create range of candidate penalty hyperparameter values\n",
    "parameter_space = {\n",
    "    'C': [1, 3, 10, 30, 100], \n",
    "    'kernel': ['linear', 'poly', 'rbf', 'sigmoid'],\n",
    "    'gamma': ['scale', 'auto'], \n",
    "    'shrinking': [True, False], \n",
    "    'tol': [1e-3, 1e-4, 1e-5],\n",
    "    'decision_function_shape': ['ovo', 'ovr'], \n",
    "    'break_ties': [True],\n",
    "}\n",
    "grid = GridSearchCV(svc, parameter_space, n_jobs=-1, cv=5)"
   ]
  },
  {
   "cell_type": "code",
   "execution_count": 54,
   "id": "d33a459e-3284-4d85-9937-5c1fa49b18ea",
   "metadata": {},
   "outputs": [
    {
     "name": "stderr",
     "output_type": "stream",
     "text": [
      "C:\\ProgramData\\Anaconda3\\lib\\site-packages\\sklearn\\model_selection\\_search.py:922: UserWarning: One or more of the test scores are non-finite: [       nan        nan        nan        nan        nan        nan\n",
      "        nan        nan        nan        nan        nan        nan\n",
      "        nan        nan        nan        nan        nan        nan\n",
      "        nan        nan        nan        nan        nan        nan\n",
      "        nan        nan        nan        nan        nan        nan\n",
      "        nan        nan        nan        nan        nan        nan\n",
      "        nan        nan        nan        nan        nan        nan\n",
      "        nan        nan        nan        nan        nan        nan\n",
      " 0.06420582 0.06442953 0.06420582 0.06442953 0.06442953 0.06442953\n",
      " 0.05279642 0.05279642 0.05279642 0.05279642 0.05279642 0.05279642\n",
      " 0.0689038  0.0689038  0.0689038  0.0689038  0.0689038  0.0689038\n",
      " 0.06442953 0.06420582 0.06420582 0.06442953 0.06420582 0.06420582\n",
      " 0.06420582 0.06442953 0.06420582 0.06442953 0.06442953 0.06442953\n",
      " 0.05324385 0.05324385 0.05324385 0.05324385 0.05324385 0.05324385\n",
      " 0.0689038  0.0689038  0.0689038  0.0689038  0.0689038  0.0689038\n",
      " 0.06510067 0.06487696 0.06487696 0.06510067 0.06487696 0.06487696\n",
      "        nan        nan        nan        nan        nan        nan\n",
      "        nan        nan        nan        nan        nan        nan\n",
      "        nan        nan        nan        nan        nan        nan\n",
      "        nan        nan        nan        nan        nan        nan\n",
      "        nan        nan        nan        nan        nan        nan\n",
      "        nan        nan        nan        nan        nan        nan\n",
      "        nan        nan        nan        nan        nan        nan\n",
      "        nan        nan        nan        nan        nan        nan\n",
      " 0.05928412 0.05995526 0.05995526 0.05950783 0.05950783 0.05950783\n",
      " 0.05123043 0.05123043 0.05123043 0.05123043 0.05123043 0.05123043\n",
      " 0.05592841 0.05592841 0.05592841 0.05592841 0.05592841 0.05592841\n",
      " 0.05816555 0.05794183 0.05816555 0.05816555 0.05794183 0.05816555\n",
      " 0.05928412 0.05995526 0.05995526 0.05950783 0.05950783 0.05950783\n",
      " 0.05055928 0.05055928 0.05055928 0.05055928 0.05055928 0.05055928\n",
      " 0.05592841 0.05592841 0.05592841 0.05592841 0.05592841 0.05592841\n",
      " 0.05704698 0.05682327 0.05682327 0.05704698 0.05682327 0.05682327\n",
      "        nan        nan        nan        nan        nan        nan\n",
      "        nan        nan        nan        nan        nan        nan\n",
      "        nan        nan        nan        nan        nan        nan\n",
      "        nan        nan        nan        nan        nan        nan\n",
      "        nan        nan        nan        nan        nan        nan\n",
      "        nan        nan        nan        nan        nan        nan\n",
      "        nan        nan        nan        nan        nan        nan\n",
      "        nan        nan        nan        nan        nan        nan\n",
      " 0.06196868 0.06196868 0.06174497 0.06107383 0.06129754 0.06129754\n",
      " 0.04451902 0.04451902 0.04451902 0.04451902 0.04451902 0.04451902\n",
      " 0.04742729 0.04742729 0.04742729 0.04742729 0.04742729 0.04742729\n",
      " 0.05123043 0.05123043 0.05123043 0.05234899 0.05212528 0.05212528\n",
      " 0.06196868 0.06196868 0.06174497 0.06107383 0.06129754 0.06129754\n",
      " 0.04451902 0.04451902 0.04451902 0.04451902 0.04451902 0.04451902\n",
      " 0.04697987 0.04742729 0.04742729 0.04697987 0.04742729 0.04742729\n",
      " 0.050783   0.050783   0.050783   0.05100671 0.05100671 0.05100671\n",
      "        nan        nan        nan        nan        nan        nan\n",
      "        nan        nan        nan        nan        nan        nan\n",
      "        nan        nan        nan        nan        nan        nan\n",
      "        nan        nan        nan        nan        nan        nan\n",
      "        nan        nan        nan        nan        nan        nan\n",
      "        nan        nan        nan        nan        nan        nan\n",
      "        nan        nan        nan        nan        nan        nan\n",
      "        nan        nan        nan        nan        nan        nan\n",
      " 0.0590604  0.05883669 0.05794183 0.05928412 0.05928412 0.05928412\n",
      " 0.04026846 0.04026846 0.04026846 0.04026846 0.04026846 0.04026846\n",
      " 0.0458613  0.0458613  0.0458613  0.0458613  0.0458613  0.0458613\n",
      " 0.04675615 0.04720358 0.04697987 0.04563758 0.04563758 0.04541387\n",
      " 0.0590604  0.05883669 0.05794183 0.05928412 0.05928412 0.05928412\n",
      " 0.04049217 0.04049217 0.04049217 0.04049217 0.04049217 0.04049217\n",
      " 0.0458613  0.0458613  0.0458613  0.0458613  0.0458613  0.0458613\n",
      " 0.04832215 0.049217   0.04854586 0.04787472 0.04787472 0.04787472\n",
      "        nan        nan        nan        nan        nan        nan\n",
      "        nan        nan        nan        nan        nan        nan\n",
      "        nan        nan        nan        nan        nan        nan\n",
      "        nan        nan        nan        nan        nan        nan\n",
      "        nan        nan        nan        nan        nan        nan\n",
      "        nan        nan        nan        nan        nan        nan\n",
      "        nan        nan        nan        nan        nan        nan\n",
      "        nan        nan        nan        nan        nan        nan\n",
      " 0.05369128 0.05369128 0.05279642 0.05503356 0.05503356 0.05503356\n",
      " 0.0393736  0.0393736  0.0393736  0.0393736  0.0393736  0.0393736\n",
      " 0.04272931 0.04250559 0.04250559 0.04272931 0.04250559 0.04250559\n",
      " 0.04675615 0.04653244 0.04653244 0.04653244 0.04653244 0.04653244\n",
      " 0.05369128 0.05369128 0.05279642 0.05503356 0.05503356 0.05503356\n",
      " 0.0393736  0.0393736  0.0393736  0.0393736  0.0393736  0.0393736\n",
      " 0.04250559 0.04250559 0.04250559 0.04250559 0.04250559 0.04250559\n",
      " 0.04653244 0.04653244 0.04675615 0.04630872 0.04630872 0.04630872]\n",
      "  warnings.warn(\n"
     ]
    },
    {
     "name": "stdout",
     "output_type": "stream",
     "text": [
      "Wall time: 1h 7min 13s\n"
     ]
    }
   ],
   "source": [
    "%%time\n",
    "# Fit models\n",
    "grid_result = grid.fit(X_train, y_train)"
   ]
  },
  {
   "cell_type": "code",
   "execution_count": 55,
   "id": "bc70aef6-3c97-40d6-98d3-ee29838a76e1",
   "metadata": {},
   "outputs": [
    {
     "name": "stdout",
     "output_type": "stream",
     "text": [
      "Best parameters found:\n",
      " {'C': 1, 'break_ties': True, 'decision_function_shape': 'ovr', 'gamma': 'scale', 'kernel': 'rbf', 'shrinking': True, 'tol': 0.001} \n",
      "\n",
      "Baseline Accuracy:\t6.78\n",
      "Tuned Accuracy:\t\t6.83\n"
     ]
    }
   ],
   "source": [
    "# Show best parameters\n",
    "print('Best parameters found:\\n', grid_result.best_params_, '\\n')\n",
    "# Get accuracy scores\n",
    "baseScore = round(baseline.score(X_test, y_test)*100, 2)\n",
    "score = round(grid_result.score(X_test, y_test)*100, 2)\n",
    "print(f\"Baseline Accuracy:\\t{baseScore}\")\n",
    "print(f\"Tuned Accuracy:\\t\\t{score}\")"
   ]
  },
  {
   "cell_type": "markdown",
   "id": "c5b95832-eb8b-4847-b4c8-be92b19882d3",
   "metadata": {},
   "source": [
    "#### MLPClassifier"
   ]
  },
  {
   "cell_type": "code",
   "execution_count": 56,
   "id": "b20c2887-0bb7-4183-b7b5-674eb1f24b3c",
   "metadata": {},
   "outputs": [],
   "source": [
    "# Load libraries\n",
    "from sklearn.neural_network import MLPClassifier\n",
    "from sklearn.model_selection import RandomizedSearchCV\n",
    "import random as rd\n",
    "from scipy.stats import uniform, randint\n",
    "\n",
    "# Create classifier\n",
    "mlp = MLPClassifier(max_iter=5000)\n",
    "\n",
    "# Get a baseline model\n",
    "baseline = mlp.fit(X_train, y_train)\n",
    "\n",
    "# Create range of candidate hyperparameter values\n",
    "parameter_space = {\n",
    "    'hidden_layer_sizes': [(rd.randint(10,100), rd.randint(10,100), rd.randint(10,100))],\n",
    "    'activation': ['relu', 'tanh', 'identity', 'logistic'], \n",
    "    'solver': ['adam', 'lbfgs'], #'sgd'], \n",
    "    'alpha': [0.001, 0.0001, 0.00001], #uniform(loc=0, scale=0.0005), \n",
    "#     'learning_rate': ['constant', 'adaptive', 'invscaling'], # only when solver='sgd' \n",
    "    'learning_rate_init': [0.01, 0.001, 0.0001], \n",
    "    'tol': [1e-3, 1e-4, 1e-5],\n",
    "    'early_stopping': [True], \n",
    "#     'beta_1': [0.9, 0.99], \n",
    "#     'beta_2': [0.99, 0.999, 0.9999],\n",
    "    'epsilon': [1e-9, 1e-8, 1e-7],\n",
    "}\n",
    "rand = RandomizedSearchCV(mlp, parameter_space, random_state=42, n_iter=500, n_jobs=-1, cv=5)"
   ]
  },
  {
   "cell_type": "code",
   "execution_count": 57,
   "id": "8c1048e5-b431-4ba9-ae35-2e77e9084eb2",
   "metadata": {},
   "outputs": [
    {
     "name": "stdout",
     "output_type": "stream",
     "text": [
      "Wall time: 15h 45min 27s\n"
     ]
    }
   ],
   "source": [
    "%%time\n",
    "# Fit models\n",
    "rand_result = rand.fit(X_train, y_train)"
   ]
  },
  {
   "cell_type": "code",
   "execution_count": 58,
   "id": "275f165b-e0ee-4b6d-8fdb-b76c5d16cc0e",
   "metadata": {},
   "outputs": [
    {
     "name": "stdout",
     "output_type": "stream",
     "text": [
      "Best parameters found:\n",
      " {'tol': 1e-05, 'solver': 'adam', 'learning_rate_init': 0.01, 'hidden_layer_sizes': (32, 68, 24), 'epsilon': 1e-09, 'early_stopping': True, 'alpha': 1e-05, 'activation': 'logistic'} \n",
      "\n",
      "Baseline Accuracy:\t3.86\n",
      "Tuned Accuracy:\t\t6.1\n"
     ]
    }
   ],
   "source": [
    "# Show best parameters\n",
    "print('Best parameters found:\\n', rand_result.best_params_, '\\n')\n",
    "# Get accuracy scores\n",
    "baseScore = round(baseline.score(X_test, y_test)*100, 2)\n",
    "score = round(rand_result.score(X_test, y_test)*100, 2)\n",
    "print(f\"Baseline Accuracy:\\t{baseScore}\")\n",
    "print(f\"Tuned Accuracy:\\t\\t{score}\")"
   ]
  },
  {
   "cell_type": "code",
   "execution_count": null,
   "id": "65302ae3-9eea-4531-89e4-722f14527d5f",
   "metadata": {},
   "outputs": [],
   "source": []
  },
  {
   "cell_type": "markdown",
   "id": "c24f2930-23d5-41d4-b017-f090399e3291",
   "metadata": {},
   "source": [
    "## Modeling with Tuned Parameters"
   ]
  },
  {
   "cell_type": "code",
   "execution_count": 10,
   "id": "42a51558-88c6-43c7-a12b-ea8ef7741d57",
   "metadata": {},
   "outputs": [],
   "source": [
    "# Set up dictionary for model results\n",
    "models_dict = {}"
   ]
  },
  {
   "cell_type": "markdown",
   "id": "9739336f-01e6-4631-873d-aa9906c78d02",
   "metadata": {},
   "source": [
    "#### Logistic Regression"
   ]
  },
  {
   "cell_type": "code",
   "execution_count": 11,
   "id": "680631a6-686d-494f-8218-6ba7a43a5f1d",
   "metadata": {},
   "outputs": [],
   "source": [
    "# Load libraries\n",
    "from sklearn.linear_model import LogisticRegression\n",
    "\n",
    "# Create classification model\n",
    "logistic = LogisticRegression(C=1.0,\n",
    "                              penalty='l1',\n",
    "                              solver='liblinear',\n",
    "                              tol=0.001,\n",
    "                              random_state=42, \n",
    "                              n_jobs=-1)"
   ]
  },
  {
   "cell_type": "code",
   "execution_count": 12,
   "id": "9feb8e18-0e71-4332-96cb-66edf66d336b",
   "metadata": {},
   "outputs": [
    {
     "name": "stderr",
     "output_type": "stream",
     "text": [
      "C:\\ProgramData\\Anaconda3\\lib\\site-packages\\sklearn\\linear_model\\_logistic.py:1355: UserWarning: 'n_jobs' > 1 does not have any effect when 'solver' is set to 'liblinear'. Got 'n_jobs' = 8.\n",
      "  warnings.warn(\"'n_jobs' > 1 does not have any effect when\"\n"
     ]
    },
    {
     "name": "stdout",
     "output_type": "stream",
     "text": [
      "Wall time: 29.5 s\n"
     ]
    }
   ],
   "source": [
    "%%time\n",
    "# Fit model\n",
    "models_dict['Logistic'] = logistic.fit(X_train, y_train)"
   ]
  },
  {
   "cell_type": "markdown",
   "id": "1ae2be09-4880-4122-9edb-11909029b535",
   "metadata": {},
   "source": [
    "#### Random Forest"
   ]
  },
  {
   "cell_type": "code",
   "execution_count": 13,
   "id": "f2984295-1ad0-4ebc-9c75-095edd08dae6",
   "metadata": {},
   "outputs": [],
   "source": [
    "# Load libraries\n",
    "from sklearn.ensemble import RandomForestClassifier\n",
    "\n",
    "# Create classification model\n",
    "rfclassifier = RandomForestClassifier(criterion='entropy',\n",
    "                                      max_features=None,\n",
    "                                      n_estimators=1000,\n",
    "                                      random_state=42,\n",
    "                                      n_jobs=-1)"
   ]
  },
  {
   "cell_type": "code",
   "execution_count": 14,
   "id": "351967c8-4d79-4450-af8a-12ca4c662f71",
   "metadata": {},
   "outputs": [
    {
     "name": "stdout",
     "output_type": "stream",
     "text": [
      "Wall time: 9min 56s\n"
     ]
    }
   ],
   "source": [
    "%%time\n",
    "# Fit model\n",
    "models_dict['RandomForest'] = rfclassifier.fit(X_train, y_train)"
   ]
  },
  {
   "cell_type": "markdown",
   "id": "ffbdf46c-3b66-443c-b9ca-ba6593c2fbc3",
   "metadata": {},
   "source": [
    "#### Decision Tree"
   ]
  },
  {
   "cell_type": "code",
   "execution_count": 15,
   "id": "23677675-c314-40f2-bc11-462e9f0b9eb2",
   "metadata": {},
   "outputs": [],
   "source": [
    "# Load libraries\n",
    "from sklearn.tree import DecisionTreeClassifier\n",
    "\n",
    "# Create classification model\n",
    "decisiontree = DecisionTreeClassifier(class_weight=None,\n",
    "                                      criterion='entropy',\n",
    "                                      max_depth=None,\n",
    "                                      max_features=None,\n",
    "                                      max_leaf_nodes=300,\n",
    "                                      min_samples_leaf=1,\n",
    "                                      min_samples_split=2,\n",
    "                                      splitter='best',\n",
    "                                      random_state=42,)"
   ]
  },
  {
   "cell_type": "code",
   "execution_count": 16,
   "id": "e49eaebe-a683-46ad-9d9d-40363944f73c",
   "metadata": {},
   "outputs": [
    {
     "name": "stdout",
     "output_type": "stream",
     "text": [
      "Wall time: 2.37 s\n"
     ]
    }
   ],
   "source": [
    "%%time\n",
    "# Fit model\n",
    "models_dict['DecisionTree'] = decisiontree.fit(X_train, y_train)"
   ]
  },
  {
   "cell_type": "markdown",
   "id": "065e54cd-0219-40ef-af3f-5d024aceec4f",
   "metadata": {},
   "source": [
    "#### AdaBoost"
   ]
  },
  {
   "cell_type": "code",
   "execution_count": 17,
   "id": "c8a4beff-ea97-470e-be55-325ac003b5b6",
   "metadata": {},
   "outputs": [],
   "source": [
    "# Load libraries\n",
    "from sklearn.ensemble import AdaBoostClassifier\n",
    "\n",
    "# Create classification model\n",
    "adaboost = AdaBoostClassifier(algorithm='SAMME',\n",
    "                              learning_rate=1,\n",
    "                              n_estimators=1000,\n",
    "                              random_state=42)"
   ]
  },
  {
   "cell_type": "code",
   "execution_count": 18,
   "id": "d2783793-3cd7-4a7a-9109-73be545728a8",
   "metadata": {},
   "outputs": [
    {
     "name": "stdout",
     "output_type": "stream",
     "text": [
      "Wall time: 57 s\n"
     ]
    }
   ],
   "source": [
    "%%time\n",
    "# Fit model\n",
    "models_dict['AdaBoost'] = adaboost.fit(X_train, y_train)"
   ]
  },
  {
   "cell_type": "markdown",
   "id": "71306894-def8-450b-aa0e-18bf351ac5f2",
   "metadata": {},
   "source": [
    "#### Support Vector Classifier (SVC)"
   ]
  },
  {
   "cell_type": "code",
   "execution_count": 19,
   "id": "fc34883a-24a7-464a-b283-1664fd3a89b1",
   "metadata": {},
   "outputs": [],
   "source": [
    "# Load libraries\n",
    "from sklearn.svm import SVC\n",
    "\n",
    "# Create classification model\n",
    "svc = SVC(C=1,\n",
    "          break_ties=True,\n",
    "          decision_function_shape='ovr',\n",
    "          gamma='scale',\n",
    "          kernel='rbf',\n",
    "          shrinking=True,\n",
    "          tol=0.001,\n",
    "          random_state=42)"
   ]
  },
  {
   "cell_type": "code",
   "execution_count": 20,
   "id": "29ce497a-f748-48e2-9d72-9531117c2353",
   "metadata": {},
   "outputs": [
    {
     "name": "stdout",
     "output_type": "stream",
     "text": [
      "Wall time: 2min 20s\n"
     ]
    }
   ],
   "source": [
    "%%time\n",
    "# Fit model\n",
    "models_dict['SVC'] = svc.fit(X_train, y_train)"
   ]
  },
  {
   "cell_type": "markdown",
   "id": "d257afa2-b29c-424b-894b-7e66e1d67bd1",
   "metadata": {},
   "source": [
    "#### Gaussian Naive Bayes Classifier"
   ]
  },
  {
   "cell_type": "code",
   "execution_count": 21,
   "id": "fa20bfb1-37fd-4e58-b0d2-081555aec70a",
   "metadata": {},
   "outputs": [],
   "source": [
    "# Load libraries\n",
    "from sklearn.naive_bayes import GaussianNB\n",
    "\n",
    "# Create Gaussian naive Bayes object\n",
    "nBayes = GaussianNB(var_smoothing=0.1)"
   ]
  },
  {
   "cell_type": "code",
   "execution_count": 22,
   "id": "cc1afda1-1ee7-483c-ae29-47e9475271ac",
   "metadata": {},
   "outputs": [
    {
     "name": "stdout",
     "output_type": "stream",
     "text": [
      "Wall time: 74.5 ms\n"
     ]
    }
   ],
   "source": [
    "%%time\n",
    "# Fit model\n",
    "models_dict['GaussianNB'] = nBayes.fit(X_train, y_train)"
   ]
  },
  {
   "cell_type": "markdown",
   "id": "7962e2a9-3692-464d-9ee2-db9742601a44",
   "metadata": {},
   "source": [
    "#### MLPCClassifier"
   ]
  },
  {
   "cell_type": "code",
   "execution_count": 23,
   "id": "825d6bb2-710f-4a84-9625-888be661308b",
   "metadata": {},
   "outputs": [],
   "source": [
    "# Load libraries\n",
    "from sklearn.neural_network import MLPClassifier\n",
    "\n",
    "# Create classification model\n",
    "mlp = MLPClassifier(tol=1e-5,\n",
    "                    solver='adam',\n",
    "                    learning_rate_init=0.01,\n",
    "                    hidden_layer_sizes=(32, 68, 24),\n",
    "                    epsilon=1e-9,\n",
    "                    early_stopping=True,\n",
    "                    alpha=1e-5,\n",
    "                    activation='logistic')"
   ]
  },
  {
   "cell_type": "code",
   "execution_count": 24,
   "id": "aed0c018-acde-4c5b-86c2-d4c48b268bc8",
   "metadata": {},
   "outputs": [
    {
     "name": "stdout",
     "output_type": "stream",
     "text": [
      "Wall time: 19.7 s\n"
     ]
    }
   ],
   "source": [
    "%%time\n",
    "# Fit model\n",
    "models_dict['MLP'] = mlp.fit(X_train, y_train)"
   ]
  },
  {
   "cell_type": "code",
   "execution_count": null,
   "id": "4d1f6b88-a682-478c-bf2b-4655c0f8c90b",
   "metadata": {},
   "outputs": [],
   "source": []
  },
  {
   "cell_type": "markdown",
   "id": "17f254e7-d8f1-4c52-9ca0-40abd4c16090",
   "metadata": {},
   "source": [
    "Compare Accuracies"
   ]
  },
  {
   "cell_type": "code",
   "execution_count": 33,
   "id": "76f378ab-684d-401a-a24f-58b8299c894f",
   "metadata": {},
   "outputs": [
    {
     "name": "stdout",
     "output_type": "stream",
     "text": [
      "Wall time: 5min 42s\n"
     ]
    },
    {
     "data": {
      "text/html": [
       "<div>\n",
       "<style scoped>\n",
       "    .dataframe tbody tr th:only-of-type {\n",
       "        vertical-align: middle;\n",
       "    }\n",
       "\n",
       "    .dataframe tbody tr th {\n",
       "        vertical-align: top;\n",
       "    }\n",
       "\n",
       "    .dataframe thead th {\n",
       "        text-align: right;\n",
       "    }\n",
       "</style>\n",
       "<table border=\"1\" class=\"dataframe\">\n",
       "  <thead>\n",
       "    <tr style=\"text-align: right;\">\n",
       "      <th></th>\n",
       "      <th>Model</th>\n",
       "      <th>Accuracy</th>\n",
       "    </tr>\n",
       "  </thead>\n",
       "  <tbody>\n",
       "    <tr>\n",
       "      <th>2</th>\n",
       "      <td>DecisionTree</td>\n",
       "      <td>12.90</td>\n",
       "    </tr>\n",
       "    <tr>\n",
       "      <th>1</th>\n",
       "      <td>RandomForest</td>\n",
       "      <td>10.57</td>\n",
       "    </tr>\n",
       "    <tr>\n",
       "      <th>6</th>\n",
       "      <td>MLP</td>\n",
       "      <td>9.53</td>\n",
       "    </tr>\n",
       "    <tr>\n",
       "      <th>4</th>\n",
       "      <td>SVC</td>\n",
       "      <td>7.89</td>\n",
       "    </tr>\n",
       "    <tr>\n",
       "      <th>0</th>\n",
       "      <td>Logistic</td>\n",
       "      <td>7.29</td>\n",
       "    </tr>\n",
       "    <tr>\n",
       "      <th>3</th>\n",
       "      <td>AdaBoost</td>\n",
       "      <td>6.10</td>\n",
       "    </tr>\n",
       "    <tr>\n",
       "      <th>5</th>\n",
       "      <td>GaussianNB</td>\n",
       "      <td>5.77</td>\n",
       "    </tr>\n",
       "  </tbody>\n",
       "</table>\n",
       "</div>"
      ],
      "text/plain": [
       "          Model  Accuracy\n",
       "2  DecisionTree     12.90\n",
       "1  RandomForest     10.57\n",
       "6           MLP      9.53\n",
       "4           SVC      7.89\n",
       "0      Logistic      7.29\n",
       "3      AdaBoost      6.10\n",
       "5    GaussianNB      5.77"
      ]
     },
     "execution_count": 33,
     "metadata": {},
     "output_type": "execute_result"
    }
   ],
   "source": [
    "%%time\n",
    "# Create lists of models and accuracy scores\n",
    "modelName = []\n",
    "score = []\n",
    "for key in models_dict:\n",
    "    modelName += [key]\n",
    "    model = models_dict[key]\n",
    "    value = model.score(X_test, y_test)*100\n",
    "    score += [round(value, 2)]\n",
    "\n",
    "# Create DataFrame of results\n",
    "d = {'Model': modelName, 'Accuracy': score}\n",
    "results = pd.DataFrame(d).sort_values(by=['Accuracy'], ascending=False)\n",
    "results"
   ]
  },
  {
   "cell_type": "markdown",
   "id": "49f42389-b68d-4c30-a0ca-5e57f0846fc4",
   "metadata": {},
   "source": [
    "**Data Prep**  \n",
    "This week's assignment was pretty challenging and I could easily have spent two weeks working on it. While the data set was almost entirely in a numerical format, the majority of the variables were still categorical in nature. Because of this, I rightfully should have created dummy variables for every categorical feature. I actually tried this at one point, but ended up with something like 11,000 columns, which isn't very simple to deal with because you run into dimensionality issues. I noticed that many of the categorical variables were dominated in numbers by just one category, so to simplify things I converted them to binary, consisting of categories that either are or are not the dominant category. Using this method allowed me to keep roughly the same number of predictor variables.  \n",
    "The datetime data type columns weren't particularly useful as they were, so I converted them into new columns showing the day of the week or the month of the year. Additionally, I used timedelta to establish the duration of the hotel stay from the check in and check out dates.  \n",
    "Given enough time, I would have liked to look into performing some root or log transformations on some of the variables that were right-skewed. I would also have liked to try binning some of the variables that didn't have a dominating category and I feel like I definitely should have created dummy variables for the target variable.  \n",
    "\n",
    "**Feature Selection**  \n",
    "I tried several methods for feature selection. One was correlation with the target variable and the other consisted of several feature selection methods, which I combined and selected the top overall features. My thought here was that the different methods will have different advantages and biases so a \"wisdom of crowds\" approach should get me an overall decent selection of features. I created subsets of the data using these features, a subset using the highest correlations, and a subset using a combination of both. I then ran these on the default settings of several models and compared the results. The features and the combination were pretty close, with just the features scoring slightly higher and for most models, just correlation was the worst. So I proceeded with the highly rated features.  \n",
    "\n",
    "**Model Hyperparameter Tuning**  \n",
    "I used GridSearchCV for tuning the hyperparameters of my models. In order to run things more efficiently, I pulled an initial subset of the data with 10,000 rows. I ran hyperparameter tuning with this set and later increased to 100,000 rows for the hyperparameter tuning that didn't require a lot of processing time (Note: MLP ended up taking >15 hours). Once I had my parameters, I ran each model with the 100,000 data set, which was almost more than my computer could handle.  \n",
    "\n",
    "**Conclusion**  \n",
    "While most of the models had roughly 10-15% improvement with model tuning, a couple stayed about the same (SVC and Regression) and one improved by almost 70% (Decision Tree). The average improvement from tuning was 20%. The biggest overall impact on accuracy was actually from increasing the initial sample size from 10,000 to 100,000, with an average improvement in accuracy of 40%. If my computer could handle it, I would be curious to see what a sample set of 1,000,000 would look like. I wonder if I would see another large (~40%) increase or if I would start seeing diminishing returns.  \n",
    "The Gaussian model was consistently my worst model, starting out at under 2% when I first started and none of the models surpassed 8%. Two of my final top three models (Decision Tree, 12.9% accuracy and MLP Classifier, 9.5% accuracy) were also some of my most improved. The Decision Tree really surprised me actually and I wonder if maybe it is overfit.  \n",
    "At this point, I'm thinking about taking over my son's gaming desktop... 🤔"
   ]
  },
  {
   "cell_type": "code",
   "execution_count": null,
   "id": "a60ade5c-363e-480e-9ef4-c8995e19dcac",
   "metadata": {},
   "outputs": [],
   "source": []
  }
 ],
 "metadata": {
  "kernelspec": {
   "display_name": "Python 3 (ipykernel)",
   "language": "python",
   "name": "python3"
  },
  "language_info": {
   "codemirror_mode": {
    "name": "ipython",
    "version": 3
   },
   "file_extension": ".py",
   "mimetype": "text/x-python",
   "name": "python",
   "nbconvert_exporter": "python",
   "pygments_lexer": "ipython3",
   "version": "3.9.7"
  }
 },
 "nbformat": 4,
 "nbformat_minor": 5
}
