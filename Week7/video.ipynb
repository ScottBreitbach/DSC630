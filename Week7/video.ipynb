{
 "cells": [
  {
   "cell_type": "code",
   "execution_count": 4,
   "id": "f68d4af7-e6e0-4ce0-8a3c-e42e0e901141",
   "metadata": {},
   "outputs": [],
   "source": [
    "from sklearn.neighbors import KNeighborsClassifier"
   ]
  },
  {
   "cell_type": "code",
   "execution_count": 5,
   "id": "1d1afdab-e317-46b3-9162-139a7f820593",
   "metadata": {},
   "outputs": [],
   "source": [
    "knn = KNeighborsClassifier(n_neighbors=6)"
   ]
  },
  {
   "cell_type": "code",
   "execution_count": 7,
   "id": "f2f19a9c-80c2-44dc-8030-2a5f595e1d30",
   "metadata": {},
   "outputs": [],
   "source": [
    "# knn.fit(iris['data'], iris['target']) \n",
    "\n",
    "# requires data as a numpy array or pandas df\n",
    "# requires that the features take on continuous values as opposed to categories\n",
    "# requires there are no missing values in the data\n",
    "# the target needs to be a single with the same number of columns as the feature data"
   ]
  },
  {
   "cell_type": "code",
   "execution_count": 11,
   "id": "5c35c34b-b080-4a85-b76a-9559e07685c1",
   "metadata": {},
   "outputs": [],
   "source": [
    "# iris['data'].shape"
   ]
  },
  {
   "cell_type": "code",
   "execution_count": 12,
   "id": "4eaffbaa-51e9-432a-b8b9-f3bcd1f8555d",
   "metadata": {},
   "outputs": [],
   "source": [
    "# iris['target'].shape"
   ]
  },
  {
   "cell_type": "markdown",
   "id": "9d77544d-56ed-4b2c-a130-0f09d9dedc8b",
   "metadata": {},
   "source": [
    "Predicting on unlabeled data"
   ]
  },
  {
   "cell_type": "code",
   "execution_count": 10,
   "id": "a98717c3-8d15-4835-bd0f-0ad394aedac4",
   "metadata": {},
   "outputs": [
    {
     "ename": "NameError",
     "evalue": "name 'X_new' is not defined",
     "output_type": "error",
     "traceback": [
      "\u001b[1;31m---------------------------------------------------------------------------\u001b[0m",
      "\u001b[1;31mNameError\u001b[0m                                 Traceback (most recent call last)",
      "\u001b[1;32m~\\AppData\\Local\\Temp/ipykernel_8988/1337453974.py\u001b[0m in \u001b[0;36m<module>\u001b[1;34m\u001b[0m\n\u001b[1;32m----> 1\u001b[1;33m \u001b[0mprediction\u001b[0m \u001b[1;33m=\u001b[0m \u001b[0mknn\u001b[0m\u001b[1;33m.\u001b[0m\u001b[0mpredict\u001b[0m\u001b[1;33m(\u001b[0m\u001b[0mX_new\u001b[0m\u001b[1;33m)\u001b[0m\u001b[1;33m\u001b[0m\u001b[1;33m\u001b[0m\u001b[0m\n\u001b[0m\u001b[0;32m      2\u001b[0m \u001b[1;31m# again pass the data as a numpy array w/features in columns, observations in rows\u001b[0m\u001b[1;33m\u001b[0m\u001b[1;33m\u001b[0m\u001b[0m\n\u001b[0;32m      3\u001b[0m \u001b[0mX_new\u001b[0m\u001b[1;33m.\u001b[0m\u001b[0mshape\u001b[0m\u001b[1;33m\u001b[0m\u001b[1;33m\u001b[0m\u001b[0m\n",
      "\u001b[1;31mNameError\u001b[0m: name 'X_new' is not defined"
     ]
    }
   ],
   "source": [
    "# prediction = knn.predict(X_new)\n",
    "# # again pass the data as a numpy array w/features in columns, observations in rows\n",
    "# X_new.shape\n",
    "# # (3, 4) would be 3 observations and 4 features\n",
    "# print('Prediction {}.'.format(prediction))\n",
    "# # [1 1 0] indicates the prediction for each observation"
   ]
  },
  {
   "cell_type": "code",
   "execution_count": null,
   "id": "045c54de-4d64-4603-a495-070664803969",
   "metadata": {},
   "outputs": [],
   "source": []
  },
  {
   "cell_type": "code",
   "execution_count": null,
   "id": "8d39850f-6c53-4336-acf6-010e53d3669e",
   "metadata": {},
   "outputs": [],
   "source": []
  },
  {
   "cell_type": "code",
   "execution_count": 14,
   "id": "2ee417ad-6141-4d83-b0a4-7e8a99a39ce6",
   "metadata": {},
   "outputs": [],
   "source": [
    "import numpy as np\n",
    "import pandas as pd"
   ]
  },
  {
   "cell_type": "code",
   "execution_count": 13,
   "id": "714466a1-d89d-47b2-acca-706a74a11a65",
   "metadata": {},
   "outputs": [],
   "source": [
    "file = '../Week7/expedia-hotel-recommendations/destinations.csv'"
   ]
  },
  {
   "cell_type": "code",
   "execution_count": 15,
   "id": "52aa94e2-ca27-42a7-898d-b98288e81b79",
   "metadata": {},
   "outputs": [],
   "source": [
    "dest = pd.read_csv(file)"
   ]
  },
  {
   "cell_type": "code",
   "execution_count": 16,
   "id": "f44fd7bc-9239-4ce8-b6f8-2cb2e97bd370",
   "metadata": {},
   "outputs": [
    {
     "data": {
      "text/plain": [
       "array([    0,     1,     2, ..., 64991, 64992, 64993], dtype=int64)"
      ]
     },
     "execution_count": 16,
     "metadata": {},
     "output_type": "execute_result"
    }
   ],
   "source": [
    "dest.srch_destination_id.unique()"
   ]
  },
  {
   "cell_type": "code",
   "execution_count": null,
   "id": "3efe3e07-eb41-4cbc-a619-897945f82ec9",
   "metadata": {},
   "outputs": [],
   "source": []
  }
 ],
 "metadata": {
  "kernelspec": {
   "display_name": "Python 3 (ipykernel)",
   "language": "python",
   "name": "python3"
  },
  "language_info": {
   "codemirror_mode": {
    "name": "ipython",
    "version": 3
   },
   "file_extension": ".py",
   "mimetype": "text/x-python",
   "name": "python",
   "nbconvert_exporter": "python",
   "pygments_lexer": "ipython3",
   "version": "3.9.7"
  }
 },
 "nbformat": 4,
 "nbformat_minor": 5
}
