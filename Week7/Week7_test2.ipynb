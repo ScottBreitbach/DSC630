{
 "cells": [
  {
   "cell_type": "code",
   "execution_count": 1,
   "id": "80131bc0-c77a-40d9-868c-decd3e302851",
   "metadata": {},
   "outputs": [],
   "source": [
    "import numpy as np\n",
    "import pandas as pd\n",
    "import random\n",
    "random.seed(42)"
   ]
  },
  {
   "cell_type": "code",
   "execution_count": 2,
   "id": "4413dddd-189e-4820-a2ab-dc4b32e72f70",
   "metadata": {},
   "outputs": [],
   "source": [
    "file = '../Week7/expedia-hotel-recommendations/train.csv'\n",
    "\n",
    "n = 37670293 # number of records in file\n",
    "s = 10000 # desired sample size\n",
    "skip = sorted(random.sample(range(n), n-s))\n",
    "colNames = pd.read_csv(file, nrows=1).columns\n",
    "ranDF = pd.read_csv(file, skiprows=skip, names=colNames)"
   ]
  },
  {
   "cell_type": "code",
   "execution_count": 4,
   "id": "e7e47ed5-3fe7-4943-88f5-07f00e5d3112",
   "metadata": {},
   "outputs": [
    {
     "data": {
      "text/plain": [
       "(10001, 24)"
      ]
     },
     "execution_count": 4,
     "metadata": {},
     "output_type": "execute_result"
    }
   ],
   "source": [
    "ranDF.shape"
   ]
  },
  {
   "cell_type": "code",
   "execution_count": 5,
   "id": "fef0d004-9dc0-43c0-8bbf-b9bd05db8df2",
   "metadata": {},
   "outputs": [],
   "source": [
    "ranDF.dropna(axis=0, inplace=True)"
   ]
  },
  {
   "cell_type": "code",
   "execution_count": 6,
   "id": "90b5de3e-5ff2-4fb8-bd03-a02227ca5d2b",
   "metadata": {},
   "outputs": [
    {
     "data": {
      "text/plain": [
       "(6374, 24)"
      ]
     },
     "execution_count": 6,
     "metadata": {},
     "output_type": "execute_result"
    }
   ],
   "source": [
    "ranDF.shape"
   ]
  },
  {
   "cell_type": "markdown",
   "id": "47bd13e4-673d-4d14-97e5-095bc063a141",
   "metadata": {},
   "source": [
    "* site_name: 2 or not 2  \n",
    "* posa_continent: 3 or not 3\n",
    "* user_location_country: 66 (15% 205)\n",
    "* user_location_region: as is, or group everything >500\n",
    "* user_location_city: good 👍\n",
    "* orig_destination_distance: skews right, transform?\n",
    "* user_id: ignore for modeling (unless, counts?)\n",
    "* is_mobile: binary\n",
    "* is_package: binary\n",
    "* channel: 9 or not 9 (or leave as-is?)\n",
    "* srch_ci / srch_co: maybe time difference (length of stay) or DoW?\n",
    "* srch_adults_cnt: good 👍\n",
    "* srch_children_cnt: good 👍\n",
    "* srch_rm_cnt: good 👍\n",
    "* srch_destination_id: as-is or group (0-1k, 1k-2k, 2k+ or 2k-3k and 3k+)?? or remove?\n",
    "* srch_destination_type_id: good 👍\n",
    "* is_booking: binary\n",
    "* cnt: good (skews, transform maybe?)\n",
    "* hotel_continent: probably good (dummies) or 2/not2?\n",
    "* hotel_country: 50, not 50\n",
    "* hotel_market: idk... 0-500, 500-1k, 1k+?\n",
    "* hotel_cluster: TARGET VARIABLE"
   ]
  },
  {
   "cell_type": "code",
   "execution_count": 39,
   "id": "2698f179-1218-4896-9be5-a2a87164c865",
   "metadata": {},
   "outputs": [
    {
     "data": {
      "text/plain": [
       "91    233\n",
       "65    169\n",
       "48    149\n",
       "41    140\n",
       "18    125\n",
       "     ... \n",
       "35     21\n",
       "12     21\n",
       "88     21\n",
       "27     12\n",
       "74      9\n",
       "Name: hotel_cluster, Length: 100, dtype: int64"
      ]
     },
     "execution_count": 39,
     "metadata": {},
     "output_type": "execute_result"
    }
   ],
   "source": [
    "ranDF.hotel_cluster.value_counts()"
   ]
  },
  {
   "cell_type": "code",
   "execution_count": 34,
   "id": "01afeeb4-e058-46c2-ad5d-0f6a22bb0b6f",
   "metadata": {},
   "outputs": [
    {
     "data": {
      "text/plain": [
       "1915"
      ]
     },
     "execution_count": 34,
     "metadata": {},
     "output_type": "execute_result"
    }
   ],
   "source": [
    "len(ranDF.srch_destination_id.unique())"
   ]
  },
  {
   "cell_type": "code",
   "execution_count": 8,
   "id": "058ef0fc-eef2-468b-b725-850292769298",
   "metadata": {},
   "outputs": [
    {
     "data": {
      "text/plain": [
       "0.14778788829620332"
      ]
     },
     "execution_count": 8,
     "metadata": {},
     "output_type": "execute_result"
    }
   ],
   "source": [
    "942/6374"
   ]
  },
  {
   "cell_type": "code",
   "execution_count": 25,
   "id": "c47b37ac-6f8c-445a-a071-0528eec1c6a9",
   "metadata": {},
   "outputs": [],
   "source": [
    "import matplotlib.pyplot as plt"
   ]
  },
  {
   "cell_type": "code",
   "execution_count": 40,
   "id": "fe2a8ec1-41ef-4b63-9dcc-4a48ddaf27b2",
   "metadata": {},
   "outputs": [
    {
     "data": {
      "text/plain": [
       "(array([ 81.,   0.,  91.,   0.,  71.,   0.,  28.,   0.,  65.,   0.,  94.,\n",
       "          0.,  52.,   0.,  40.,   0.,  42.,   0.,  86.,   0.,  70.,   0.,\n",
       "         54.,   0.,  21.,   0.,  60.,   0.,  40.,   0.,  36.,   0.,  76.,\n",
       "          0.,  55.,   0., 125.,   0.,  55.,   0.,  45.,   0., 112.,   0.,\n",
       "         45.,   0.,  54.,   0.,  38.,   0.,  73.,   0.,  82.,   0.,  12.,\n",
       "          0.,  93.,   0.,  38.,   0.,  52.,   0.,  61.,   0.,  52.,   0.,\n",
       "         67.,   0.,  61.,   0.,  21.,   0.,  26.,   0.,  74.,   0.,  39.,\n",
       "          0.,  70.,   0.,  83.,   0., 140.,   0.,  97.,   0.,  30.,   0.,\n",
       "         48.,   0.,  43.,   0.,  56.,   0.,  87.,   0., 149.,   0.,  46.,\n",
       "          0.,   0.,  93.,   0.,  56.,   0.,  79.,   0.,  23.,   0.,  41.,\n",
       "          0.,  56.,   0.,  73.,   0.,  23.,   0.,  72.,   0.,  99.,   0.,\n",
       "         22.,   0.,  40.,   0.,  57.,   0.,  29.,   0.,  82.,   0., 169.,\n",
       "          0.,  64.,   0.,  42.,   0.,  91.,   0.,  59.,   0., 100.,   0.,\n",
       "         55.,   0., 101.,   0.,  62.,   0.,   9.,   0.,  34.,   0.,  51.,\n",
       "          0.,  88.,   0.,  51.,   0.,  60.,   0.,  40.,   0.,  41.,   0.,\n",
       "         59.,   0., 103.,   0.,  51.,   0.,  49.,   0.,  35.,   0.,  39.,\n",
       "          0.,  21.,   0.,  47.,   0.,  78.,   0., 233.,   0.,  49.,   0.,\n",
       "         41.,   0.,  65.,   0., 104.,   0.,  77.,   0.,  62.,   0., 102.,\n",
       "          0.,  61.]),\n",
       " array([ 0.   ,  0.495,  0.99 ,  1.485,  1.98 ,  2.475,  2.97 ,  3.465,\n",
       "         3.96 ,  4.455,  4.95 ,  5.445,  5.94 ,  6.435,  6.93 ,  7.425,\n",
       "         7.92 ,  8.415,  8.91 ,  9.405,  9.9  , 10.395, 10.89 , 11.385,\n",
       "        11.88 , 12.375, 12.87 , 13.365, 13.86 , 14.355, 14.85 , 15.345,\n",
       "        15.84 , 16.335, 16.83 , 17.325, 17.82 , 18.315, 18.81 , 19.305,\n",
       "        19.8  , 20.295, 20.79 , 21.285, 21.78 , 22.275, 22.77 , 23.265,\n",
       "        23.76 , 24.255, 24.75 , 25.245, 25.74 , 26.235, 26.73 , 27.225,\n",
       "        27.72 , 28.215, 28.71 , 29.205, 29.7  , 30.195, 30.69 , 31.185,\n",
       "        31.68 , 32.175, 32.67 , 33.165, 33.66 , 34.155, 34.65 , 35.145,\n",
       "        35.64 , 36.135, 36.63 , 37.125, 37.62 , 38.115, 38.61 , 39.105,\n",
       "        39.6  , 40.095, 40.59 , 41.085, 41.58 , 42.075, 42.57 , 43.065,\n",
       "        43.56 , 44.055, 44.55 , 45.045, 45.54 , 46.035, 46.53 , 47.025,\n",
       "        47.52 , 48.015, 48.51 , 49.005, 49.5  , 49.995, 50.49 , 50.985,\n",
       "        51.48 , 51.975, 52.47 , 52.965, 53.46 , 53.955, 54.45 , 54.945,\n",
       "        55.44 , 55.935, 56.43 , 56.925, 57.42 , 57.915, 58.41 , 58.905,\n",
       "        59.4  , 59.895, 60.39 , 60.885, 61.38 , 61.875, 62.37 , 62.865,\n",
       "        63.36 , 63.855, 64.35 , 64.845, 65.34 , 65.835, 66.33 , 66.825,\n",
       "        67.32 , 67.815, 68.31 , 68.805, 69.3  , 69.795, 70.29 , 70.785,\n",
       "        71.28 , 71.775, 72.27 , 72.765, 73.26 , 73.755, 74.25 , 74.745,\n",
       "        75.24 , 75.735, 76.23 , 76.725, 77.22 , 77.715, 78.21 , 78.705,\n",
       "        79.2  , 79.695, 80.19 , 80.685, 81.18 , 81.675, 82.17 , 82.665,\n",
       "        83.16 , 83.655, 84.15 , 84.645, 85.14 , 85.635, 86.13 , 86.625,\n",
       "        87.12 , 87.615, 88.11 , 88.605, 89.1  , 89.595, 90.09 , 90.585,\n",
       "        91.08 , 91.575, 92.07 , 92.565, 93.06 , 93.555, 94.05 , 94.545,\n",
       "        95.04 , 95.535, 96.03 , 96.525, 97.02 , 97.515, 98.01 , 98.505,\n",
       "        99.   ]),\n",
       " <BarContainer object of 200 artists>)"
      ]
     },
     "execution_count": 40,
     "metadata": {},
     "output_type": "execute_result"
    },
    {
     "data": {
      "image/png": "[encoded data removed]",
      "text/plain": [
       "<Figure size 432x288 with 1 Axes>"
      ]
     },
     "metadata": {
      "needs_background": "light"
     },
     "output_type": "display_data"
    }
   ],
   "source": [
    "plt.hist(ranDF['hotel_cluster'], bins=200)"
   ]
  },
  {
   "cell_type": "code",
   "execution_count": 41,
   "id": "6e650575-8fae-409e-904e-1da88793ad96",
   "metadata": {},
   "outputs": [],
   "source": [
    "# ranDF.user_location_region.value_counts().head(60)"
   ]
  },
  {
   "cell_type": "code",
   "execution_count": null,
   "id": "ee0d1ad5-8514-45d9-ae83-9f45386db8e7",
   "metadata": {},
   "outputs": [],
   "source": []
  }
 ],
 "metadata": {
  "kernelspec": {
   "display_name": "Python 3 (ipykernel)",
   "language": "python",
   "name": "python3"
  },
  "language_info": {
   "codemirror_mode": {
    "name": "ipython",
    "version": 3
   },
   "file_extension": ".py",
   "mimetype": "text/x-python",
   "name": "python",
   "nbconvert_exporter": "python",
   "pygments_lexer": "ipython3",
   "version": "3.9.7"
  }
 },
 "nbformat": 4,
 "nbformat_minor": 5
}
