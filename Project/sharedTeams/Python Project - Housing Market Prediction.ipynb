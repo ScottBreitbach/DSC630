{
 "cells": [
  {
   "cell_type": "markdown",
   "source": [
    "# Housing Market Prediction\n",
    "authors: Scott Breitbach, Pushkar Chougule & Rachel Nelson\n",
    "\n",
    "class: DSC630-T301 Predictive Analytics (2221-1)\n",
    "\n",
    "\n"
   ],
   "metadata": {
    "collapsed": false,
    "pycharm": {
     "name": "#%% md\n"
    }
   }
  },
  {
   "cell_type": "code",
   "execution_count": 220,
   "outputs": [],
   "source": [
    "import requests\n",
    "from bs4 import BeautifulSoup\n",
    "import json\n",
    "import time\n",
    "import csv\n",
    "import pandas as pd"
   ],
   "metadata": {
    "collapsed": false,
    "pycharm": {
     "name": "#%%\n"
    }
   }
  },
  {
   "cell_type": "code",
   "execution_count": 221,
   "outputs": [
    {
     "name": "stdout",
     "output_type": "stream",
     "text": [
      "200\n",
      "200\n",
      "200\n",
      "200\n",
      "200\n",
      "200\n",
      "200\n",
      "200\n",
      "200\n",
      "200\n",
      "200\n",
      "200\n"
     ]
    }
   ],
   "source": [
    "class ZillowScraper():\n",
    "    results = []\n",
    "    headers = {\n",
    "        'accept': 'text/html,application/xhtml+xml,application/xml;q=0.9,image/webp,image/apng,*/*;q=0.8,application/signed-exchange;v=b3;q=0.9',\n",
    "        'accept-encoding': 'gzip, deflate, br',\n",
    "        'accept-language': 'en-US,en;q=0.9',\n",
    "        'cache-control': 'max-age=0',\n",
    "        'cookie': 'zguid=23|%24d14f0059-d03b-4422-9f57-5862fcd13490; _ga=GA1.2.1741285320.1590755697; zjs_user_id=null; zjs_anonymous_id=%22d14f0059-d03b-4422-9f57-5862fcd13490%22; __gads=ID=1050523ba93d593d:T=1590755700:S=ALNI_MZlJJ_xqSbd51oJisV_HY4g017Ehw; _gcl_au=1.1.2000298647.1590755705; KruxPixel=true; _fbp=fb.1.1590755705919.1815197270; _pxvid=d6c5ec75-a1a8-11ea-b8a9-0242ac120009; KruxAddition=true; JSESSIONID=3E7EBDB1F8931DF7D0DE9992546AE0B3; zgsession=1|200e23e0-9534-4d27-931f-caa3de6b483b; _gid=GA1.2.1328942480.1590858452; _gat=1; DoubleClickSession=true; GASession=true; _uetsid=fdde22d5-862a-8a7d-93e4-a16c574edf91; _pin_unauth=YzUyOGQ2OGMtMmQ3YS00NGZkLTg3MmEtOGJlODM1YWMwMTA1; _px3=026336d3721eec42bcdec3278ad2d3ac2014d5e65707b21624fb2e743d9a89be:mq3WRz2RNL5PBIvbYNHCxq5VfXHXy2YKC+8Lqn97pIw8MiKppH7Cx7AjKzbAFi1zcehKGY36aIgsnE9NiPKwlw==:1000:4U1o3ogIQ0KzfyMd2QYEFGDnD1augezy5bJlzEn9ZHE89B2uEIxDg8BmsGj8szPwyIz1Yv15S2V0TV5P+0jCFisfGk92XM4DM7K13GCtNr0HXhNGftVBFxVrCv8ApRphw/Qwj7AcagCh9i6FPiQGLFruxVASJXLsNpFeWimekVY=; AWSALB=ZKAGBcH2BwM6D1bRKOPynbOqyclySGz5U/fZB+wO3MYQ91UR9A5rFVtFsmjOkrMASUJguhtsJRZDM7IlBiWVT/pGw2S0BjxgEZmpFPrBZEqU2lWTE2NMArtecZD2; AWSALBCORS=ZKAGBcH2BwM6D1bRKOPynbOqyclySGz5U/fZB+wO3MYQ91UR9A5rFVtFsmjOkrMASUJguhtsJRZDM7IlBiWVT/pGw2S0BjxgEZmpFPrBZEqU2lWTE2NMArtecZD2; search=6|1593450465587%7Crect%3D40.843698984643765%252C-73.50417109960938%252C40.567821651427245%252C-74.45174190039063%26rid%3D6181%26disp%3Dmap%26mdm%3Dauto%26p%3D2%26z%3D0%26lt%3Dfsbo%26fs%3D1%26fr%3D0%26mmm%3D0%26rs%3D0%26ah%3D0%26singlestory%3D0%26housing-connector%3D0%26abo%3D0%26garage%3D0%26pool%3D0%26ac%3D0%26waterfront%3D0%26finished%3D0%26unfinished%3D0%26cityview%3D0%26mountainview%3D0%26parkview%3D0%26waterview%3D0%26hoadata%3D1%26zillow-owned%3D0%263dhome%3D0%09%096181%09%09%09%09%09%09',\n",
    "        'sec-fetch-dest': 'document',\n",
    "        'sec-fetch-mode': 'navigate',\n",
    "        'sec-fetch-site': 'same-origin',\n",
    "        'sec-fetch-user': '?1',\n",
    "        'upgrade-insecure-requests': '1',\n",
    "        'user-agent': 'Mozilla/5.0 (Macintosh; Intel Mac OS X 10_13_6) AppleWebKit/537.36 (KHTML, like Gecko) Chrome/83.0.4103.61 Safari/537.36'\n",
    "    }\n",
    "\n",
    "    def fetch(self, url, params):\n",
    "        response = requests.get(url, headers=self.headers, params=params)\n",
    "        print(response.status_code)\n",
    "        return response\n",
    "\n",
    "    def parse(self, response):\n",
    "        content = BeautifulSoup(response, 'lxml')\n",
    "        deck = content.find('ul', {'class': 'photo-cards photo-cards_wow photo-cards_short'})\n",
    "        for card in deck.contents:\n",
    "            script = card.find('script', {'type': 'application/ld+json'})\n",
    "            if script:\n",
    "                script_json = json.loads(script.contents[0])\n",
    "\n",
    "                self.results.append({\n",
    "                    'latitude': script_json['geo']['latitude'],\n",
    "                    'longitude': script_json['geo']['longitude'],\n",
    "                    'floorSize': script_json['floorSize']['value'],\n",
    "                    'url': script_json['url'],\n",
    "                    'price': card.find('div', {'class': 'list-card-price'}).text,\n",
    "                    'details': card.find('ul',{'class': 'list-card-details'}),\n",
    "\n",
    "                })\n",
    "\n",
    "    def to_csv(self):\n",
    "        with open('zillow.csv', 'w') as csv_file:\n",
    "            writer = csv.DictWriter(csv_file, fieldnames=self.results[0].keys())\n",
    "            writer.writeheader()\n",
    "\n",
    "            for row in self.results:\n",
    "                writer.writerow(row)\n",
    "\n",
    "    def run(self):\n",
    "        url = 'https://www.zillow.com/seattle-wa/houses/' #https://www.zillow.com/new-york-ny/fsbo/\n",
    "\n",
    "        for page in range(1, 13):\n",
    "            params = {\n",
    "                'searchQueryState': '{\"pagination\":{\"currentPage\": %s},\"mapBounds\":{\"west\":-74.40093013281245,\"east\":-73.55498286718745,\"south\":40.4487909557045,\"north\":40.96202658306895},\"regionSelection\":[{\"regionId\":6181,\"regionType\":6}],\"isMapVisible\":false,\"filterState\":{\"isForSaleByAgent\":{\"value\":false},\"isNewConstruction\":{\"value\":false},\"isForSaleForeclosure\":{\"value\":false},\"isComingSoon\":{\"value\":false},\"isAuction\":{\"value\":false}},\"isListVisible\":true}' %page\n",
    "            }\n",
    "            res = self.fetch(url, params)\n",
    "            self.parse(res.text)\n",
    "            time.sleep(2)\n",
    "        self.to_csv()\n",
    "\n",
    "\n",
    "if __name__ == '__main__':\n",
    "    scraper = ZillowScraper()\n",
    "    scraper.run()"
   ],
   "metadata": {
    "collapsed": false,
    "pycharm": {
     "name": "#%%\n"
    }
   }
  },
  {
   "cell_type": "code",
   "execution_count": 222,
   "outputs": [
    {
     "name": "stdout",
     "output_type": "stream",
     "text": [
      "<class 'pandas.core.frame.DataFrame'>\n",
      "RangeIndex: 42 entries, 0 to 41\n",
      "Data columns (total 6 columns):\n",
      " #   Column     Non-Null Count  Dtype  \n",
      "---  ------     --------------  -----  \n",
      " 0   latitude   42 non-null     float64\n",
      " 1   longitude  42 non-null     float64\n",
      " 2   floorSize  42 non-null     object \n",
      " 3   url        42 non-null     object \n",
      " 4   price      42 non-null     object \n",
      " 5   details    42 non-null     object \n",
      "dtypes: float64(2), object(4)\n",
      "memory usage: 1.4+ KB\n"
     ]
    }
   ],
   "source": [
    "df = pd.read_csv(\"zillow.csv\")\n",
    "df.info()"
   ],
   "metadata": {
    "collapsed": false,
    "pycharm": {
     "name": "#%%\n"
    }
   }
  },
  {
   "cell_type": "code",
   "execution_count": 223,
   "outputs": [],
   "source": [
    "df = df.replace('<ul class=\"list-card-details\"><li class=\"\">', ' ', regex=True)\n",
    "df = df.replace('<abbr class=\"list-card-label\"> <!-- -->', ' ', regex=True)\n",
    "df = df.replace('</abbr></li><li class=\"\">', ' ', regex=True)\n",
    "df = df.replace('<abbr class=\"list-card-label\"> <!-- -->', ' ', regex=True)\n",
    "df = df.replace('</abbr></li><li class=\"list-card-statusText\">', ' ', regex=True)\n",
    "df = df.replace('</li></ul>', ' ', regex=True)\n",
    "df = df.replace('</li><li class=\"\">', ' ', regex=True)\n",
    "df = df.replace('Studio', '1 Studio ', regex=True)\n",
    "df = df.replace('- ', '', regex=True)\n"
   ],
   "metadata": {
    "collapsed": false,
    "pycharm": {
     "name": "#%%\n"
    }
   }
  },
  {
   "cell_type": "code",
   "execution_count": 227,
   "outputs": [],
   "source": [
    "# new data frame with split value columns\n",
    "# new data frame with split value columns\n",
    "new = df[\"details\"].str.split(\" \", n = 7, expand = True)\n",
    "\n",
    "# making separate last name column from new data frame\n",
    "df[\"beds\"]= new[1]\n",
    "df[\"baths\"]= new[3]\n",
    "df[\"sqft\"]= new[5]\n",
    "df[\"forsaleby\"]= new[7]\n"
   ],
   "metadata": {
    "collapsed": false,
    "pycharm": {
     "name": "#%%\n"
    }
   }
  },
  {
   "cell_type": "code",
   "execution_count": 228,
   "outputs": [],
   "source": [
    "nan_value = float(\"NaN\")\n",
    "df.replace(\"\", nan_value, inplace=True)\n",
    "df.dropna(subset = [\"price\",'beds','baths','sqft'], inplace=True)"
   ],
   "metadata": {
    "collapsed": false,
    "pycharm": {
     "name": "#%%\n"
    }
   }
  },
  {
   "cell_type": "code",
   "execution_count": 226,
   "outputs": [
    {
     "data": {
      "text/plain": "     latitude   longitude floorSize                                                url       price                                    details beds baths   sqft           forsaleby\n0   40.801077  -73.947794       830  https://www.zillow.com/homedetails/40-W-116th-...    $995,000     2 bds 1 ba 830 sqft For sale by owner     2     1    830  For sale by owner \n1   40.768959  -73.956041       800  https://www.zillow.com/homedetails/345-E-73rd-...    $795,000     2 bds 1 ba 800 sqft For sale by owner     2     1    800  For sale by owner \n2   40.707698  -74.009803     1,387  https://www.zillow.com/homedetails/20-Pine-St-...  $1,568,000   2 bds 2 ba 1,387 sqft For sale by owner     2     2  1,387  For sale by owner \n3   40.766042  -73.952338       477  https://www.zillow.com/homedetails/524-E-72nd-...    $775,000      1 bd 1 ba 477 sqft For sale by owner     1     1    477  For sale by owner \n5   40.766900  -73.928955       630  https://www.zillow.com/homedetails/2117-31st-A...    $746,000      1 bd 1 ba 630 sqft For sale by owner     1     1    630  For sale by owner \n7   40.684817  -73.966614       625  https://www.zillow.com/homedetails/451-Clinton...    $675,000      1 bd 1 ba 625 sqft For sale by owner     1     1    625  For sale by owner \n8   40.773471  -73.952304       590  https://www.zillow.com/homedetails/345-E-80th-...    $800,000      1 bd 1 ba 590 sqft For sale by owner     1     1    590  For sale by owner \n9   47.719222 -122.314786     1,620  https://www.zillow.com/homedetails/1211-NE-125...  $1,000,000   4 bds 3 ba 1,620 sqft For sale by owner     4     3  1,620  For sale by owner \n10  47.613218 -122.298036     1,215  https://www.zillow.com/homedetails/2616-E-Unio...    $950,000   3 bds 2 ba 1,215 sqft For sale by owner     3     2  1,215  For sale by owner \n11  47.612565 -122.338884     1,607  https://www.zillow.com/homedetails/1920-4th-Av...  $1,450,000   2 bds 2 ba 1,607 sqft For sale by owner     2     2  1,607  For sale by owner \n12  47.719222 -122.314786     1,620  https://www.zillow.com/homedetails/1211-NE-125...  $1,000,000   4 bds 3 ba 1,620 sqft For sale by owner     4     3  1,620  For sale by owner \n13  47.613218 -122.298036     1,215  https://www.zillow.com/homedetails/2616-E-Unio...    $950,000   3 bds 2 ba 1,215 sqft For sale by owner     3     2  1,215  For sale by owner \n14  47.612565 -122.338884     1,607  https://www.zillow.com/homedetails/1920-4th-Av...  $1,450,000   2 bds 2 ba 1,607 sqft For sale by owner     2     2  1,607  For sale by owner \n15  47.719222 -122.314786     1,620  https://www.zillow.com/homedetails/1211-NE-125...  $1,000,000   4 bds 3 ba 1,620 sqft For sale by owner     4     3  1,620  For sale by owner \n16  47.613218 -122.298036     1,215  https://www.zillow.com/homedetails/2616-E-Unio...    $950,000   3 bds 2 ba 1,215 sqft For sale by owner     3     2  1,215  For sale by owner \n17  47.612565 -122.338884     1,607  https://www.zillow.com/homedetails/1920-4th-Av...  $1,450,000   2 bds 2 ba 1,607 sqft For sale by owner     2     2  1,607  For sale by owner \n18  47.719222 -122.314786     1,620  https://www.zillow.com/homedetails/1211-NE-125...  $1,000,000   4 bds 3 ba 1,620 sqft For sale by owner     4     3  1,620  For sale by owner \n19  47.613218 -122.298036     1,215  https://www.zillow.com/homedetails/2616-E-Unio...    $950,000   3 bds 2 ba 1,215 sqft For sale by owner     3     2  1,215  For sale by owner \n20  47.612565 -122.338884     1,607  https://www.zillow.com/homedetails/1920-4th-Av...  $1,450,000   2 bds 2 ba 1,607 sqft For sale by owner     2     2  1,607  For sale by owner \n21  47.719222 -122.314786     1,620  https://www.zillow.com/homedetails/1211-NE-125...  $1,000,000   4 bds 3 ba 1,620 sqft For sale by owner     4     3  1,620  For sale by owner \n22  47.613218 -122.298036     1,215  https://www.zillow.com/homedetails/2616-E-Unio...    $950,000   3 bds 2 ba 1,215 sqft For sale by owner     3     2  1,215  For sale by owner \n23  47.612565 -122.338884     1,607  https://www.zillow.com/homedetails/1920-4th-Av...  $1,450,000   2 bds 2 ba 1,607 sqft For sale by owner     2     2  1,607  For sale by owner \n24  47.719222 -122.314786     1,620  https://www.zillow.com/homedetails/1211-NE-125...  $1,000,000   4 bds 3 ba 1,620 sqft For sale by owner     4     3  1,620  For sale by owner \n25  47.613218 -122.298036     1,215  https://www.zillow.com/homedetails/2616-E-Unio...    $950,000   3 bds 2 ba 1,215 sqft For sale by owner     3     2  1,215  For sale by owner \n26  47.612565 -122.338884     1,607  https://www.zillow.com/homedetails/1920-4th-Av...  $1,450,000   2 bds 2 ba 1,607 sqft For sale by owner     2     2  1,607  For sale by owner \n27  47.719222 -122.314786     1,620  https://www.zillow.com/homedetails/1211-NE-125...  $1,000,000   4 bds 3 ba 1,620 sqft For sale by owner     4     3  1,620  For sale by owner \n28  47.613218 -122.298036     1,215  https://www.zillow.com/homedetails/2616-E-Unio...    $950,000   3 bds 2 ba 1,215 sqft For sale by owner     3     2  1,215  For sale by owner \n29  47.612565 -122.338884     1,607  https://www.zillow.com/homedetails/1920-4th-Av...  $1,450,000   2 bds 2 ba 1,607 sqft For sale by owner     2     2  1,607  For sale by owner \n30  47.719222 -122.314786     1,620  https://www.zillow.com/homedetails/1211-NE-125...  $1,000,000   4 bds 3 ba 1,620 sqft For sale by owner     4     3  1,620  For sale by owner \n31  47.613218 -122.298036     1,215  https://www.zillow.com/homedetails/2616-E-Unio...    $950,000   3 bds 2 ba 1,215 sqft For sale by owner     3     2  1,215  For sale by owner \n32  47.612565 -122.338884     1,607  https://www.zillow.com/homedetails/1920-4th-Av...  $1,450,000   2 bds 2 ba 1,607 sqft For sale by owner     2     2  1,607  For sale by owner \n33  47.719222 -122.314786     1,620  https://www.zillow.com/homedetails/1211-NE-125...  $1,000,000   4 bds 3 ba 1,620 sqft For sale by owner     4     3  1,620  For sale by owner \n34  47.613218 -122.298036     1,215  https://www.zillow.com/homedetails/2616-E-Unio...    $950,000   3 bds 2 ba 1,215 sqft For sale by owner     3     2  1,215  For sale by owner \n35  47.612565 -122.338884     1,607  https://www.zillow.com/homedetails/1920-4th-Av...  $1,450,000   2 bds 2 ba 1,607 sqft For sale by owner     2     2  1,607  For sale by owner \n36  47.719222 -122.314786     1,620  https://www.zillow.com/homedetails/1211-NE-125...  $1,000,000   4 bds 3 ba 1,620 sqft For sale by owner     4     3  1,620  For sale by owner \n37  47.613218 -122.298036     1,215  https://www.zillow.com/homedetails/2616-E-Unio...    $950,000   3 bds 2 ba 1,215 sqft For sale by owner     3     2  1,215  For sale by owner \n38  47.612565 -122.338884     1,607  https://www.zillow.com/homedetails/1920-4th-Av...  $1,450,000   2 bds 2 ba 1,607 sqft For sale by owner     2     2  1,607  For sale by owner \n39  47.719222 -122.314786     1,620  https://www.zillow.com/homedetails/1211-NE-125...  $1,000,000   4 bds 3 ba 1,620 sqft For sale by owner     4     3  1,620  For sale by owner \n40  47.613218 -122.298036     1,215  https://www.zillow.com/homedetails/2616-E-Unio...    $950,000   3 bds 2 ba 1,215 sqft For sale by owner     3     2  1,215  For sale by owner \n41  47.612565 -122.338884     1,607  https://www.zillow.com/homedetails/1920-4th-Av...  $1,450,000   2 bds 2 ba 1,607 sqft For sale by owner     2     2  1,607  For sale by owner ",
      "text/html": "<div>\n<style scoped>\n    .dataframe tbody tr th:only-of-type {\n        vertical-align: middle;\n    }\n\n    .dataframe tbody tr th {\n        vertical-align: top;\n    }\n\n    .dataframe thead th {\n        text-align: right;\n    }\n</style>\n<table border=\"1\" class=\"dataframe\">\n  <thead>\n    <tr style=\"text-align: right;\">\n      <th></th>\n      <th>latitude</th>\n      <th>longitude</th>\n      <th>floorSize</th>\n      <th>url</th>\n      <th>price</th>\n      <th>details</th>\n      <th>beds</th>\n      <th>baths</th>\n      <th>sqft</th>\n      <th>forsaleby</th>\n    </tr>\n  </thead>\n  <tbody>\n    <tr>\n      <th>0</th>\n      <td>40.801077</td>\n      <td>-73.947794</td>\n      <td>830</td>\n      <td>https://www.zillow.com/homedetails/40-W-116th-...</td>\n      <td>$995,000</td>\n      <td>2 bds 1 ba 830 sqft For sale by owner</td>\n      <td>2</td>\n      <td>1</td>\n      <td>830</td>\n      <td>For sale by owner</td>\n    </tr>\n    <tr>\n      <th>1</th>\n      <td>40.768959</td>\n      <td>-73.956041</td>\n      <td>800</td>\n      <td>https://www.zillow.com/homedetails/345-E-73rd-...</td>\n      <td>$795,000</td>\n      <td>2 bds 1 ba 800 sqft For sale by owner</td>\n      <td>2</td>\n      <td>1</td>\n      <td>800</td>\n      <td>For sale by owner</td>\n    </tr>\n    <tr>\n      <th>2</th>\n      <td>40.707698</td>\n      <td>-74.009803</td>\n      <td>1,387</td>\n      <td>https://www.zillow.com/homedetails/20-Pine-St-...</td>\n      <td>$1,568,000</td>\n      <td>2 bds 2 ba 1,387 sqft For sale by owner</td>\n      <td>2</td>\n      <td>2</td>\n      <td>1,387</td>\n      <td>For sale by owner</td>\n    </tr>\n    <tr>\n      <th>3</th>\n      <td>40.766042</td>\n      <td>-73.952338</td>\n      <td>477</td>\n      <td>https://www.zillow.com/homedetails/524-E-72nd-...</td>\n      <td>$775,000</td>\n      <td>1 bd 1 ba 477 sqft For sale by owner</td>\n      <td>1</td>\n      <td>1</td>\n      <td>477</td>\n      <td>For sale by owner</td>\n    </tr>\n    <tr>\n      <th>5</th>\n      <td>40.766900</td>\n      <td>-73.928955</td>\n      <td>630</td>\n      <td>https://www.zillow.com/homedetails/2117-31st-A...</td>\n      <td>$746,000</td>\n      <td>1 bd 1 ba 630 sqft For sale by owner</td>\n      <td>1</td>\n      <td>1</td>\n      <td>630</td>\n      <td>For sale by owner</td>\n    </tr>\n    <tr>\n      <th>7</th>\n      <td>40.684817</td>\n      <td>-73.966614</td>\n      <td>625</td>\n      <td>https://www.zillow.com/homedetails/451-Clinton...</td>\n      <td>$675,000</td>\n      <td>1 bd 1 ba 625 sqft For sale by owner</td>\n      <td>1</td>\n      <td>1</td>\n      <td>625</td>\n      <td>For sale by owner</td>\n    </tr>\n    <tr>\n      <th>8</th>\n      <td>40.773471</td>\n      <td>-73.952304</td>\n      <td>590</td>\n      <td>https://www.zillow.com/homedetails/345-E-80th-...</td>\n      <td>$800,000</td>\n      <td>1 bd 1 ba 590 sqft For sale by owner</td>\n      <td>1</td>\n      <td>1</td>\n      <td>590</td>\n      <td>For sale by owner</td>\n    </tr>\n    <tr>\n      <th>9</th>\n      <td>47.719222</td>\n      <td>-122.314786</td>\n      <td>1,620</td>\n      <td>https://www.zillow.com/homedetails/1211-NE-125...</td>\n      <td>$1,000,000</td>\n      <td>4 bds 3 ba 1,620 sqft For sale by owner</td>\n      <td>4</td>\n      <td>3</td>\n      <td>1,620</td>\n      <td>For sale by owner</td>\n    </tr>\n    <tr>\n      <th>10</th>\n      <td>47.613218</td>\n      <td>-122.298036</td>\n      <td>1,215</td>\n      <td>https://www.zillow.com/homedetails/2616-E-Unio...</td>\n      <td>$950,000</td>\n      <td>3 bds 2 ba 1,215 sqft For sale by owner</td>\n      <td>3</td>\n      <td>2</td>\n      <td>1,215</td>\n      <td>For sale by owner</td>\n    </tr>\n    <tr>\n      <th>11</th>\n      <td>47.612565</td>\n      <td>-122.338884</td>\n      <td>1,607</td>\n      <td>https://www.zillow.com/homedetails/1920-4th-Av...</td>\n      <td>$1,450,000</td>\n      <td>2 bds 2 ba 1,607 sqft For sale by owner</td>\n      <td>2</td>\n      <td>2</td>\n      <td>1,607</td>\n      <td>For sale by owner</td>\n    </tr>\n    <tr>\n      <th>12</th>\n      <td>47.719222</td>\n      <td>-122.314786</td>\n      <td>1,620</td>\n      <td>https://www.zillow.com/homedetails/1211-NE-125...</td>\n      <td>$1,000,000</td>\n      <td>4 bds 3 ba 1,620 sqft For sale by owner</td>\n      <td>4</td>\n      <td>3</td>\n      <td>1,620</td>\n      <td>For sale by owner</td>\n    </tr>\n    <tr>\n      <th>13</th>\n      <td>47.613218</td>\n      <td>-122.298036</td>\n      <td>1,215</td>\n      <td>https://www.zillow.com/homedetails/2616-E-Unio...</td>\n      <td>$950,000</td>\n      <td>3 bds 2 ba 1,215 sqft For sale by owner</td>\n      <td>3</td>\n      <td>2</td>\n      <td>1,215</td>\n      <td>For sale by owner</td>\n    </tr>\n    <tr>\n      <th>14</th>\n      <td>47.612565</td>\n      <td>-122.338884</td>\n      <td>1,607</td>\n      <td>https://www.zillow.com/homedetails/1920-4th-Av...</td>\n      <td>$1,450,000</td>\n      <td>2 bds 2 ba 1,607 sqft For sale by owner</td>\n      <td>2</td>\n      <td>2</td>\n      <td>1,607</td>\n      <td>For sale by owner</td>\n    </tr>\n    <tr>\n      <th>15</th>\n      <td>47.719222</td>\n      <td>-122.314786</td>\n      <td>1,620</td>\n      <td>https://www.zillow.com/homedetails/1211-NE-125...</td>\n      <td>$1,000,000</td>\n      <td>4 bds 3 ba 1,620 sqft For sale by owner</td>\n      <td>4</td>\n      <td>3</td>\n      <td>1,620</td>\n      <td>For sale by owner</td>\n    </tr>\n    <tr>\n      <th>16</th>\n      <td>47.613218</td>\n      <td>-122.298036</td>\n      <td>1,215</td>\n      <td>https://www.zillow.com/homedetails/2616-E-Unio...</td>\n      <td>$950,000</td>\n      <td>3 bds 2 ba 1,215 sqft For sale by owner</td>\n      <td>3</td>\n      <td>2</td>\n      <td>1,215</td>\n      <td>For sale by owner</td>\n    </tr>\n    <tr>\n      <th>17</th>\n      <td>47.612565</td>\n      <td>-122.338884</td>\n      <td>1,607</td>\n      <td>https://www.zillow.com/homedetails/1920-4th-Av...</td>\n      <td>$1,450,000</td>\n      <td>2 bds 2 ba 1,607 sqft For sale by owner</td>\n      <td>2</td>\n      <td>2</td>\n      <td>1,607</td>\n      <td>For sale by owner</td>\n    </tr>\n    <tr>\n      <th>18</th>\n      <td>47.719222</td>\n      <td>-122.314786</td>\n      <td>1,620</td>\n      <td>https://www.zillow.com/homedetails/1211-NE-125...</td>\n      <td>$1,000,000</td>\n      <td>4 bds 3 ba 1,620 sqft For sale by owner</td>\n      <td>4</td>\n      <td>3</td>\n      <td>1,620</td>\n      <td>For sale by owner</td>\n    </tr>\n    <tr>\n      <th>19</th>\n      <td>47.613218</td>\n      <td>-122.298036</td>\n      <td>1,215</td>\n      <td>https://www.zillow.com/homedetails/2616-E-Unio...</td>\n      <td>$950,000</td>\n      <td>3 bds 2 ba 1,215 sqft For sale by owner</td>\n      <td>3</td>\n      <td>2</td>\n      <td>1,215</td>\n      <td>For sale by owner</td>\n    </tr>\n    <tr>\n      <th>20</th>\n      <td>47.612565</td>\n      <td>-122.338884</td>\n      <td>1,607</td>\n      <td>https://www.zillow.com/homedetails/1920-4th-Av...</td>\n      <td>$1,450,000</td>\n      <td>2 bds 2 ba 1,607 sqft For sale by owner</td>\n      <td>2</td>\n      <td>2</td>\n      <td>1,607</td>\n      <td>For sale by owner</td>\n    </tr>\n    <tr>\n      <th>21</th>\n      <td>47.719222</td>\n      <td>-122.314786</td>\n      <td>1,620</td>\n      <td>https://www.zillow.com/homedetails/1211-NE-125...</td>\n      <td>$1,000,000</td>\n      <td>4 bds 3 ba 1,620 sqft For sale by owner</td>\n      <td>4</td>\n      <td>3</td>\n      <td>1,620</td>\n      <td>For sale by owner</td>\n    </tr>\n    <tr>\n      <th>22</th>\n      <td>47.613218</td>\n      <td>-122.298036</td>\n      <td>1,215</td>\n      <td>https://www.zillow.com/homedetails/2616-E-Unio...</td>\n      <td>$950,000</td>\n      <td>3 bds 2 ba 1,215 sqft For sale by owner</td>\n      <td>3</td>\n      <td>2</td>\n      <td>1,215</td>\n      <td>For sale by owner</td>\n    </tr>\n    <tr>\n      <th>23</th>\n      <td>47.612565</td>\n      <td>-122.338884</td>\n      <td>1,607</td>\n      <td>https://www.zillow.com/homedetails/1920-4th-Av...</td>\n      <td>$1,450,000</td>\n      <td>2 bds 2 ba 1,607 sqft For sale by owner</td>\n      <td>2</td>\n      <td>2</td>\n      <td>1,607</td>\n      <td>For sale by owner</td>\n    </tr>\n    <tr>\n      <th>24</th>\n      <td>47.719222</td>\n      <td>-122.314786</td>\n      <td>1,620</td>\n      <td>https://www.zillow.com/homedetails/1211-NE-125...</td>\n      <td>$1,000,000</td>\n      <td>4 bds 3 ba 1,620 sqft For sale by owner</td>\n      <td>4</td>\n      <td>3</td>\n      <td>1,620</td>\n      <td>For sale by owner</td>\n    </tr>\n    <tr>\n      <th>25</th>\n      <td>47.613218</td>\n      <td>-122.298036</td>\n      <td>1,215</td>\n      <td>https://www.zillow.com/homedetails/2616-E-Unio...</td>\n      <td>$950,000</td>\n      <td>3 bds 2 ba 1,215 sqft For sale by owner</td>\n      <td>3</td>\n      <td>2</td>\n      <td>1,215</td>\n      <td>For sale by owner</td>\n    </tr>\n    <tr>\n      <th>26</th>\n      <td>47.612565</td>\n      <td>-122.338884</td>\n      <td>1,607</td>\n      <td>https://www.zillow.com/homedetails/1920-4th-Av...</td>\n      <td>$1,450,000</td>\n      <td>2 bds 2 ba 1,607 sqft For sale by owner</td>\n      <td>2</td>\n      <td>2</td>\n      <td>1,607</td>\n      <td>For sale by owner</td>\n    </tr>\n    <tr>\n      <th>27</th>\n      <td>47.719222</td>\n      <td>-122.314786</td>\n      <td>1,620</td>\n      <td>https://www.zillow.com/homedetails/1211-NE-125...</td>\n      <td>$1,000,000</td>\n      <td>4 bds 3 ba 1,620 sqft For sale by owner</td>\n      <td>4</td>\n      <td>3</td>\n      <td>1,620</td>\n      <td>For sale by owner</td>\n    </tr>\n    <tr>\n      <th>28</th>\n      <td>47.613218</td>\n      <td>-122.298036</td>\n      <td>1,215</td>\n      <td>https://www.zillow.com/homedetails/2616-E-Unio...</td>\n      <td>$950,000</td>\n      <td>3 bds 2 ba 1,215 sqft For sale by owner</td>\n      <td>3</td>\n      <td>2</td>\n      <td>1,215</td>\n      <td>For sale by owner</td>\n    </tr>\n    <tr>\n      <th>29</th>\n      <td>47.612565</td>\n      <td>-122.338884</td>\n      <td>1,607</td>\n      <td>https://www.zillow.com/homedetails/1920-4th-Av...</td>\n      <td>$1,450,000</td>\n      <td>2 bds 2 ba 1,607 sqft For sale by owner</td>\n      <td>2</td>\n      <td>2</td>\n      <td>1,607</td>\n      <td>For sale by owner</td>\n    </tr>\n    <tr>\n      <th>30</th>\n      <td>47.719222</td>\n      <td>-122.314786</td>\n      <td>1,620</td>\n      <td>https://www.zillow.com/homedetails/1211-NE-125...</td>\n      <td>$1,000,000</td>\n      <td>4 bds 3 ba 1,620 sqft For sale by owner</td>\n      <td>4</td>\n      <td>3</td>\n      <td>1,620</td>\n      <td>For sale by owner</td>\n    </tr>\n    <tr>\n      <th>31</th>\n      <td>47.613218</td>\n      <td>-122.298036</td>\n      <td>1,215</td>\n      <td>https://www.zillow.com/homedetails/2616-E-Unio...</td>\n      <td>$950,000</td>\n      <td>3 bds 2 ba 1,215 sqft For sale by owner</td>\n      <td>3</td>\n      <td>2</td>\n      <td>1,215</td>\n      <td>For sale by owner</td>\n    </tr>\n    <tr>\n      <th>32</th>\n      <td>47.612565</td>\n      <td>-122.338884</td>\n      <td>1,607</td>\n      <td>https://www.zillow.com/homedetails/1920-4th-Av...</td>\n      <td>$1,450,000</td>\n      <td>2 bds 2 ba 1,607 sqft For sale by owner</td>\n      <td>2</td>\n      <td>2</td>\n      <td>1,607</td>\n      <td>For sale by owner</td>\n    </tr>\n    <tr>\n      <th>33</th>\n      <td>47.719222</td>\n      <td>-122.314786</td>\n      <td>1,620</td>\n      <td>https://www.zillow.com/homedetails/1211-NE-125...</td>\n      <td>$1,000,000</td>\n      <td>4 bds 3 ba 1,620 sqft For sale by owner</td>\n      <td>4</td>\n      <td>3</td>\n      <td>1,620</td>\n      <td>For sale by owner</td>\n    </tr>\n    <tr>\n      <th>34</th>\n      <td>47.613218</td>\n      <td>-122.298036</td>\n      <td>1,215</td>\n      <td>https://www.zillow.com/homedetails/2616-E-Unio...</td>\n      <td>$950,000</td>\n      <td>3 bds 2 ba 1,215 sqft For sale by owner</td>\n      <td>3</td>\n      <td>2</td>\n      <td>1,215</td>\n      <td>For sale by owner</td>\n    </tr>\n    <tr>\n      <th>35</th>\n      <td>47.612565</td>\n      <td>-122.338884</td>\n      <td>1,607</td>\n      <td>https://www.zillow.com/homedetails/1920-4th-Av...</td>\n      <td>$1,450,000</td>\n      <td>2 bds 2 ba 1,607 sqft For sale by owner</td>\n      <td>2</td>\n      <td>2</td>\n      <td>1,607</td>\n      <td>For sale by owner</td>\n    </tr>\n    <tr>\n      <th>36</th>\n      <td>47.719222</td>\n      <td>-122.314786</td>\n      <td>1,620</td>\n      <td>https://www.zillow.com/homedetails/1211-NE-125...</td>\n      <td>$1,000,000</td>\n      <td>4 bds 3 ba 1,620 sqft For sale by owner</td>\n      <td>4</td>\n      <td>3</td>\n      <td>1,620</td>\n      <td>For sale by owner</td>\n    </tr>\n    <tr>\n      <th>37</th>\n      <td>47.613218</td>\n      <td>-122.298036</td>\n      <td>1,215</td>\n      <td>https://www.zillow.com/homedetails/2616-E-Unio...</td>\n      <td>$950,000</td>\n      <td>3 bds 2 ba 1,215 sqft For sale by owner</td>\n      <td>3</td>\n      <td>2</td>\n      <td>1,215</td>\n      <td>For sale by owner</td>\n    </tr>\n    <tr>\n      <th>38</th>\n      <td>47.612565</td>\n      <td>-122.338884</td>\n      <td>1,607</td>\n      <td>https://www.zillow.com/homedetails/1920-4th-Av...</td>\n      <td>$1,450,000</td>\n      <td>2 bds 2 ba 1,607 sqft For sale by owner</td>\n      <td>2</td>\n      <td>2</td>\n      <td>1,607</td>\n      <td>For sale by owner</td>\n    </tr>\n    <tr>\n      <th>39</th>\n      <td>47.719222</td>\n      <td>-122.314786</td>\n      <td>1,620</td>\n      <td>https://www.zillow.com/homedetails/1211-NE-125...</td>\n      <td>$1,000,000</td>\n      <td>4 bds 3 ba 1,620 sqft For sale by owner</td>\n      <td>4</td>\n      <td>3</td>\n      <td>1,620</td>\n      <td>For sale by owner</td>\n    </tr>\n    <tr>\n      <th>40</th>\n      <td>47.613218</td>\n      <td>-122.298036</td>\n      <td>1,215</td>\n      <td>https://www.zillow.com/homedetails/2616-E-Unio...</td>\n      <td>$950,000</td>\n      <td>3 bds 2 ba 1,215 sqft For sale by owner</td>\n      <td>3</td>\n      <td>2</td>\n      <td>1,215</td>\n      <td>For sale by owner</td>\n    </tr>\n    <tr>\n      <th>41</th>\n      <td>47.612565</td>\n      <td>-122.338884</td>\n      <td>1,607</td>\n      <td>https://www.zillow.com/homedetails/1920-4th-Av...</td>\n      <td>$1,450,000</td>\n      <td>2 bds 2 ba 1,607 sqft For sale by owner</td>\n      <td>2</td>\n      <td>2</td>\n      <td>1,607</td>\n      <td>For sale by owner</td>\n    </tr>\n  </tbody>\n</table>\n</div>"
     },
     "execution_count": 226,
     "metadata": {},
     "output_type": "execute_result"
    }
   ],
   "source": [
    "df.head(5)"
   ],
   "metadata": {
    "collapsed": false,
    "pycharm": {
     "name": "#%%\n"
    }
   }
  }
 ],
 "metadata": {
  "kernelspec": {
   "display_name": "Python 3",
   "language": "python",
   "name": "python3"
  },
  "language_info": {
   "codemirror_mode": {
    "name": "ipython",
    "version": 2
   },
   "file_extension": ".py",
   "mimetype": "text/x-python",
   "name": "python",
   "nbconvert_exporter": "python",
   "pygments_lexer": "ipython2",
   "version": "2.7.6"
  }
 },
 "nbformat": 4,
 "nbformat_minor": 0
}